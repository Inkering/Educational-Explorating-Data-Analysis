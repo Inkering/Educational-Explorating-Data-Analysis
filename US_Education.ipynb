{
  "nbformat": 4,
  "nbformat_minor": 0,
  "metadata": {
    "colab": {
      "name": "US_Education.ipynb",
      "provenance": [],
      "collapsed_sections": [
        "evtCo9zSidD_",
        "nzQUQxLAsGAO",
        "DMM5PaxCsVl-",
        "wtCmh2Mbs779",
        "OD_L7p9G374b",
        "fpLfPbTmojJY",
        "NQqrt-5gbkrf",
        "wJ3Bw-1v3gEj",
        "lfqWMaQE4QLC"
      ],
      "include_colab_link": true
    },
    "kernelspec": {
      "name": "python3",
      "display_name": "Python 3"
    }
  },
  "cells": [
    {
      "cell_type": "markdown",
      "metadata": {
        "id": "view-in-github",
        "colab_type": "text"
      },
      "source": [
        "<a href=\"https://colab.research.google.com/github/Inkering/Educational-Exploratory-Data-Analysis/blob/master/US_Education.ipynb\" target=\"_parent\"><img src=\"https://colab.research.google.com/assets/colab-badge.svg\" alt=\"Open In Colab\"/></a>"
      ]
    },
    {
      "cell_type": "markdown",
      "metadata": {
        "id": "XXWW56Afhy02",
        "colab_type": "text"
      },
      "source": [
        "# Predicting Scores of U.S. 8th Graders\n",
        "By Case\n",
        "\n",
        "In this project, I use school statistics to predict national math test scores. This project is an exploration of what school statistics correlate the most with typical 'achievement' metrics, in order to see where students (and their schools) need more help for that 'achievement' or the possible bias in those 'achievement' metrics."
      ]
    },
    {
      "cell_type": "markdown",
      "metadata": {
        "id": "evtCo9zSidD_",
        "colab_type": "text"
      },
      "source": [
        "## Background"
      ]
    },
    {
      "cell_type": "markdown",
      "metadata": {
        "id": "3xWawBZ7h39p",
        "colab_type": "text"
      },
      "source": [
        "**Database:** To get national U.S. public school data, I used this kaggle dataset https://www.kaggle.com/noriuk/us-education-datasets-unification-project/data#\n",
        "\n",
        "The kaggle dataset has National Assessment of Educational Progress (NAEP) math and english scores, National Center for Education Statistics (NCES) enrollment, gender breakdown, and race demographic information, U.S. census finance information. The information is by state from years 1992 to 2017. \n",
        "\n",
        "**Algorithm:** I used sklearn's linear regression on different school information vs. 8th grade math test scores. I found co-efficients for the correlations between these factors and results, and did a train/test set in order to validate that the factors could predict test scores.\n",
        "\n",
        "**Implications and Context** The state of education in the U.S. right now is one that is divided. Test scores and achievement varies greatly from state to state, and much within the schools and students of those states. My hope for this project was to do some research on what factors correlate with that very different achievement and to find possible explanations for the gaps. Research into those achievement gaps could go towards plans to close the gap or change the achievement metric to be more fair towards everyone."
      ]
    },
    {
      "cell_type": "markdown",
      "metadata": {
        "id": "nzQUQxLAsGAO",
        "colab_type": "text"
      },
      "source": [
        "## Imports and downloads"
      ]
    },
    {
      "cell_type": "code",
      "metadata": {
        "id": "BrS3Nahzb7jL",
        "colab_type": "code",
        "colab": {}
      },
      "source": [
        "# Database downloading and framework\n",
        "import gdown\n",
        "import pandas as pd\n",
        "\n",
        "# Graphing/correlation exploration\n",
        "from matplotlib.lines import Line2D\n",
        "import matplotlib.pyplot as plt\n",
        "%matplotlib inline\n",
        "from matplotlib.ticker import FormatStrFormatter\n",
        "\n",
        "# Linear regression\n",
        "import numpy as np\n",
        "from sklearn.linear_model import LinearRegression\n",
        "from sklearn.model_selection import train_test_split"
      ],
      "execution_count": 0,
      "outputs": []
    },
    {
      "cell_type": "markdown",
      "metadata": {
        "id": "FvOvAVM8BLL3",
        "colab_type": "text"
      },
      "source": [
        "Here I download the dataset, unzip the main file, and create the database from a csv to work with later on"
      ]
    },
    {
      "cell_type": "code",
      "metadata": {
        "id": "HfO7mPCvcaqk",
        "colab_type": "code",
        "outputId": "9fd6167c-602e-460a-a414-9ab3d02167fa",
        "colab": {
          "base_uri": "https://localhost:8080/",
          "height": 0
        }
      },
      "source": [
        "gdown.download('https://drive.google.com/uc?authuser=0&id=1qno1ugZdSDLS4UnI89VpQZl2fVpbQO50&export=download', 'us-education-dataset.zip', False)\n"
      ],
      "execution_count": 2,
      "outputs": [
        {
          "output_type": "stream",
          "text": [
            "Downloading...\n",
            "From: https://drive.google.com/uc?authuser=0&id=1qno1ugZdSDLS4UnI89VpQZl2fVpbQO50&export=download\n",
            "To: /content/us-education-dataset.zip\n",
            "91.6MB [00:01, 65.4MB/s]\n"
          ],
          "name": "stderr"
        },
        {
          "output_type": "execute_result",
          "data": {
            "text/plain": [
              "'us-education-dataset.zip'"
            ]
          },
          "metadata": {
            "tags": []
          },
          "execution_count": 2
        }
      ]
    },
    {
      "cell_type": "code",
      "metadata": {
        "id": "2rrXo525cFwy",
        "colab_type": "code",
        "colab": {}
      },
      "source": [
        "# Unzip datasets\n",
        "!unzip -qq -o us-education-dataset.zip\n",
        "#https://drive.google.com/file/d/1qno1ugZdSDLS4UnI89VpQZl2fVpbQO50/view?usp=sharing\n",
        "#https://drive.google.com/drive/folders/1AsWUQORymT2BeCBVdyk5X8B5RA20d3Um?usp=sharing\n",
        "#https://drive.google.com/file/d/1Z_rAAy-3UCK3yy-c9_Mxnx7Z34oxGwNL/view?usp=sharing"
      ],
      "execution_count": 0,
      "outputs": []
    },
    {
      "cell_type": "code",
      "metadata": {
        "id": "7NqqSOBxBaAb",
        "colab_type": "code",
        "colab": {}
      },
      "source": [
        "states_full_key = pd.read_csv('states_all_extended.csv')"
      ],
      "execution_count": 0,
      "outputs": []
    },
    {
      "cell_type": "markdown",
      "metadata": {
        "id": "DMM5PaxCsVl-",
        "colab_type": "text"
      },
      "source": [
        "## Create Databases and Explore"
      ]
    },
    {
      "cell_type": "markdown",
      "metadata": {
        "id": "nJBsTewDBsBX",
        "colab_type": "text"
      },
      "source": [
        "The states_all_extended.csv which was saved as the states_full_key contains the following information that I use for analysis. \n",
        "\n",
        "STATE - the state the data is for\n",
        "\n",
        "YEAR - year the information was collected\n",
        "\n",
        "TOTAL_REVENUE - the total revenue for the state\n",
        "\n",
        "GRADES_8 - total number of 8th grade students in the state\n",
        "\n",
        "AVG_MATH_8_SCORE - the state's average score for 8th graders taking the NAEP math exam\n",
        "\n",
        "GRADES_8_IN - total number of 8th grade students in the state of a specific demographic (sex or race), IN is a stand in for the initial of that demographic. Initials explained below\n",
        "- AM (American Indian or Alaska Native)\n",
        "- AS (Asian)\n",
        "- HI (Hispanic/Latino)\n",
        "- BL (Black or African American) \n",
        "- WH (White)\n",
        "- HP (Hawaiian Native/Pacific Islander)\n",
        "- TR (Two or More Races) \n",
        "- Sex: M (Male) and F (Female)\n",
        "\n"
      ]
    },
    {
      "cell_type": "code",
      "metadata": {
        "id": "eRnJNzN1gMAx",
        "colab_type": "code",
        "outputId": "86dcb468-1952-4e9b-c060-23f04322dfe6",
        "colab": {
          "base_uri": "https://localhost:8080/",
          "height": 0
        }
      },
      "source": [
        "print(len(states_full_key))\n",
        "states_full_key.head()"
      ],
      "execution_count": 5,
      "outputs": [
        {
          "output_type": "stream",
          "text": [
            "1492\n"
          ],
          "name": "stdout"
        },
        {
          "output_type": "execute_result",
          "data": {
            "text/html": [
              "<div>\n",
              "<style scoped>\n",
              "    .dataframe tbody tr th:only-of-type {\n",
              "        vertical-align: middle;\n",
              "    }\n",
              "\n",
              "    .dataframe tbody tr th {\n",
              "        vertical-align: top;\n",
              "    }\n",
              "\n",
              "    .dataframe thead th {\n",
              "        text-align: right;\n",
              "    }\n",
              "</style>\n",
              "<table border=\"1\" class=\"dataframe\">\n",
              "  <thead>\n",
              "    <tr style=\"text-align: right;\">\n",
              "      <th></th>\n",
              "      <th>PRIMARY_KEY</th>\n",
              "      <th>STATE</th>\n",
              "      <th>YEAR</th>\n",
              "      <th>ENROLL</th>\n",
              "      <th>TOTAL_REVENUE</th>\n",
              "      <th>FEDERAL_REVENUE</th>\n",
              "      <th>STATE_REVENUE</th>\n",
              "      <th>LOCAL_REVENUE</th>\n",
              "      <th>TOTAL_EXPENDITURE</th>\n",
              "      <th>INSTRUCTION_EXPENDITURE</th>\n",
              "      <th>SUPPORT_SERVICES_EXPENDITURE</th>\n",
              "      <th>OTHER_EXPENDITURE</th>\n",
              "      <th>CAPITAL_OUTLAY_EXPENDITURE</th>\n",
              "      <th>GRADES_PK_G</th>\n",
              "      <th>GRADES_KG_G</th>\n",
              "      <th>GRADES_4_G</th>\n",
              "      <th>GRADES_8_G</th>\n",
              "      <th>GRADES_12_G</th>\n",
              "      <th>GRADES_1_8_G</th>\n",
              "      <th>GRADES_9_12_G</th>\n",
              "      <th>GRADES_ALL_G</th>\n",
              "      <th>GRADES_PK_AM</th>\n",
              "      <th>GRADES_KG_AM</th>\n",
              "      <th>GRADES_4_AM</th>\n",
              "      <th>GRADES_8_AM</th>\n",
              "      <th>GRADES_12_AM</th>\n",
              "      <th>GRADES_1_8_AM</th>\n",
              "      <th>GRADES_9_12_AM</th>\n",
              "      <th>GRADES_ALL_AM</th>\n",
              "      <th>GRADES_PK_AS</th>\n",
              "      <th>GRADES_KG_AS</th>\n",
              "      <th>GRADES_4_AS</th>\n",
              "      <th>GRADES_8_AS</th>\n",
              "      <th>GRADES_12_AS</th>\n",
              "      <th>GRADES_1_8_AS</th>\n",
              "      <th>GRADES_9_12_AS</th>\n",
              "      <th>GRADES_ALL_AS</th>\n",
              "      <th>GRADES_PK_HI</th>\n",
              "      <th>GRADES_KG_HI</th>\n",
              "      <th>GRADES_4_HI</th>\n",
              "      <th>...</th>\n",
              "      <th>GRADES_12_WHF</th>\n",
              "      <th>GRADES_1_8_WHF</th>\n",
              "      <th>GRADES_9_12_WHF</th>\n",
              "      <th>GRADES_ALL_WHF</th>\n",
              "      <th>GRADES_PK_HPM</th>\n",
              "      <th>GRADES_KG_HPM</th>\n",
              "      <th>GRADES_4_HPM</th>\n",
              "      <th>GRADES_8_HPM</th>\n",
              "      <th>GRADES_12_HPM</th>\n",
              "      <th>GRADES_1_8_HPM</th>\n",
              "      <th>GRADES_9_12_HPM</th>\n",
              "      <th>GRADES_ALL_HPM</th>\n",
              "      <th>GRADES_PK_HPF</th>\n",
              "      <th>GRADES_KG_HPF</th>\n",
              "      <th>GRADES_4_HPF</th>\n",
              "      <th>GRADES_8_HPF</th>\n",
              "      <th>GRADES_12_HPF</th>\n",
              "      <th>GRADES_1_8_HPF</th>\n",
              "      <th>GRADES_9_12_HPF</th>\n",
              "      <th>GRADES_ALL_HPF</th>\n",
              "      <th>GRADES_PK_TRM</th>\n",
              "      <th>GRADES_KG_TRM</th>\n",
              "      <th>GRADES_4_TRM</th>\n",
              "      <th>GRADES_8_TRM</th>\n",
              "      <th>GRADES_12_TRM</th>\n",
              "      <th>GRADES_1_8_TRM</th>\n",
              "      <th>GRADES_9_12_TRM</th>\n",
              "      <th>GRADES_ALL_TRM</th>\n",
              "      <th>GRADES_PK_TRF</th>\n",
              "      <th>GRADES_KG_TRF</th>\n",
              "      <th>GRADES_4_TRF</th>\n",
              "      <th>GRADES_8_TRF</th>\n",
              "      <th>GRADES_12_TRF</th>\n",
              "      <th>GRADES_1_8_TRF</th>\n",
              "      <th>GRADES_9_12_TRF</th>\n",
              "      <th>GRADES_ALL_TRF</th>\n",
              "      <th>AVG_MATH_4_SCORE</th>\n",
              "      <th>AVG_MATH_8_SCORE</th>\n",
              "      <th>AVG_READING_4_SCORE</th>\n",
              "      <th>AVG_READING_8_SCORE</th>\n",
              "    </tr>\n",
              "  </thead>\n",
              "  <tbody>\n",
              "    <tr>\n",
              "      <th>0</th>\n",
              "      <td>1992_ALABAMA</td>\n",
              "      <td>ALABAMA</td>\n",
              "      <td>1992</td>\n",
              "      <td>NaN</td>\n",
              "      <td>2678885.0</td>\n",
              "      <td>304177.0</td>\n",
              "      <td>1659028.0</td>\n",
              "      <td>715680.0</td>\n",
              "      <td>2653798.0</td>\n",
              "      <td>1481703.0</td>\n",
              "      <td>735036.0</td>\n",
              "      <td>NaN</td>\n",
              "      <td>174053.0</td>\n",
              "      <td>8224.0</td>\n",
              "      <td>55460.0</td>\n",
              "      <td>57948.0</td>\n",
              "      <td>58025.0</td>\n",
              "      <td>41167.0</td>\n",
              "      <td>471564.0</td>\n",
              "      <td>196386.0</td>\n",
              "      <td>676174.0</td>\n",
              "      <td>NaN</td>\n",
              "      <td>172.0</td>\n",
              "      <td>460.0</td>\n",
              "      <td>625.0</td>\n",
              "      <td>446.0</td>\n",
              "      <td>3930.0</td>\n",
              "      <td>2069.0</td>\n",
              "      <td>NaN</td>\n",
              "      <td>NaN</td>\n",
              "      <td>307.0</td>\n",
              "      <td>346.0</td>\n",
              "      <td>306.0</td>\n",
              "      <td>249.0</td>\n",
              "      <td>2651.0</td>\n",
              "      <td>1156.0</td>\n",
              "      <td>NaN</td>\n",
              "      <td>NaN</td>\n",
              "      <td>220.0</td>\n",
              "      <td>173.0</td>\n",
              "      <td>...</td>\n",
              "      <td>NaN</td>\n",
              "      <td>NaN</td>\n",
              "      <td>NaN</td>\n",
              "      <td>NaN</td>\n",
              "      <td>NaN</td>\n",
              "      <td>NaN</td>\n",
              "      <td>NaN</td>\n",
              "      <td>NaN</td>\n",
              "      <td>NaN</td>\n",
              "      <td>NaN</td>\n",
              "      <td>NaN</td>\n",
              "      <td>NaN</td>\n",
              "      <td>NaN</td>\n",
              "      <td>NaN</td>\n",
              "      <td>NaN</td>\n",
              "      <td>NaN</td>\n",
              "      <td>NaN</td>\n",
              "      <td>NaN</td>\n",
              "      <td>NaN</td>\n",
              "      <td>NaN</td>\n",
              "      <td>NaN</td>\n",
              "      <td>NaN</td>\n",
              "      <td>NaN</td>\n",
              "      <td>NaN</td>\n",
              "      <td>NaN</td>\n",
              "      <td>NaN</td>\n",
              "      <td>NaN</td>\n",
              "      <td>NaN</td>\n",
              "      <td>NaN</td>\n",
              "      <td>NaN</td>\n",
              "      <td>NaN</td>\n",
              "      <td>NaN</td>\n",
              "      <td>NaN</td>\n",
              "      <td>NaN</td>\n",
              "      <td>NaN</td>\n",
              "      <td>NaN</td>\n",
              "      <td>208.327876</td>\n",
              "      <td>252.187522</td>\n",
              "      <td>207.963517</td>\n",
              "      <td>NaN</td>\n",
              "    </tr>\n",
              "    <tr>\n",
              "      <th>1</th>\n",
              "      <td>1992_ALASKA</td>\n",
              "      <td>ALASKA</td>\n",
              "      <td>1992</td>\n",
              "      <td>NaN</td>\n",
              "      <td>1049591.0</td>\n",
              "      <td>106780.0</td>\n",
              "      <td>720711.0</td>\n",
              "      <td>222100.0</td>\n",
              "      <td>972488.0</td>\n",
              "      <td>498362.0</td>\n",
              "      <td>350902.0</td>\n",
              "      <td>NaN</td>\n",
              "      <td>37451.0</td>\n",
              "      <td>2371.0</td>\n",
              "      <td>10152.0</td>\n",
              "      <td>9748.0</td>\n",
              "      <td>8789.0</td>\n",
              "      <td>6714.0</td>\n",
              "      <td>79117.0</td>\n",
              "      <td>30847.0</td>\n",
              "      <td>112335.0</td>\n",
              "      <td>1457.0</td>\n",
              "      <td>2624.0</td>\n",
              "      <td>2175.0</td>\n",
              "      <td>1853.0</td>\n",
              "      <td>1323.0</td>\n",
              "      <td>17664.0</td>\n",
              "      <td>6391.0</td>\n",
              "      <td>25512.0</td>\n",
              "      <td>55.0</td>\n",
              "      <td>395.0</td>\n",
              "      <td>389.0</td>\n",
              "      <td>367.0</td>\n",
              "      <td>324.0</td>\n",
              "      <td>3090.0</td>\n",
              "      <td>1350.0</td>\n",
              "      <td>4495.0</td>\n",
              "      <td>26.0</td>\n",
              "      <td>229.0</td>\n",
              "      <td>204.0</td>\n",
              "      <td>...</td>\n",
              "      <td>NaN</td>\n",
              "      <td>NaN</td>\n",
              "      <td>NaN</td>\n",
              "      <td>NaN</td>\n",
              "      <td>NaN</td>\n",
              "      <td>NaN</td>\n",
              "      <td>NaN</td>\n",
              "      <td>NaN</td>\n",
              "      <td>NaN</td>\n",
              "      <td>NaN</td>\n",
              "      <td>NaN</td>\n",
              "      <td>NaN</td>\n",
              "      <td>NaN</td>\n",
              "      <td>NaN</td>\n",
              "      <td>NaN</td>\n",
              "      <td>NaN</td>\n",
              "      <td>NaN</td>\n",
              "      <td>NaN</td>\n",
              "      <td>NaN</td>\n",
              "      <td>NaN</td>\n",
              "      <td>NaN</td>\n",
              "      <td>NaN</td>\n",
              "      <td>NaN</td>\n",
              "      <td>NaN</td>\n",
              "      <td>NaN</td>\n",
              "      <td>NaN</td>\n",
              "      <td>NaN</td>\n",
              "      <td>NaN</td>\n",
              "      <td>NaN</td>\n",
              "      <td>NaN</td>\n",
              "      <td>NaN</td>\n",
              "      <td>NaN</td>\n",
              "      <td>NaN</td>\n",
              "      <td>NaN</td>\n",
              "      <td>NaN</td>\n",
              "      <td>NaN</td>\n",
              "      <td>NaN</td>\n",
              "      <td>NaN</td>\n",
              "      <td>NaN</td>\n",
              "      <td>258.859712</td>\n",
              "    </tr>\n",
              "    <tr>\n",
              "      <th>2</th>\n",
              "      <td>1992_ARIZONA</td>\n",
              "      <td>ARIZONA</td>\n",
              "      <td>1992</td>\n",
              "      <td>NaN</td>\n",
              "      <td>3258079.0</td>\n",
              "      <td>297888.0</td>\n",
              "      <td>1369815.0</td>\n",
              "      <td>1590376.0</td>\n",
              "      <td>3401580.0</td>\n",
              "      <td>1435908.0</td>\n",
              "      <td>1007732.0</td>\n",
              "      <td>NaN</td>\n",
              "      <td>609114.0</td>\n",
              "      <td>2544.0</td>\n",
              "      <td>53497.0</td>\n",
              "      <td>55433.0</td>\n",
              "      <td>49081.0</td>\n",
              "      <td>37410.0</td>\n",
              "      <td>437127.0</td>\n",
              "      <td>175210.0</td>\n",
              "      <td>614881.0</td>\n",
              "      <td>250.0</td>\n",
              "      <td>3674.0</td>\n",
              "      <td>3946.0</td>\n",
              "      <td>3230.0</td>\n",
              "      <td>2234.0</td>\n",
              "      <td>30133.0</td>\n",
              "      <td>10686.0</td>\n",
              "      <td>41069.0</td>\n",
              "      <td>20.0</td>\n",
              "      <td>754.0</td>\n",
              "      <td>822.0</td>\n",
              "      <td>734.0</td>\n",
              "      <td>823.0</td>\n",
              "      <td>6446.0</td>\n",
              "      <td>3340.0</td>\n",
              "      <td>9806.0</td>\n",
              "      <td>718.0</td>\n",
              "      <td>15501.0</td>\n",
              "      <td>14877.0</td>\n",
              "      <td>...</td>\n",
              "      <td>NaN</td>\n",
              "      <td>NaN</td>\n",
              "      <td>NaN</td>\n",
              "      <td>NaN</td>\n",
              "      <td>NaN</td>\n",
              "      <td>NaN</td>\n",
              "      <td>NaN</td>\n",
              "      <td>NaN</td>\n",
              "      <td>NaN</td>\n",
              "      <td>NaN</td>\n",
              "      <td>NaN</td>\n",
              "      <td>NaN</td>\n",
              "      <td>NaN</td>\n",
              "      <td>NaN</td>\n",
              "      <td>NaN</td>\n",
              "      <td>NaN</td>\n",
              "      <td>NaN</td>\n",
              "      <td>NaN</td>\n",
              "      <td>NaN</td>\n",
              "      <td>NaN</td>\n",
              "      <td>NaN</td>\n",
              "      <td>NaN</td>\n",
              "      <td>NaN</td>\n",
              "      <td>NaN</td>\n",
              "      <td>NaN</td>\n",
              "      <td>NaN</td>\n",
              "      <td>NaN</td>\n",
              "      <td>NaN</td>\n",
              "      <td>NaN</td>\n",
              "      <td>NaN</td>\n",
              "      <td>NaN</td>\n",
              "      <td>NaN</td>\n",
              "      <td>NaN</td>\n",
              "      <td>NaN</td>\n",
              "      <td>NaN</td>\n",
              "      <td>NaN</td>\n",
              "      <td>215.253932</td>\n",
              "      <td>265.366278</td>\n",
              "      <td>206.212716</td>\n",
              "      <td>262.169895</td>\n",
              "    </tr>\n",
              "    <tr>\n",
              "      <th>3</th>\n",
              "      <td>1992_ARKANSAS</td>\n",
              "      <td>ARKANSAS</td>\n",
              "      <td>1992</td>\n",
              "      <td>NaN</td>\n",
              "      <td>1711959.0</td>\n",
              "      <td>178571.0</td>\n",
              "      <td>958785.0</td>\n",
              "      <td>574603.0</td>\n",
              "      <td>1743022.0</td>\n",
              "      <td>964323.0</td>\n",
              "      <td>483488.0</td>\n",
              "      <td>NaN</td>\n",
              "      <td>145212.0</td>\n",
              "      <td>808.0</td>\n",
              "      <td>33511.0</td>\n",
              "      <td>34632.0</td>\n",
              "      <td>36011.0</td>\n",
              "      <td>27651.0</td>\n",
              "      <td>281338.0</td>\n",
              "      <td>123113.0</td>\n",
              "      <td>405259.0</td>\n",
              "      <td>2.0</td>\n",
              "      <td>84.0</td>\n",
              "      <td>84.0</td>\n",
              "      <td>146.0</td>\n",
              "      <td>67.0</td>\n",
              "      <td>828.0</td>\n",
              "      <td>382.0</td>\n",
              "      <td>1212.0</td>\n",
              "      <td>7.0</td>\n",
              "      <td>199.0</td>\n",
              "      <td>214.0</td>\n",
              "      <td>216.0</td>\n",
              "      <td>224.0</td>\n",
              "      <td>1792.0</td>\n",
              "      <td>902.0</td>\n",
              "      <td>2701.0</td>\n",
              "      <td>11.0</td>\n",
              "      <td>370.0</td>\n",
              "      <td>278.0</td>\n",
              "      <td>...</td>\n",
              "      <td>NaN</td>\n",
              "      <td>NaN</td>\n",
              "      <td>NaN</td>\n",
              "      <td>NaN</td>\n",
              "      <td>NaN</td>\n",
              "      <td>NaN</td>\n",
              "      <td>NaN</td>\n",
              "      <td>NaN</td>\n",
              "      <td>NaN</td>\n",
              "      <td>NaN</td>\n",
              "      <td>NaN</td>\n",
              "      <td>NaN</td>\n",
              "      <td>NaN</td>\n",
              "      <td>NaN</td>\n",
              "      <td>NaN</td>\n",
              "      <td>NaN</td>\n",
              "      <td>NaN</td>\n",
              "      <td>NaN</td>\n",
              "      <td>NaN</td>\n",
              "      <td>NaN</td>\n",
              "      <td>NaN</td>\n",
              "      <td>NaN</td>\n",
              "      <td>NaN</td>\n",
              "      <td>NaN</td>\n",
              "      <td>NaN</td>\n",
              "      <td>NaN</td>\n",
              "      <td>NaN</td>\n",
              "      <td>NaN</td>\n",
              "      <td>NaN</td>\n",
              "      <td>NaN</td>\n",
              "      <td>NaN</td>\n",
              "      <td>NaN</td>\n",
              "      <td>NaN</td>\n",
              "      <td>NaN</td>\n",
              "      <td>NaN</td>\n",
              "      <td>NaN</td>\n",
              "      <td>210.206028</td>\n",
              "      <td>256.312090</td>\n",
              "      <td>208.634458</td>\n",
              "      <td>264.619665</td>\n",
              "    </tr>\n",
              "    <tr>\n",
              "      <th>4</th>\n",
              "      <td>1992_CALIFORNIA</td>\n",
              "      <td>CALIFORNIA</td>\n",
              "      <td>1992</td>\n",
              "      <td>NaN</td>\n",
              "      <td>26260025.0</td>\n",
              "      <td>2072470.0</td>\n",
              "      <td>16546514.0</td>\n",
              "      <td>7641041.0</td>\n",
              "      <td>27138832.0</td>\n",
              "      <td>14358922.0</td>\n",
              "      <td>8520926.0</td>\n",
              "      <td>NaN</td>\n",
              "      <td>2044688.0</td>\n",
              "      <td>59067.0</td>\n",
              "      <td>431763.0</td>\n",
              "      <td>418418.0</td>\n",
              "      <td>363296.0</td>\n",
              "      <td>270675.0</td>\n",
              "      <td>3286034.0</td>\n",
              "      <td>1372011.0</td>\n",
              "      <td>4717112.0</td>\n",
              "      <td>NaN</td>\n",
              "      <td>2954.0</td>\n",
              "      <td>3079.0</td>\n",
              "      <td>2912.0</td>\n",
              "      <td>2434.0</td>\n",
              "      <td>24697.0</td>\n",
              "      <td>12820.0</td>\n",
              "      <td>NaN</td>\n",
              "      <td>NaN</td>\n",
              "      <td>41763.0</td>\n",
              "      <td>46079.0</td>\n",
              "      <td>40852.0</td>\n",
              "      <td>39036.0</td>\n",
              "      <td>356001.0</td>\n",
              "      <td>169604.0</td>\n",
              "      <td>NaN</td>\n",
              "      <td>NaN</td>\n",
              "      <td>170998.0</td>\n",
              "      <td>152087.0</td>\n",
              "      <td>...</td>\n",
              "      <td>NaN</td>\n",
              "      <td>NaN</td>\n",
              "      <td>NaN</td>\n",
              "      <td>NaN</td>\n",
              "      <td>NaN</td>\n",
              "      <td>NaN</td>\n",
              "      <td>NaN</td>\n",
              "      <td>NaN</td>\n",
              "      <td>NaN</td>\n",
              "      <td>NaN</td>\n",
              "      <td>NaN</td>\n",
              "      <td>NaN</td>\n",
              "      <td>NaN</td>\n",
              "      <td>NaN</td>\n",
              "      <td>NaN</td>\n",
              "      <td>NaN</td>\n",
              "      <td>NaN</td>\n",
              "      <td>NaN</td>\n",
              "      <td>NaN</td>\n",
              "      <td>NaN</td>\n",
              "      <td>NaN</td>\n",
              "      <td>NaN</td>\n",
              "      <td>NaN</td>\n",
              "      <td>NaN</td>\n",
              "      <td>NaN</td>\n",
              "      <td>NaN</td>\n",
              "      <td>NaN</td>\n",
              "      <td>NaN</td>\n",
              "      <td>NaN</td>\n",
              "      <td>NaN</td>\n",
              "      <td>NaN</td>\n",
              "      <td>NaN</td>\n",
              "      <td>NaN</td>\n",
              "      <td>NaN</td>\n",
              "      <td>NaN</td>\n",
              "      <td>NaN</td>\n",
              "      <td>208.398961</td>\n",
              "      <td>260.892247</td>\n",
              "      <td>196.764414</td>\n",
              "      <td>NaN</td>\n",
              "    </tr>\n",
              "  </tbody>\n",
              "</table>\n",
              "<p>5 rows × 193 columns</p>\n",
              "</div>"
            ],
            "text/plain": [
              "       PRIMARY_KEY       STATE  ...  AVG_READING_4_SCORE  AVG_READING_8_SCORE\n",
              "0     1992_ALABAMA     ALABAMA  ...           207.963517                  NaN\n",
              "1      1992_ALASKA      ALASKA  ...                  NaN           258.859712\n",
              "2     1992_ARIZONA     ARIZONA  ...           206.212716           262.169895\n",
              "3    1992_ARKANSAS    ARKANSAS  ...           208.634458           264.619665\n",
              "4  1992_CALIFORNIA  CALIFORNIA  ...           196.764414                  NaN\n",
              "\n",
              "[5 rows x 193 columns]"
            ]
          },
          "metadata": {
            "tags": []
          },
          "execution_count": 5
        }
      ]
    },
    {
      "cell_type": "markdown",
      "metadata": {
        "id": "wtCmh2Mbs779",
        "colab_type": "text"
      },
      "source": [
        "## Creating a Smaller Database"
      ]
    },
    {
      "cell_type": "markdown",
      "metadata": {
        "id": "F0NiMvy8yIov",
        "colab_type": "text"
      },
      "source": [
        "Since the original database that I downloaded had a lot of columns in it, for easier management I created a smaller database with just the columns I wanted to use."
      ]
    },
    {
      "cell_type": "code",
      "metadata": {
        "id": "mzegKOkTkH5x",
        "colab_type": "code",
        "outputId": "f2eed9df-d490-4bac-e179-73658bf12f42",
        "colab": {
          "base_uri": "https://localhost:8080/",
          "height": 223
        }
      },
      "source": [
        "db = states_full_key[['PRIMARY_KEY','TOTAL_REVENUE','AVG_MATH_8_SCORE', 'GRADES_8_BL','GRADES_8_AS','GRADES_8_HI','GRADES_8_AM','GRADES_8_WH','GRADES_8_G']]\n",
        "db.head()"
      ],
      "execution_count": 77,
      "outputs": [
        {
          "output_type": "execute_result",
          "data": {
            "text/html": [
              "<div>\n",
              "<style scoped>\n",
              "    .dataframe tbody tr th:only-of-type {\n",
              "        vertical-align: middle;\n",
              "    }\n",
              "\n",
              "    .dataframe tbody tr th {\n",
              "        vertical-align: top;\n",
              "    }\n",
              "\n",
              "    .dataframe thead th {\n",
              "        text-align: right;\n",
              "    }\n",
              "</style>\n",
              "<table border=\"1\" class=\"dataframe\">\n",
              "  <thead>\n",
              "    <tr style=\"text-align: right;\">\n",
              "      <th></th>\n",
              "      <th>PRIMARY_KEY</th>\n",
              "      <th>TOTAL_REVENUE</th>\n",
              "      <th>AVG_MATH_8_SCORE</th>\n",
              "      <th>GRADES_8_BL</th>\n",
              "      <th>GRADES_8_AS</th>\n",
              "      <th>GRADES_8_HI</th>\n",
              "      <th>GRADES_8_AM</th>\n",
              "      <th>GRADES_8_WH</th>\n",
              "      <th>GRADES_8_G</th>\n",
              "    </tr>\n",
              "  </thead>\n",
              "  <tbody>\n",
              "    <tr>\n",
              "      <th>0</th>\n",
              "      <td>1992_ALABAMA</td>\n",
              "      <td>2678885.0</td>\n",
              "      <td>252.187522</td>\n",
              "      <td>20816.0</td>\n",
              "      <td>306.0</td>\n",
              "      <td>164.0</td>\n",
              "      <td>625.0</td>\n",
              "      <td>35854.0</td>\n",
              "      <td>58025.0</td>\n",
              "    </tr>\n",
              "    <tr>\n",
              "      <th>1</th>\n",
              "      <td>1992_ALASKA</td>\n",
              "      <td>1049591.0</td>\n",
              "      <td>NaN</td>\n",
              "      <td>422.0</td>\n",
              "      <td>367.0</td>\n",
              "      <td>182.0</td>\n",
              "      <td>1853.0</td>\n",
              "      <td>5965.0</td>\n",
              "      <td>8789.0</td>\n",
              "    </tr>\n",
              "    <tr>\n",
              "      <th>2</th>\n",
              "      <td>1992_ARIZONA</td>\n",
              "      <td>3258079.0</td>\n",
              "      <td>265.366278</td>\n",
              "      <td>1888.0</td>\n",
              "      <td>734.0</td>\n",
              "      <td>12964.0</td>\n",
              "      <td>3230.0</td>\n",
              "      <td>30265.0</td>\n",
              "      <td>49081.0</td>\n",
              "    </tr>\n",
              "    <tr>\n",
              "      <th>3</th>\n",
              "      <td>1992_ARKANSAS</td>\n",
              "      <td>1711959.0</td>\n",
              "      <td>256.312090</td>\n",
              "      <td>8828.0</td>\n",
              "      <td>216.0</td>\n",
              "      <td>233.0</td>\n",
              "      <td>146.0</td>\n",
              "      <td>26588.0</td>\n",
              "      <td>36011.0</td>\n",
              "    </tr>\n",
              "    <tr>\n",
              "      <th>4</th>\n",
              "      <td>1992_CALIFORNIA</td>\n",
              "      <td>26260025.0</td>\n",
              "      <td>260.892247</td>\n",
              "      <td>32319.0</td>\n",
              "      <td>40852.0</td>\n",
              "      <td>124766.0</td>\n",
              "      <td>2912.0</td>\n",
              "      <td>162447.0</td>\n",
              "      <td>363296.0</td>\n",
              "    </tr>\n",
              "  </tbody>\n",
              "</table>\n",
              "</div>"
            ],
            "text/plain": [
              "       PRIMARY_KEY  TOTAL_REVENUE  ...  GRADES_8_WH  GRADES_8_G\n",
              "0     1992_ALABAMA      2678885.0  ...      35854.0     58025.0\n",
              "1      1992_ALASKA      1049591.0  ...       5965.0      8789.0\n",
              "2     1992_ARIZONA      3258079.0  ...      30265.0     49081.0\n",
              "3    1992_ARKANSAS      1711959.0  ...      26588.0     36011.0\n",
              "4  1992_CALIFORNIA     26260025.0  ...     162447.0    363296.0\n",
              "\n",
              "[5 rows x 9 columns]"
            ]
          },
          "metadata": {
            "tags": []
          },
          "execution_count": 77
        }
      ]
    },
    {
      "cell_type": "markdown",
      "metadata": {
        "id": "NZdsEFbUmFkv",
        "colab_type": "text"
      },
      "source": [
        "TOTAL_REVENUE is based on the size of the state, so create a metric that I could compare states by, I found the revenue per student for each state."
      ]
    },
    {
      "cell_type": "code",
      "metadata": {
        "id": "xMDB3GmZxgcS",
        "colab_type": "code",
        "colab": {}
      },
      "source": [
        "def per_student(total, enrolled):\n",
        "  return total/enrolled"
      ],
      "execution_count": 0,
      "outputs": []
    },
    {
      "cell_type": "code",
      "metadata": {
        "id": "qf2-BZ4pkJL9",
        "colab_type": "code",
        "outputId": "8a8a7b26-5595-4f65-f044-bfff9f24c5bd",
        "colab": {
          "base_uri": "https://localhost:8080/",
          "height": 142
        }
      },
      "source": [
        "db['REVENUE_PER_STUDENT'] =  list(map(per_student, db['TOTAL_REVENUE'],db['GRADES_8_G']))"
      ],
      "execution_count": 9,
      "outputs": [
        {
          "output_type": "stream",
          "text": [
            "/usr/local/lib/python3.6/dist-packages/ipykernel_launcher.py:1: SettingWithCopyWarning: \n",
            "A value is trying to be set on a copy of a slice from a DataFrame.\n",
            "Try using .loc[row_indexer,col_indexer] = value instead\n",
            "\n",
            "See the caveats in the documentation: http://pandas.pydata.org/pandas-docs/stable/user_guide/indexing.html#returning-a-view-versus-a-copy\n",
            "  \"\"\"Entry point for launching an IPython kernel.\n"
          ],
          "name": "stderr"
        }
      ]
    },
    {
      "cell_type": "markdown",
      "metadata": {
        "id": "hH0Ta4RfD0DM",
        "colab_type": "text"
      },
      "source": [
        "The represented races of the database are AM (American Indian or Alaska Native), AS (Asian), HI (Hispanic/Latino), BL (Black), WH (White), HP (Pacific Islander), and TR (Two or More Races). HP and TR are null in the database and so were not included here. \n",
        "\n",
        "I had the same issue as I did with total revenue, that the number of students for a race would be dependent on school/state size, so I found the percentage of each racial demographic for the state."
      ]
    },
    {
      "cell_type": "code",
      "metadata": {
        "id": "4AvIfxwnxtdK",
        "colab_type": "code",
        "colab": {}
      },
      "source": [
        "def race_percent(num_race, total):\n",
        "  if num_race == None or total == None:\n",
        "    return 0\n",
        "  else:\n",
        "    return float(num_race)/float(total)"
      ],
      "execution_count": 0,
      "outputs": []
    },
    {
      "cell_type": "code",
      "metadata": {
        "id": "Y65Wnkf9ipu7",
        "colab_type": "code",
        "outputId": "92f60150-83f2-4d12-8d5a-5c05a34694df",
        "colab": {
          "base_uri": "https://localhost:8080/",
          "height": 565
        }
      },
      "source": [
        "db['AS_PER'] =  list(map(race_percent, db['GRADES_8_AS'],db['GRADES_8_G']))\n",
        "db['BL_PER'] =  list(map(race_percent, db['GRADES_8_BL'],db['GRADES_8_G']))\n",
        "db['AM_PER'] =  list(map(race_percent, db['GRADES_8_AM'],db['GRADES_8_G']))\n",
        "db['WH_PER'] =  list(map(race_percent, db['GRADES_8_WH'],db['GRADES_8_G']))\n",
        "db['HI_PER'] =  list(map(race_percent, db['GRADES_8_HI'],db['GRADES_8_G']))"
      ],
      "execution_count": 11,
      "outputs": [
        {
          "output_type": "stream",
          "text": [
            "/usr/local/lib/python3.6/dist-packages/ipykernel_launcher.py:1: SettingWithCopyWarning: \n",
            "A value is trying to be set on a copy of a slice from a DataFrame.\n",
            "Try using .loc[row_indexer,col_indexer] = value instead\n",
            "\n",
            "See the caveats in the documentation: http://pandas.pydata.org/pandas-docs/stable/user_guide/indexing.html#returning-a-view-versus-a-copy\n",
            "  \"\"\"Entry point for launching an IPython kernel.\n",
            "/usr/local/lib/python3.6/dist-packages/ipykernel_launcher.py:2: SettingWithCopyWarning: \n",
            "A value is trying to be set on a copy of a slice from a DataFrame.\n",
            "Try using .loc[row_indexer,col_indexer] = value instead\n",
            "\n",
            "See the caveats in the documentation: http://pandas.pydata.org/pandas-docs/stable/user_guide/indexing.html#returning-a-view-versus-a-copy\n",
            "  \n",
            "/usr/local/lib/python3.6/dist-packages/ipykernel_launcher.py:3: SettingWithCopyWarning: \n",
            "A value is trying to be set on a copy of a slice from a DataFrame.\n",
            "Try using .loc[row_indexer,col_indexer] = value instead\n",
            "\n",
            "See the caveats in the documentation: http://pandas.pydata.org/pandas-docs/stable/user_guide/indexing.html#returning-a-view-versus-a-copy\n",
            "  This is separate from the ipykernel package so we can avoid doing imports until\n",
            "/usr/local/lib/python3.6/dist-packages/ipykernel_launcher.py:4: SettingWithCopyWarning: \n",
            "A value is trying to be set on a copy of a slice from a DataFrame.\n",
            "Try using .loc[row_indexer,col_indexer] = value instead\n",
            "\n",
            "See the caveats in the documentation: http://pandas.pydata.org/pandas-docs/stable/user_guide/indexing.html#returning-a-view-versus-a-copy\n",
            "  after removing the cwd from sys.path.\n",
            "/usr/local/lib/python3.6/dist-packages/ipykernel_launcher.py:5: SettingWithCopyWarning: \n",
            "A value is trying to be set on a copy of a slice from a DataFrame.\n",
            "Try using .loc[row_indexer,col_indexer] = value instead\n",
            "\n",
            "See the caveats in the documentation: http://pandas.pydata.org/pandas-docs/stable/user_guide/indexing.html#returning-a-view-versus-a-copy\n",
            "  \"\"\"\n"
          ],
          "name": "stderr"
        }
      ]
    },
    {
      "cell_type": "markdown",
      "metadata": {
        "id": "pu3RN9xTkpiD",
        "colab_type": "text"
      },
      "source": [
        "I then cleaned up the small database by getting rid of unnecessary columns and dropping rows with null values."
      ]
    },
    {
      "cell_type": "code",
      "metadata": {
        "id": "F0WhHO6Tkohd",
        "colab_type": "code",
        "outputId": "8dfef3ac-5b97-4e2c-8962-51e8be7fcc60",
        "colab": {
          "base_uri": "https://localhost:8080/",
          "height": 437
        }
      },
      "source": [
        "db = db.drop(columns=['TOTAL_REVENUE', 'GRADES_8_AS', 'GRADES_8_BL','GRADES_8_AM','GRADES_8_WH','GRADES_8_HI'])\n",
        "db = db.dropna(axis=0, how=\"any\") #just replace null values\n",
        "db"
      ],
      "execution_count": 12,
      "outputs": [
        {
          "output_type": "execute_result",
          "data": {
            "text/html": [
              "<div>\n",
              "<style scoped>\n",
              "    .dataframe tbody tr th:only-of-type {\n",
              "        vertical-align: middle;\n",
              "    }\n",
              "\n",
              "    .dataframe tbody tr th {\n",
              "        vertical-align: top;\n",
              "    }\n",
              "\n",
              "    .dataframe thead th {\n",
              "        text-align: right;\n",
              "    }\n",
              "</style>\n",
              "<table border=\"1\" class=\"dataframe\">\n",
              "  <thead>\n",
              "    <tr style=\"text-align: right;\">\n",
              "      <th></th>\n",
              "      <th>PRIMARY_KEY</th>\n",
              "      <th>AVG_MATH_8_SCORE</th>\n",
              "      <th>GRADES_8_G</th>\n",
              "      <th>REVENUE_PER_STUDENT</th>\n",
              "      <th>AS_PER</th>\n",
              "      <th>BL_PER</th>\n",
              "      <th>AM_PER</th>\n",
              "      <th>WH_PER</th>\n",
              "      <th>HI_PER</th>\n",
              "    </tr>\n",
              "  </thead>\n",
              "  <tbody>\n",
              "    <tr>\n",
              "      <th>0</th>\n",
              "      <td>1992_ALABAMA</td>\n",
              "      <td>252.187522</td>\n",
              "      <td>58025.0</td>\n",
              "      <td>46.167773</td>\n",
              "      <td>0.005274</td>\n",
              "      <td>0.358742</td>\n",
              "      <td>0.010771</td>\n",
              "      <td>0.617906</td>\n",
              "      <td>0.002826</td>\n",
              "    </tr>\n",
              "    <tr>\n",
              "      <th>2</th>\n",
              "      <td>1992_ARIZONA</td>\n",
              "      <td>265.366278</td>\n",
              "      <td>49081.0</td>\n",
              "      <td>66.381675</td>\n",
              "      <td>0.014955</td>\n",
              "      <td>0.038467</td>\n",
              "      <td>0.065810</td>\n",
              "      <td>0.616634</td>\n",
              "      <td>0.264135</td>\n",
              "    </tr>\n",
              "    <tr>\n",
              "      <th>3</th>\n",
              "      <td>1992_ARKANSAS</td>\n",
              "      <td>256.312090</td>\n",
              "      <td>36011.0</td>\n",
              "      <td>47.539891</td>\n",
              "      <td>0.005998</td>\n",
              "      <td>0.245147</td>\n",
              "      <td>0.004054</td>\n",
              "      <td>0.738330</td>\n",
              "      <td>0.006470</td>\n",
              "    </tr>\n",
              "    <tr>\n",
              "      <th>4</th>\n",
              "      <td>1992_CALIFORNIA</td>\n",
              "      <td>260.892247</td>\n",
              "      <td>363296.0</td>\n",
              "      <td>72.282725</td>\n",
              "      <td>0.112448</td>\n",
              "      <td>0.088961</td>\n",
              "      <td>0.008016</td>\n",
              "      <td>0.447148</td>\n",
              "      <td>0.343428</td>\n",
              "    </tr>\n",
              "    <tr>\n",
              "      <th>5</th>\n",
              "      <td>1992_COLORADO</td>\n",
              "      <td>272.398433</td>\n",
              "      <td>45025.0</td>\n",
              "      <td>70.742321</td>\n",
              "      <td>0.021521</td>\n",
              "      <td>0.052438</td>\n",
              "      <td>0.009062</td>\n",
              "      <td>0.752737</td>\n",
              "      <td>0.164242</td>\n",
              "    </tr>\n",
              "    <tr>\n",
              "      <th>...</th>\n",
              "      <td>...</td>\n",
              "      <td>...</td>\n",
              "      <td>...</td>\n",
              "      <td>...</td>\n",
              "      <td>...</td>\n",
              "      <td>...</td>\n",
              "      <td>...</td>\n",
              "      <td>...</td>\n",
              "      <td>...</td>\n",
              "    </tr>\n",
              "    <tr>\n",
              "      <th>1224</th>\n",
              "      <td>2015_VIRGINIA</td>\n",
              "      <td>287.709299</td>\n",
              "      <td>95221.0</td>\n",
              "      <td>166.533895</td>\n",
              "      <td>0.067916</td>\n",
              "      <td>0.227712</td>\n",
              "      <td>0.002867</td>\n",
              "      <td>0.517428</td>\n",
              "      <td>0.134141</td>\n",
              "    </tr>\n",
              "    <tr>\n",
              "      <th>1225</th>\n",
              "      <td>2015_WASHINGTON</td>\n",
              "      <td>286.513108</td>\n",
              "      <td>79483.0</td>\n",
              "      <td>172.482694</td>\n",
              "      <td>0.076935</td>\n",
              "      <td>0.044387</td>\n",
              "      <td>0.013563</td>\n",
              "      <td>0.571820</td>\n",
              "      <td>0.215845</td>\n",
              "    </tr>\n",
              "    <tr>\n",
              "      <th>1226</th>\n",
              "      <td>2015_WEST_VIRGINIA</td>\n",
              "      <td>271.450709</td>\n",
              "      <td>20426.0</td>\n",
              "      <td>170.292813</td>\n",
              "      <td>0.006854</td>\n",
              "      <td>0.050083</td>\n",
              "      <td>0.001028</td>\n",
              "      <td>0.910164</td>\n",
              "      <td>0.014247</td>\n",
              "    </tr>\n",
              "    <tr>\n",
              "      <th>1227</th>\n",
              "      <td>2015_WISCONSIN</td>\n",
              "      <td>289.077749</td>\n",
              "      <td>61084.0</td>\n",
              "      <td>190.514308</td>\n",
              "      <td>0.035967</td>\n",
              "      <td>0.091808</td>\n",
              "      <td>0.012491</td>\n",
              "      <td>0.725837</td>\n",
              "      <td>0.108081</td>\n",
              "    </tr>\n",
              "    <tr>\n",
              "      <th>1228</th>\n",
              "      <td>2015_WYOMING</td>\n",
              "      <td>286.666547</td>\n",
              "      <td>6902.0</td>\n",
              "      <td>284.392060</td>\n",
              "      <td>0.009562</td>\n",
              "      <td>0.009997</td>\n",
              "      <td>0.037525</td>\n",
              "      <td>0.784990</td>\n",
              "      <td>0.136048</td>\n",
              "    </tr>\n",
              "  </tbody>\n",
              "</table>\n",
              "<p>472 rows × 9 columns</p>\n",
              "</div>"
            ],
            "text/plain": [
              "             PRIMARY_KEY  AVG_MATH_8_SCORE  ...    WH_PER    HI_PER\n",
              "0           1992_ALABAMA        252.187522  ...  0.617906  0.002826\n",
              "2           1992_ARIZONA        265.366278  ...  0.616634  0.264135\n",
              "3          1992_ARKANSAS        256.312090  ...  0.738330  0.006470\n",
              "4        1992_CALIFORNIA        260.892247  ...  0.447148  0.343428\n",
              "5          1992_COLORADO        272.398433  ...  0.752737  0.164242\n",
              "...                  ...               ...  ...       ...       ...\n",
              "1224       2015_VIRGINIA        287.709299  ...  0.517428  0.134141\n",
              "1225     2015_WASHINGTON        286.513108  ...  0.571820  0.215845\n",
              "1226  2015_WEST_VIRGINIA        271.450709  ...  0.910164  0.014247\n",
              "1227      2015_WISCONSIN        289.077749  ...  0.725837  0.108081\n",
              "1228        2015_WYOMING        286.666547  ...  0.784990  0.136048\n",
              "\n",
              "[472 rows x 9 columns]"
            ]
          },
          "metadata": {
            "tags": []
          },
          "execution_count": 12
        }
      ]
    },
    {
      "cell_type": "markdown",
      "metadata": {
        "id": "OD_L7p9G374b",
        "colab_type": "text"
      },
      "source": [
        "## Linear Regression"
      ]
    },
    {
      "cell_type": "markdown",
      "metadata": {
        "id": "zkcztKILsTsd",
        "colab_type": "text"
      },
      "source": [
        "Once I have the database with the columns I want, I then do linear regression. The linear_regression function below is used to find co-efficients for linear regression plots. The fit_model function trains a linear regression model on training data and then finds accuracy on testing data in order to validate that test scores can be predicted from the X variables. \n",
        "\n",
        "NAEP test scores are out of 500 points and are not a binary metric. Because of this, I rate accuracy by if the predicted scores are within 10 points (2% error) of the actual scores."
      ]
    },
    {
      "cell_type": "code",
      "metadata": {
        "id": "j8CFVGdkcT-a",
        "colab_type": "code",
        "colab": {}
      },
      "source": [
        "def linear_regression(X, y):\n",
        "    # Returns correlation co-efficients between X variables and y output\n",
        "    w, _, _, _ = np.linalg.lstsq(X, y, rcond=-1)\n",
        "    return w"
      ],
      "execution_count": 0,
      "outputs": []
    },
    {
      "cell_type": "code",
      "metadata": {
        "id": "lu3F-kO1aoJr",
        "colab_type": "code",
        "colab": {}
      },
      "source": [
        "def fit_model(dfx, dfy, cols):\n",
        "    # Prints test and train accuracy from linear regression model\n",
        "    X_train, X_test, y_train, y_test = \\\n",
        "        train_test_split(dfx, dfy) \n",
        "    # Split may be biased because points are close together in time\n",
        "\n",
        "    model = LinearRegression()\n",
        "    model.fit(X_train, y_train)\n",
        "    # I commented out print lines because I already evaluated co-efficients\n",
        "    #for i, c in enumerate(cols):\n",
        "    #  print('w_%d (the weight for %s) = %f' % (i+1, c, model.coef_[i])) #coeffs\n",
        "    #print('w_%d (the weight for the bias term) = %f' % (len(cols) + 1, model.intercept_)) #bias\n",
        "\n",
        "    # Because y is not binary, I use a 2% margin of error to value correctness of prediction\n",
        "    print('Accuracy on training set', (abs(model.predict(X_train) - y_train)<10).mean())\n",
        "    print('Accuracy on testing set', (abs(model.predict(X_test) - y_test)<10).mean())\n",
        "    return model"
      ],
      "execution_count": 0,
      "outputs": []
    },
    {
      "cell_type": "markdown",
      "metadata": {
        "id": "fpLfPbTmojJY",
        "colab_type": "text"
      },
      "source": [
        "### Plots and Co-efficients"
      ]
    },
    {
      "cell_type": "markdown",
      "metadata": {
        "id": "cPTH_dW1wHHe",
        "colab_type": "text"
      },
      "source": [
        "Below I create plots for the correlation between each factor and math score. This allows me to visualization if correlation co-efficients are reasonable or if they are biased by outliers/non-linear trends. After that, I use linear regression to find correlation co-efficients and compare those to the plots."
      ]
    },
    {
      "cell_type": "code",
      "metadata": {
        "id": "zW3Z6PBin4Ha",
        "colab_type": "code",
        "outputId": "2c32c490-0f96-46eb-fe1c-2f71c6115f8d",
        "colab": {
          "base_uri": "https://localhost:8080/",
          "height": 731
        }
      },
      "source": [
        "X_ed = db.drop(columns=['PRIMARY_KEY', 'AVG_MATH_8_SCORE'])\n",
        "X_ed_labels = ['Number of Students', 'Revenue Per Student', 'Percent of Asian Students', 'Percent of Black Students', 'Percent of Native American Students','Percent of White Students','Percent of Hispanic Students']\n",
        "y_ed = db['AVG_MATH_8_SCORE']\n",
        "\n",
        "plt.figure(figsize=(30, 18)) #add this to make images high res -> ,dpi=300)\n",
        "for idx, col in enumerate(X_ed):\n",
        "    plt.subplot(3, 4, idx+1)\n",
        "    plt.hexbin(X_ed[col], y_ed, gridsize=25, cmap='jet')\n",
        "    plt.colorbar()\n",
        "    plt.xlabel(X_ed_labels[idx])\n",
        "    plt.ylabel('Score')\n",
        "    plt.title('State 8th Grade Math NAEP Scores')\n",
        "\n",
        "plt.subplots_adjust(wspace=.2)\n",
        "plt.show()"
      ],
      "execution_count": 48,
      "outputs": [
        {
          "output_type": "display_data",
          "data": {
            "image/png": "[encoded data removed]",
            "text/plain": [
              "<Figure size 2160x1296 with 14 Axes>"
            ]
          },
          "metadata": {
            "tags": []
          }
        }
      ]
    },
    {
      "cell_type": "markdown",
      "metadata": {
        "id": "pZNAGvjXwY40",
        "colab_type": "text"
      },
      "source": [
        "From the plots I can see that there's a clear correlation with revenue per student and percentage of white students. There's also some correlation with black and hispanic students. Native american and asian students have such a low percentage in states that there is almost no distribution so it's hard to find any correlation."
      ]
    },
    {
      "cell_type": "markdown",
      "metadata": {
        "id": "hbW0eHlexBaC",
        "colab_type": "text"
      },
      "source": [
        "Next I find the correlation co-efficients for the factors."
      ]
    },
    {
      "cell_type": "code",
      "metadata": {
        "id": "AaLsiM2en6n5",
        "colab_type": "code",
        "outputId": "f01e76e8-4e88-4f50-df37-d98bb6f71500",
        "colab": {
          "base_uri": "https://localhost:8080/",
          "height": 158
        }
      },
      "source": [
        "X_ed['bias'] = 1\n",
        "list(zip(linear_regression(X_ed, y_ed), X_ed.columns))"
      ],
      "execution_count": 17,
      "outputs": [
        {
          "output_type": "execute_result",
          "data": {
            "text/plain": [
              "[(1.0320848816080138e-05, 'GRADES_8_G'),\n",
              " (0.09337335108015266, 'REVENUE_PER_STUDENT'),\n",
              " (-27.23527624166463, 'AS_PER'),\n",
              " (-43.527897159384906, 'BL_PER'),\n",
              " (-36.35952182442289, 'AM_PER'),\n",
              " (0.9564585504714459, 'WH_PER'),\n",
              " (-14.579892664945627, 'HI_PER'),\n",
              " (274.3205873550629, 'bias')]"
            ]
          },
          "metadata": {
            "tags": []
          },
          "execution_count": 17
        }
      ]
    },
    {
      "cell_type": "markdown",
      "metadata": {
        "id": "RbztDvyZxHxf",
        "colab_type": "text"
      },
      "source": [
        "Native american and asian percentages show a higher correlation co-efficient than they should. This is due to their low poplulations and a few higher score outliers, that create an artificial downward correlation trend. \n",
        "\n",
        "White percentage and revenue per student show a lower co-efficient than I would expect, possibly due to scattering with some of the points that may make it seem like a weaker correlation. \n",
        "\n",
        "Black and hispanic percentage co-efficients are fairly reasonable, but perhaps stronger than I would expect when compared to my predictions for white percentage and revenue per student."
      ]
    },
    {
      "cell_type": "markdown",
      "metadata": {
        "id": "NQqrt-5gbkrf",
        "colab_type": "text"
      },
      "source": [
        "### Train/Test Linear Regression"
      ]
    },
    {
      "cell_type": "markdown",
      "metadata": {
        "id": "XICjQNds2MuE",
        "colab_type": "text"
      },
      "source": [
        "In this section, I find the training and test accuracy for different run throughs of the linear regression model. I run the model with different x variables (2 variables each time) to see what variables are the best are predicting test scores, and the most consistent from test between train accuracy (deeper prediction, not surface level)."
      ]
    },
    {
      "cell_type": "code",
      "metadata": {
        "id": "kPorUluBo3lK",
        "colab_type": "code",
        "outputId": "e07b7ebf-6ec2-4459-e5e7-e2784156b3e6",
        "colab": {
          "base_uri": "https://localhost:8080/",
          "height": 52
        }
      },
      "source": [
        "#X_cols defines x variables for run, and then I run the train/test linear regression model\n",
        "X_cols = ['REVENUE_PER_STUDENT','WH_PER']\n",
        "X_temp = X_ed[X_cols]\n",
        "fit_model(X_temp, y_ed,X_cols);"
      ],
      "execution_count": 65,
      "outputs": [
        {
          "output_type": "stream",
          "text": [
            "Accuracy on training set 0.8361581920903954\n",
            "Accuracy on testing set 0.8559322033898306\n"
          ],
          "name": "stdout"
        }
      ]
    },
    {
      "cell_type": "markdown",
      "metadata": {
        "id": "vpvfytxE1dDT",
        "colab_type": "text"
      },
      "source": [
        "Revenue per student with white student percentage is the best predictor for student test scores of the 2 variable linear regressions I run below. It is also the most consistent from train to test scores."
      ]
    },
    {
      "cell_type": "markdown",
      "metadata": {
        "id": "GkWZKjxI40s1",
        "colab_type": "text"
      },
      "source": [
        "To explore how different racial demographics compare as predictors, I did linear regressions with different combinations of race predictors. The first linear regression is just with revenue per student, as a baseline."
      ]
    },
    {
      "cell_type": "code",
      "metadata": {
        "id": "ps1WlWJO3XC2",
        "colab_type": "code",
        "colab": {
          "base_uri": "https://localhost:8080/",
          "height": 334
        },
        "outputId": "360c05b1-15a4-44b4-c0c8-3f97f84f6d10"
      },
      "source": [
        "print(' Rev')\n",
        "X_cols = ['REVENUE_PER_STUDENT']\n",
        "X_temp = X_ed[X_cols]\n",
        "model = fit_model(X_temp, y_ed,X_cols);\n",
        "\n",
        "print(' Rev & Black')\n",
        "X_cols = ['REVENUE_PER_STUDENT','BL_PER']\n",
        "X_temp = X_ed[X_cols]\n",
        "model = fit_model(X_temp, y_ed,X_cols);\n",
        "print(' Rev & Hispanic')\n",
        "X_cols = ['REVENUE_PER_STUDENT','HI_PER']\n",
        "X_temp = X_ed[X_cols]\n",
        "model = fit_model(X_temp, y_ed,X_cols);\n",
        "print(' Rev & Native')\n",
        "X_cols = ['REVENUE_PER_STUDENT','AM_PER']\n",
        "X_temp = X_ed[X_cols]\n",
        "model = fit_model(X_temp, y_ed,X_cols);\n",
        "print(' Rev & Asian')\n",
        "X_cols = ['REVENUE_PER_STUDENT','AS_PER']\n",
        "X_temp = X_ed[X_cols]\n",
        "model = fit_model(X_temp, y_ed,X_cols);\n",
        "\n",
        "print(' Rev & non-white')\n",
        "X_cols = ['REVENUE_PER_STUDENT','BL_PER','HI_PER','AM_PER','AS_PER']\n",
        "X_temp = X_ed[X_cols]\n",
        "model = fit_model(X_temp, y_ed,X_cols);"
      ],
      "execution_count": 71,
      "outputs": [
        {
          "output_type": "stream",
          "text": [
            " Rev\n",
            "Accuracy on training set 0.807909604519774\n",
            "Accuracy on testing set 0.7033898305084746\n",
            " Rev & Black\n",
            "Accuracy on training set 0.8333333333333334\n",
            "Accuracy on testing set 0.8559322033898306\n",
            " Rev & Hispanic\n",
            "Accuracy on training set 0.7937853107344632\n",
            "Accuracy on testing set 0.7542372881355932\n",
            " Rev & Native\n",
            "Accuracy on training set 0.7711864406779662\n",
            "Accuracy on testing set 0.788135593220339\n",
            " Rev & Asian\n",
            "Accuracy on training set 0.788135593220339\n",
            "Accuracy on testing set 0.8389830508474576\n",
            " Rev & non-white\n",
            "Accuracy on training set 0.867231638418079\n",
            "Accuracy on testing set 0.8728813559322034\n"
          ],
          "name": "stdout"
        }
      ]
    },
    {
      "cell_type": "markdown",
      "metadata": {
        "id": "6i65M4Y152Mv",
        "colab_type": "text"
      },
      "source": [
        "Of the racial demographic predictors, percentage of Black students was the best predictor with around 84% accuracy, slightly below the accuracy from percentage of white students. \n",
        "\n",
        "The rest of the race predictors slightly improved the accuracy of the regression but were not very good predictors by themselves. However, when the racial demographic predictors were combined, the regression was around 88% accurate, which is better than percentage of white students at predicting. "
      ]
    },
    {
      "cell_type": "code",
      "metadata": {
        "id": "DN3_aRz4oBsm",
        "colab_type": "code",
        "outputId": "b15101f5-d611-46f3-e11c-7beab596d2cc",
        "colab": {
          "base_uri": "https://localhost:8080/",
          "height": 52
        }
      },
      "source": [
        "X_cols = ['GRADES_8_G','WH_PER']\n",
        "X_temp = X_ed[X_cols]\n",
        "fit_model(X_temp, y_ed,X_cols);"
      ],
      "execution_count": 75,
      "outputs": [
        {
          "output_type": "stream",
          "text": [
            "Accuracy on training set 0.7457627118644068\n",
            "Accuracy on testing set 0.7966101694915254\n"
          ],
          "name": "stdout"
        }
      ]
    },
    {
      "cell_type": "markdown",
      "metadata": {
        "id": "TMx1C0DB1FqA",
        "colab_type": "text"
      },
      "source": [
        "When revenue per student is removed as a predictor, the accuracy drops 10% percent, showing how revenue per student is a good predictor. The test also gets less consistent with the training accuracy without having two solid predictors."
      ]
    },
    {
      "cell_type": "markdown",
      "metadata": {
        "id": "wJ3Bw-1v3gEj",
        "colab_type": "text"
      },
      "source": [
        "## Results"
      ]
    },
    {
      "cell_type": "markdown",
      "metadata": {
        "id": "MA_lBElv3ljg",
        "colab_type": "text"
      },
      "source": [
        "I found that of the factors I looked at, the percentage of non-white students and the total revenue of the state were correlated the most with NAEP math scores for 8th grade students. These two factors were also the best at predicting the test scores, with a test accuracy of 88% and margin of error of 2%. \n",
        "\n",
        "When running a regression with only 2 predictors, total revenue paired with either percentage of white students or percentage of Black students had a good ability to predict math scores, with about 85% test accuracy. I think that the percentage of white or black students was a better indicator than other demographics because those groups have larger percentages in the U.S. and so capture more of the trends in the dataset than races with smaller percentages. Also, percentage of Black students captures the specific institutional oppression towards them. \n",
        "\n",
        "I believe that the percentage of white (or non-white) students and the total revenue of the state correlate highly with NAEP math scores because of institutional racism in creating the test and because poorer states/students are not able to afford the same quality of teachers/teaching materials/etc. Coming into this project, I thought that race and wealth might play a factor in test scores, but did not realize how much of an indication they would be. \n",
        "\n",
        "Schools should be given more funding based on need and there needs to be more programs seeking to help underpriviledged students of minority backgrounds."
      ]
    },
    {
      "cell_type": "markdown",
      "metadata": {
        "id": "lfqWMaQE4QLC",
        "colab_type": "text"
      },
      "source": [
        "## 1992 specific exploration"
      ]
    },
    {
      "cell_type": "markdown",
      "metadata": {
        "id": "Mgd0jB4G7l7h",
        "colab_type": "text"
      },
      "source": [
        "This exploration was done before the results above (which are done with all years). It was used to figure out appropriate data columns/information for correlation and regression."
      ]
    },
    {
      "cell_type": "markdown",
      "metadata": {
        "id": "br4UEvQSxle1",
        "colab_type": "text"
      },
      "source": [
        "### 1992 database"
      ]
    },
    {
      "cell_type": "markdown",
      "metadata": {
        "id": "ttLIqKPy53S-",
        "colab_type": "text"
      },
      "source": [
        "Exploration of what columns to include in a database for future correlation exploration. Also, how to narrow down, clean, and make better metrics from existing data."
      ]
    },
    {
      "cell_type": "markdown",
      "metadata": {
        "id": "9Xy5PqIWcw2A",
        "colab_type": "text"
      },
      "source": [
        "To visualize revenues and scores for states (year 1992):"
      ]
    },
    {
      "cell_type": "code",
      "metadata": {
        "id": "XjruRHwyXR_g",
        "colab_type": "code",
        "colab": {}
      },
      "source": [
        "#states_full_key[(states_full_key['YEAR'] == 1992)] gets all rows where year == 1992\n",
        "revs_1992 = states_full_key[(states_full_key['YEAR'] == 1992)&(states_full_key['TOTAL_REVENUE'] <= 5000000)][['STATE','TOTAL_REVENUE','AVG_MATH_8_SCORE','GRADES_8_G']]\n",
        "print(revs_1992.head())\n",
        "revs_2005 = states_full_key[(states_full_key['YEAR'] == 2005)&(states_full_key['TOTAL_REVENUE'] <= 5000000)][['STATE','TOTAL_REVENUE','AVG_MATH_8_SCORE','GRADES_8_G']]\n",
        "print(revs_2005.head())"
      ],
      "execution_count": 0,
      "outputs": []
    },
    {
      "cell_type": "markdown",
      "metadata": {
        "id": "8LPkbm9nB3Xa",
        "colab_type": "text"
      },
      "source": [
        "Add a column for revenue per students. Total revenue is not a very helpful metric because it depends a lot on the state population, where larger states will have more revenue. Per students makes it a better state to state comparison."
      ]
    },
    {
      "cell_type": "code",
      "metadata": {
        "id": "cJ_hbKHq7nz_",
        "colab_type": "code",
        "colab": {}
      },
      "source": [
        "revs_1992['REVENUE_PER_STUDENT'] =  list(map(per_student, revs_1992['TOTAL_REVENUE'],revs_1992['GRADES_8_G']))\n",
        "#print(revs_1992.head())\n",
        "revs_2005['REVENUE_PER_STUDENT'] =  list(map(per_student, revs_2005['TOTAL_REVENUE'],revs_2005['GRADES_8_G']))\n",
        "#print(revs_2005.head())"
      ],
      "execution_count": 0,
      "outputs": []
    },
    {
      "cell_type": "markdown",
      "metadata": {
        "id": "Dq8l7WdwB-1i",
        "colab_type": "text"
      },
      "source": [
        "Create a database to store race percent/demographics for schools"
      ]
    },
    {
      "cell_type": "code",
      "metadata": {
        "id": "rIEBLSokD9rN",
        "colab_type": "code",
        "colab": {}
      },
      "source": [
        "#To see what columns hold data\n",
        "states_full_key[(states_full_key['YEAR'] == 1992)&(states_full_key['TOTAL_REVENUE'] <= 5000000)][['STATE','GRADES_8_AS', 'GRADES_8_BL','GRADES_8_AM', 'GRADES_8_WH','GRADES_8_HI','GRADES_8_HP', 'GRADES_8_TR']].head()"
      ],
      "execution_count": 0,
      "outputs": []
    },
    {
      "cell_type": "markdown",
      "metadata": {
        "id": "YDhwjxg-EfyU",
        "colab_type": "text"
      },
      "source": [
        "Based on this representation of the table, white(WH), Black(BL), native americans(AM),asian(AS), and hispanic(HI) demographics exist. HP and TR do not, and so won't be used."
      ]
    },
    {
      "cell_type": "code",
      "metadata": {
        "id": "mMlv-MGau9C1",
        "colab_type": "code",
        "colab": {}
      },
      "source": [
        "revs_demo_1992 = states_full_key[(states_full_key['YEAR'] == 1992)&(states_full_key['TOTAL_REVENUE'] <= 5000000)][['STATE','TOTAL_REVENUE','AVG_MATH_8_SCORE', 'GRADES_8_BL','GRADES_8_AS','GRADES_8_HI','GRADES_8_AM','GRADES_8_WH','GRADES_8_G']]\n",
        "print(revs_demo_1992.head())\n",
        "revs_demo_2005 = states_full_key[(states_full_key['YEAR'] == 2005)&(states_full_key['TOTAL_REVENUE'] <= 5000000)][['STATE','TOTAL_REVENUE','AVG_MATH_8_SCORE', 'GRADES_8_BL','GRADES_8_AS','GRADES_8_HI','GRADES_8_AM','GRADES_8_WH','GRADES_8_G']]\n",
        "print(revs_demo_2005.head())\n",
        "revs_demo_2015 = states_full_key[(states_full_key['YEAR'] == 2015)&(states_full_key['TOTAL_REVENUE'] <= 5000000)][['STATE','TOTAL_REVENUE','AVG_MATH_8_SCORE', 'GRADES_8_BL','GRADES_8_AS','GRADES_8_HI','GRADES_8_AM','GRADES_8_WH','GRADES_8_G']]\n",
        "print(revs_demo_2015.head())"
      ],
      "execution_count": 0,
      "outputs": []
    },
    {
      "cell_type": "markdown",
      "metadata": {
        "id": "LEakVab17BYB",
        "colab_type": "text"
      },
      "source": [
        "Calculate percent of a racial demographic for the state. This is important because the data currently exists as number of students of a specific race, and bigger states will have more students of a race. Percent is a better metric for state wide comparison."
      ]
    },
    {
      "cell_type": "code",
      "metadata": {
        "id": "55mrceZyvJpt",
        "colab_type": "code",
        "colab": {}
      },
      "source": [
        "revs_demo_1992['AS_PER'] =  list(map(race_percent, revs_demo_1992['GRADES_8_AS'],revs_demo_1992['GRADES_8_G']))\n",
        "revs_demo_1992['BL_PER'] =  list(map(race_percent, revs_demo_1992['GRADES_8_BL'],revs_demo_1992['GRADES_8_G']))\n",
        "revs_demo_1992['AM_PER'] =  list(map(race_percent, revs_demo_1992['GRADES_8_AM'],revs_demo_1992['GRADES_8_G']))\n",
        "revs_demo_1992['WH_PER'] =  list(map(race_percent, revs_demo_1992['GRADES_8_WH'],revs_demo_1992['GRADES_8_G']))\n",
        "revs_demo_1992['HI_PER'] =  list(map(race_percent, revs_demo_1992['GRADES_8_HI'],revs_demo_1992['GRADES_8_G']))\n",
        "# get rid of unnecessary rows to have small database\n",
        "revs_demo_1992 = revs_demo_1992[['STATE','AVG_MATH_8_SCORE', 'AS_PER','BL_PER','AM_PER','WH_PER','HI_PER']]\n",
        "revs_demo_1992.head()\n",
        "# need to grab a specific year for this to work i think]"
      ],
      "execution_count": 0,
      "outputs": []
    },
    {
      "cell_type": "markdown",
      "metadata": {
        "id": "valCwtzb7U8B",
        "colab_type": "text"
      },
      "source": [
        "This is a combination database of the database with revenue per student & total students and the database with demographic information"
      ]
    },
    {
      "cell_type": "code",
      "metadata": {
        "id": "RoT4frHVDAT0",
        "colab_type": "code",
        "colab": {}
      },
      "source": [
        "#total database for important metrics in 1992\n",
        "revs_total_1992 = revs_demo_1992\n",
        "revs_total_1992['GRADES_8_G'] = revs_1992['GRADES_8_G']\n",
        "revs_total_1992['REVENUE_PER_STUDENT'] = revs_1992['REVENUE_PER_STUDENT']\n",
        "revs_total_1992 = revs_total_1992.fillna(0)\n",
        "revs_total_1992.head()"
      ],
      "execution_count": 0,
      "outputs": []
    },
    {
      "cell_type": "markdown",
      "metadata": {
        "id": "tEfwV5o2HPjK",
        "colab_type": "text"
      },
      "source": [
        "### Plots of correlations"
      ]
    },
    {
      "cell_type": "markdown",
      "metadata": {
        "id": "s_0wu8SsHX7A",
        "colab_type": "text"
      },
      "source": [
        "These plots look at the correlation between a variable and test scores. This looks at 1992 and 2005 data and 8th graders. The test scores are math scores. This is to determine which metrics look the most promising for linear regression."
      ]
    },
    {
      "cell_type": "markdown",
      "metadata": {
        "id": "FBbksCabHSZL",
        "colab_type": "text"
      },
      "source": [
        "#### Demographic"
      ]
    },
    {
      "cell_type": "markdown",
      "metadata": {
        "id": "DzSJKYGYJpnx",
        "colab_type": "text"
      },
      "source": [
        "The demographics I look into in this section are: white(WH), Black(BL), native americans(AM),asian(AS), and hispanic(HI)"
      ]
    },
    {
      "cell_type": "code",
      "metadata": {
        "id": "9AwWxuviJZBL",
        "colab_type": "code",
        "colab": {}
      },
      "source": [
        "plt.scatter(revs_demo_1992['WH_PER'], revs_1992['AVG_MATH_8_SCORE'])\n",
        "plt.xlabel('Percent of White Students')\n",
        "plt.ylabel('Math 8th Grade Score')\n",
        "plt.title('1992 State High School Scores')\n",
        "\n",
        "plt.show()"
      ],
      "execution_count": 0,
      "outputs": []
    },
    {
      "cell_type": "code",
      "metadata": {
        "id": "AtyztsugJtUD",
        "colab_type": "code",
        "colab": {}
      },
      "source": [
        "plt.scatter(revs_demo_1992['HI_PER'], revs_1992['AVG_MATH_8_SCORE'])\n",
        "plt.xlabel('Percent of Hispanic Students')\n",
        "plt.ylabel('Math 8th Grade Score')\n",
        "plt.title('1992 State High School Scores')\n",
        "\n",
        "plt.show()"
      ],
      "execution_count": 0,
      "outputs": []
    },
    {
      "cell_type": "code",
      "metadata": {
        "id": "99oIt2DNJDeK",
        "colab_type": "code",
        "colab": {}
      },
      "source": [
        "plt.scatter(revs_demo_1992['BL_PER'], revs_1992['AVG_MATH_8_SCORE'])\n",
        "plt.xlabel('Percent of Black Students')\n",
        "plt.ylabel('Math 8th Grade Score')\n",
        "plt.title('1992 State High School Scores')\n",
        "\n",
        "plt.show()"
      ],
      "execution_count": 0,
      "outputs": []
    },
    {
      "cell_type": "code",
      "metadata": {
        "id": "Hh8NGpOpHpRu",
        "colab_type": "code",
        "colab": {}
      },
      "source": [
        "plt.scatter(revs_demo_1992['AS_PER'], revs_1992['AVG_MATH_8_SCORE'])\n",
        "plt.xlabel('Percent of Asian Students')\n",
        "plt.ylabel('Math 8th Grade Score')\n",
        "plt.title('1992 State High School Scores')\n",
        "\n",
        "plt.show()"
      ],
      "execution_count": 0,
      "outputs": []
    },
    {
      "cell_type": "code",
      "metadata": {
        "id": "fmKid3sBJ0IA",
        "colab_type": "code",
        "colab": {}
      },
      "source": [
        "plt.scatter(revs_demo_1992['WH_PER'], revs_1992['AVG_MATH_8_SCORE'])\n",
        "plt.scatter(revs_demo_1992['BL_PER'], revs_1992['AVG_MATH_8_SCORE'])\n",
        "plt.scatter(revs_demo_1992['HI_PER'], revs_1992['AVG_MATH_8_SCORE'])\n",
        "plt.xlabel('Percent of Students for a Demographic')\n",
        "plt.ylabel('Math 8th Grade Score')\n",
        "plt.title('1992 State High School Scores')\n",
        "plt.legend(('White','Black','Hispanic'))\n",
        "\n",
        "plt.show()"
      ],
      "execution_count": 0,
      "outputs": []
    },
    {
      "cell_type": "markdown",
      "metadata": {
        "id": "wN1ZOLC3tObi",
        "colab_type": "text"
      },
      "source": [
        "#### Revenue per student and number of students"
      ]
    },
    {
      "cell_type": "markdown",
      "metadata": {
        "id": "19n5eU6Q9mv1",
        "colab_type": "text"
      },
      "source": [
        "revenue per student vs. scores graphs"
      ]
    },
    {
      "cell_type": "code",
      "metadata": {
        "id": "UxzIzk1v8mJ9",
        "colab_type": "code",
        "colab": {}
      },
      "source": [
        "plt.scatter(revs_1992['REVENUE_PER_STUDENT'], revs_1992['AVG_MATH_8_SCORE'])\n",
        "plt.xlabel('Revenue Per Student($)')\n",
        "plt.ylabel('Math 8th Grade')\n",
        "plt.title('1992 State High School Scores')\n",
        "\n",
        "plt.show()"
      ],
      "execution_count": 0,
      "outputs": []
    },
    {
      "cell_type": "code",
      "metadata": {
        "id": "gOBE9fc287KF",
        "colab_type": "code",
        "colab": {}
      },
      "source": [
        "plt.scatter(revs_2005['REVENUE_PER_STUDENT'], revs_2005['AVG_MATH_8_SCORE'])\n",
        "plt.xlabel('Revenue Per Student($)')\n",
        "plt.ylabel('Math 8th Grade')\n",
        "plt.title('2005 State High School Scores')\n",
        "\n",
        "plt.show()"
      ],
      "execution_count": 0,
      "outputs": []
    },
    {
      "cell_type": "markdown",
      "metadata": {
        "id": "LwIHZC4q9pN4",
        "colab_type": "text"
      },
      "source": [
        "number of students vs. grades graphs"
      ]
    },
    {
      "cell_type": "code",
      "metadata": {
        "id": "deufx0e-9ww-",
        "colab_type": "code",
        "colab": {}
      },
      "source": [
        "plt.scatter(revs_1992['GRADES_8_G'], revs_1992['AVG_MATH_8_SCORE'])\n",
        "plt.xlabel('Number of Students')\n",
        "plt.ylabel('Math 8th Grade')\n",
        "\n",
        "plt.show()"
      ],
      "execution_count": 0,
      "outputs": []
    },
    {
      "cell_type": "code",
      "metadata": {
        "id": "f_AZjWPy95Ah",
        "colab_type": "code",
        "colab": {}
      },
      "source": [
        "plt.scatter(revs_2005['GRADES_8_G'], revs_2005['AVG_MATH_8_SCORE'])\n",
        "plt.xlabel('Number of Students')\n",
        "plt.ylabel('Math 8th Grade')\n",
        "\n",
        "plt.show()"
      ],
      "execution_count": 0,
      "outputs": []
    },
    {
      "cell_type": "markdown",
      "metadata": {
        "id": "fmAJh_klohAa",
        "colab_type": "text"
      },
      "source": [
        "### 1992 regression"
      ]
    },
    {
      "cell_type": "markdown",
      "metadata": {
        "id": "mEY0d4Mo5tXA",
        "colab_type": "text"
      },
      "source": [
        "Linear regression with 1992 metrics to test possible issues with regression and how to set it up with a small amount of data."
      ]
    },
    {
      "cell_type": "code",
      "metadata": {
        "id": "Vrv5Lx10Eit6",
        "colab_type": "code",
        "colab": {}
      },
      "source": [
        "X_education = revs_total_1992.drop(columns=['STATE', 'AVG_MATH_8_SCORE'])\n",
        "y_education = revs_total_1992['AVG_MATH_8_SCORE']\n",
        "\n",
        "plt.figure(figsize=(30, 18))\n",
        "for idx, col in enumerate(X_education):\n",
        "    plt.subplot(3, 4, idx+1)\n",
        "    plt.hexbin(X_education[col], y_education, gridsize=25, cmap='jet')\n",
        "    plt.colorbar()\n",
        "    plt.xlabel(col)\n",
        "    plt.ylabel('8th grade math score')\n",
        "\n",
        "plt.subplots_adjust(wspace=.2)\n",
        "plt.show()"
      ],
      "execution_count": 0,
      "outputs": []
    },
    {
      "cell_type": "code",
      "metadata": {
        "id": "TAmNh5oxb97N",
        "colab_type": "code",
        "colab": {}
      },
      "source": [
        "X_education['bias'] = 1\n",
        "list(zip(linear_regression(X_education, y_education), X_education.columns))\n",
        "#AM and HI show high correlations but thats due to low populations not correlation"
      ],
      "execution_count": 0,
      "outputs": []
    }
  ]
}