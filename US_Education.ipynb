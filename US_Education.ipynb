{
  "nbformat": 4,
  "nbformat_minor": 0,
  "metadata": {
    "colab": {
      "name": "US_Education.ipynb",
      "provenance": [],
      "collapsed_sections": [
        "nzQUQxLAsGAO",
        "OGJl54iWsmFD",
        "DMM5PaxCsVl-",
        "4bSeCZb0s2av",
        "mZQwrAn_tG1A",
        "HE3ZGXy9aiBF"
      ],
      "include_colab_link": true
    },
    "kernelspec": {
      "name": "python3",
      "display_name": "Python 3"
    }
  },
  "cells": [
    {
      "cell_type": "markdown",
      "metadata": {
        "id": "view-in-github",
        "colab_type": "text"
      },
      "source": [
        "<a href=\"https://colab.research.google.com/github/Inkering/Educational-Exploratory-Data-Analysis/blob/master/US_Education.ipynb\" target=\"_parent\"><img src=\"https://colab.research.google.com/assets/colab-badge.svg\" alt=\"Open In Colab\"/></a>"
      ]
    },
    {
      "cell_type": "markdown",
      "metadata": {
        "id": "XXWW56Afhy02",
        "colab_type": "text"
      },
      "source": [
        "# Education!"
      ]
    },
    {
      "cell_type": "markdown",
      "metadata": {
        "id": "3xWawBZ7h39p",
        "colab_type": "text"
      },
      "source": [
        "https://www.kaggle.com/noriuk/us-education-datasets-unification-project/data#\n",
        "\n",
        "https://en.wikipedia.org/wiki/Partial_correlation partial correlation"
      ]
    },
    {
      "cell_type": "markdown",
      "metadata": {
        "id": "nzQUQxLAsGAO",
        "colab_type": "text"
      },
      "source": [
        "## imports and downloads"
      ]
    },
    {
      "cell_type": "code",
      "metadata": {
        "id": "BrS3Nahzb7jL",
        "colab_type": "code",
        "colab": {}
      },
      "source": [
        "import gdown\n",
        "import pandas as pd"
      ],
      "execution_count": 0,
      "outputs": []
    },
    {
      "cell_type": "code",
      "metadata": {
        "id": "HfO7mPCvcaqk",
        "colab_type": "code",
        "outputId": "8c7e67b5-5645-4124-9c0a-4d82a2cbdaf1",
        "colab": {
          "base_uri": "https://localhost:8080/"
        }
      },
      "source": [
        "gdown.download('https://drive.google.com/uc?authuser=0&id=1qno1ugZdSDLS4UnI89VpQZl2fVpbQO50&export=download', 'us-education-dataset.zip', False)\n"
      ],
      "execution_count": 0,
      "outputs": [
        {
          "output_type": "stream",
          "text": [
            "Downloading...\n",
            "From: https://drive.google.com/uc?authuser=0&id=1qno1ugZdSDLS4UnI89VpQZl2fVpbQO50&export=download\n",
            "To: /content/us-education-dataset.zip\n",
            "91.6MB [00:01, 82.2MB/s]\n"
          ],
          "name": "stderr"
        },
        {
          "output_type": "execute_result",
          "data": {
            "text/plain": [
              "'us-education-dataset.zip'"
            ]
          },
          "metadata": {
            "tags": []
          },
          "execution_count": 2
        }
      ]
    },
    {
      "cell_type": "code",
      "metadata": {
        "id": "2rrXo525cFwy",
        "colab_type": "code",
        "colab": {}
      },
      "source": [
        "# Unzip datasets\n",
        "!unzip -qq -o us-education-dataset.zip\n",
        "#https://drive.google.com/file/d/1qno1ugZdSDLS4UnI89VpQZl2fVpbQO50/view?usp=sharing\n",
        "#https://drive.google.com/drive/folders/1AsWUQORymT2BeCBVdyk5X8B5RA20d3Um?usp=sharing\n",
        "#https://drive.google.com/file/d/1Z_rAAy-3UCK3yy-c9_Mxnx7Z34oxGwNL/view?usp=sharing"
      ],
      "execution_count": 0,
      "outputs": []
    },
    {
      "cell_type": "code",
      "metadata": {
        "id": "RbLBqqsfgI4x",
        "colab_type": "code",
        "outputId": "ad5c8824-e028-4187-9b1b-0054a10f282b",
        "colab": {
          "base_uri": "https://localhost:8080/"
        }
      },
      "source": [
        "ls"
      ],
      "execution_count": 0,
      "outputs": [
        {
          "output_type": "stream",
          "text": [
            "\u001b[0m\u001b[01;34maggregates\u001b[0m/              \u001b[01;34mnde\u001b[0m/              states_all.csv\n",
            "\u001b[01;34melsect\u001b[0m/                  \u001b[01;34mNDE\u001b[0m/              states_all_extended.csv\n",
            "enroll_sanity_check.txt  \u001b[01;34msample_data\u001b[0m/      us-education-dataset.zip\n",
            "\u001b[01;34mnces_enroll\u001b[0m/             sanity_check.txt\n"
          ],
          "name": "stdout"
        }
      ]
    },
    {
      "cell_type": "code",
      "metadata": {
        "id": "stE2j4wOtiCt",
        "colab_type": "code",
        "outputId": "4ea7f083-6b87-488e-9dd6-c7ff9a769ce3",
        "colab": {
          "base_uri": "https://localhost:8080/"
        }
      },
      "source": [
        "ls aggregates/Aggregates"
      ],
      "execution_count": 0,
      "outputs": [
        {
          "output_type": "stream",
          "text": [
            "enroll_states_base.csv  finance_districts.csv  naep_states_base.csv\n",
            "enroll_states.csv       finance_states.csv     naep_states.csv\n"
          ],
          "name": "stdout"
        }
      ]
    },
    {
      "cell_type": "markdown",
      "metadata": {
        "id": "OGJl54iWsmFD",
        "colab_type": "text"
      },
      "source": [
        "## Old- naep key"
      ]
    },
    {
      "cell_type": "code",
      "metadata": {
        "id": "TaP0HXXftsaV",
        "colab_type": "code",
        "colab": {}
      },
      "source": [
        "# naep_key = pd.read_csv(\"aggregates/Aggregates/naep_states.csv\")\n",
        "# naep_key"
      ],
      "execution_count": 0,
      "outputs": []
    },
    {
      "cell_type": "code",
      "metadata": {
        "id": "RAeMHdOnSCna",
        "colab_type": "code",
        "colab": {}
      },
      "source": [
        "# naep_state_dict = dict()\n",
        "# for i in range(len(naep_key['PRIMARY_KEY'])):\n",
        "#   state_string = naep_key['PRIMARY_KEY'][i]\n",
        "#   state_list = state_string.split('_')\n",
        "#   year = state_list[0]\n",
        "#   state = '_'.join(state_list[1:])\n",
        "#   if state not in naep_state_dict.keys():\n",
        "#     naep_state_dict[state] = year\n",
        "#   else:\n",
        "#     curr = naep_state_dict[state]\n",
        "#     naep_state_dict[state] = curr + ' ' + year\n",
        "# print(naep_state_dict)\n",
        "#years of states are from 1992 to 2017"
      ],
      "execution_count": 0,
      "outputs": []
    },
    {
      "cell_type": "markdown",
      "metadata": {
        "id": "DMM5PaxCsVl-",
        "colab_type": "text"
      },
      "source": [
        "## Create Databases and Explore"
      ]
    },
    {
      "cell_type": "markdown",
      "metadata": {
        "id": "qUPjeofIiebw",
        "colab_type": "text"
      },
      "source": [
        "\"The extended version of states_all contains additional columns that breakdown enrollment by race and gender. For example:\n",
        "\n",
        "Grades_ALL_AS: Number of students whose ethnicity was classified as \"Asian\".\n",
        "\n",
        "Grades_ALL_ASM: Number of male students whose ethnicity was classified as \"Asian\".\n",
        "\n",
        "Grades_ALL_ASF: Number of female students whose ethnicity was classified as \"Asian\".\n",
        "\n",
        "The represented races include AM (American Indian or Alaska Native), AS (Asian), HI (Hispanic/Latino), BL (Black or African American), WH (White), HP (Hawaiian Native/Pacific Islander), and TR (Two or More Races). The represented genders include M (Male) and F (Female).\""
      ]
    },
    {
      "cell_type": "code",
      "metadata": {
        "id": "eRnJNzN1gMAx",
        "colab_type": "code",
        "outputId": "bfc9e57c-1c5e-4cc5-9e18-693b4bf9aa4c",
        "colab": {
          "base_uri": "https://localhost:8080/"
        }
      },
      "source": [
        "states_full_key = pd.read_csv('states_all_extended.csv')\n",
        "print(len(states_full_key))\n",
        "print(states_full_key['PRIMARY_KEY'])\n",
        "states_full_key.head()"
      ],
      "execution_count": 0,
      "outputs": [
        {
          "output_type": "stream",
          "text": [
            "1492\n",
            "0             1992_ALABAMA\n",
            "1              1992_ALASKA\n",
            "2             1992_ARIZONA\n",
            "3            1992_ARKANSAS\n",
            "4          1992_CALIFORNIA\n",
            "               ...        \n",
            "1487         2017_VIRGINIA\n",
            "1488       2017_WASHINGTON\n",
            "1489    2017_WEST_VIRGINIA\n",
            "1490        2017_WISCONSIN\n",
            "1491          2017_WYOMING\n",
            "Name: PRIMARY_KEY, Length: 1492, dtype: object\n"
          ],
          "name": "stdout"
        },
        {
          "output_type": "execute_result",
          "data": {
            "text/html": [
              "<div>\n",
              "<style scoped>\n",
              "    .dataframe tbody tr th:only-of-type {\n",
              "        vertical-align: middle;\n",
              "    }\n",
              "\n",
              "    .dataframe tbody tr th {\n",
              "        vertical-align: top;\n",
              "    }\n",
              "\n",
              "    .dataframe thead th {\n",
              "        text-align: right;\n",
              "    }\n",
              "</style>\n",
              "<table border=\"1\" class=\"dataframe\">\n",
              "  <thead>\n",
              "    <tr style=\"text-align: right;\">\n",
              "      <th></th>\n",
              "      <th>PRIMARY_KEY</th>\n",
              "      <th>STATE</th>\n",
              "      <th>YEAR</th>\n",
              "      <th>ENROLL</th>\n",
              "      <th>TOTAL_REVENUE</th>\n",
              "      <th>FEDERAL_REVENUE</th>\n",
              "      <th>STATE_REVENUE</th>\n",
              "      <th>LOCAL_REVENUE</th>\n",
              "      <th>TOTAL_EXPENDITURE</th>\n",
              "      <th>INSTRUCTION_EXPENDITURE</th>\n",
              "      <th>SUPPORT_SERVICES_EXPENDITURE</th>\n",
              "      <th>OTHER_EXPENDITURE</th>\n",
              "      <th>CAPITAL_OUTLAY_EXPENDITURE</th>\n",
              "      <th>GRADES_PK_G</th>\n",
              "      <th>GRADES_KG_G</th>\n",
              "      <th>GRADES_4_G</th>\n",
              "      <th>GRADES_8_G</th>\n",
              "      <th>GRADES_12_G</th>\n",
              "      <th>GRADES_1_8_G</th>\n",
              "      <th>GRADES_9_12_G</th>\n",
              "      <th>GRADES_ALL_G</th>\n",
              "      <th>GRADES_PK_AM</th>\n",
              "      <th>GRADES_KG_AM</th>\n",
              "      <th>GRADES_4_AM</th>\n",
              "      <th>GRADES_8_AM</th>\n",
              "      <th>GRADES_12_AM</th>\n",
              "      <th>GRADES_1_8_AM</th>\n",
              "      <th>GRADES_9_12_AM</th>\n",
              "      <th>GRADES_ALL_AM</th>\n",
              "      <th>GRADES_PK_AS</th>\n",
              "      <th>GRADES_KG_AS</th>\n",
              "      <th>GRADES_4_AS</th>\n",
              "      <th>GRADES_8_AS</th>\n",
              "      <th>GRADES_12_AS</th>\n",
              "      <th>GRADES_1_8_AS</th>\n",
              "      <th>GRADES_9_12_AS</th>\n",
              "      <th>GRADES_ALL_AS</th>\n",
              "      <th>GRADES_PK_HI</th>\n",
              "      <th>GRADES_KG_HI</th>\n",
              "      <th>GRADES_4_HI</th>\n",
              "      <th>...</th>\n",
              "      <th>GRADES_12_WHF</th>\n",
              "      <th>GRADES_1_8_WHF</th>\n",
              "      <th>GRADES_9_12_WHF</th>\n",
              "      <th>GRADES_ALL_WHF</th>\n",
              "      <th>GRADES_PK_HPM</th>\n",
              "      <th>GRADES_KG_HPM</th>\n",
              "      <th>GRADES_4_HPM</th>\n",
              "      <th>GRADES_8_HPM</th>\n",
              "      <th>GRADES_12_HPM</th>\n",
              "      <th>GRADES_1_8_HPM</th>\n",
              "      <th>GRADES_9_12_HPM</th>\n",
              "      <th>GRADES_ALL_HPM</th>\n",
              "      <th>GRADES_PK_HPF</th>\n",
              "      <th>GRADES_KG_HPF</th>\n",
              "      <th>GRADES_4_HPF</th>\n",
              "      <th>GRADES_8_HPF</th>\n",
              "      <th>GRADES_12_HPF</th>\n",
              "      <th>GRADES_1_8_HPF</th>\n",
              "      <th>GRADES_9_12_HPF</th>\n",
              "      <th>GRADES_ALL_HPF</th>\n",
              "      <th>GRADES_PK_TRM</th>\n",
              "      <th>GRADES_KG_TRM</th>\n",
              "      <th>GRADES_4_TRM</th>\n",
              "      <th>GRADES_8_TRM</th>\n",
              "      <th>GRADES_12_TRM</th>\n",
              "      <th>GRADES_1_8_TRM</th>\n",
              "      <th>GRADES_9_12_TRM</th>\n",
              "      <th>GRADES_ALL_TRM</th>\n",
              "      <th>GRADES_PK_TRF</th>\n",
              "      <th>GRADES_KG_TRF</th>\n",
              "      <th>GRADES_4_TRF</th>\n",
              "      <th>GRADES_8_TRF</th>\n",
              "      <th>GRADES_12_TRF</th>\n",
              "      <th>GRADES_1_8_TRF</th>\n",
              "      <th>GRADES_9_12_TRF</th>\n",
              "      <th>GRADES_ALL_TRF</th>\n",
              "      <th>AVG_MATH_4_SCORE</th>\n",
              "      <th>AVG_MATH_8_SCORE</th>\n",
              "      <th>AVG_READING_4_SCORE</th>\n",
              "      <th>AVG_READING_8_SCORE</th>\n",
              "    </tr>\n",
              "  </thead>\n",
              "  <tbody>\n",
              "    <tr>\n",
              "      <th>0</th>\n",
              "      <td>1992_ALABAMA</td>\n",
              "      <td>ALABAMA</td>\n",
              "      <td>1992</td>\n",
              "      <td>NaN</td>\n",
              "      <td>2678885.0</td>\n",
              "      <td>304177.0</td>\n",
              "      <td>1659028.0</td>\n",
              "      <td>715680.0</td>\n",
              "      <td>2653798.0</td>\n",
              "      <td>1481703.0</td>\n",
              "      <td>735036.0</td>\n",
              "      <td>NaN</td>\n",
              "      <td>174053.0</td>\n",
              "      <td>8224.0</td>\n",
              "      <td>55460.0</td>\n",
              "      <td>57948.0</td>\n",
              "      <td>58025.0</td>\n",
              "      <td>41167.0</td>\n",
              "      <td>471564.0</td>\n",
              "      <td>196386.0</td>\n",
              "      <td>676174.0</td>\n",
              "      <td>NaN</td>\n",
              "      <td>172.0</td>\n",
              "      <td>460.0</td>\n",
              "      <td>625.0</td>\n",
              "      <td>446.0</td>\n",
              "      <td>3930.0</td>\n",
              "      <td>2069.0</td>\n",
              "      <td>NaN</td>\n",
              "      <td>NaN</td>\n",
              "      <td>307.0</td>\n",
              "      <td>346.0</td>\n",
              "      <td>306.0</td>\n",
              "      <td>249.0</td>\n",
              "      <td>2651.0</td>\n",
              "      <td>1156.0</td>\n",
              "      <td>NaN</td>\n",
              "      <td>NaN</td>\n",
              "      <td>220.0</td>\n",
              "      <td>173.0</td>\n",
              "      <td>...</td>\n",
              "      <td>NaN</td>\n",
              "      <td>NaN</td>\n",
              "      <td>NaN</td>\n",
              "      <td>NaN</td>\n",
              "      <td>NaN</td>\n",
              "      <td>NaN</td>\n",
              "      <td>NaN</td>\n",
              "      <td>NaN</td>\n",
              "      <td>NaN</td>\n",
              "      <td>NaN</td>\n",
              "      <td>NaN</td>\n",
              "      <td>NaN</td>\n",
              "      <td>NaN</td>\n",
              "      <td>NaN</td>\n",
              "      <td>NaN</td>\n",
              "      <td>NaN</td>\n",
              "      <td>NaN</td>\n",
              "      <td>NaN</td>\n",
              "      <td>NaN</td>\n",
              "      <td>NaN</td>\n",
              "      <td>NaN</td>\n",
              "      <td>NaN</td>\n",
              "      <td>NaN</td>\n",
              "      <td>NaN</td>\n",
              "      <td>NaN</td>\n",
              "      <td>NaN</td>\n",
              "      <td>NaN</td>\n",
              "      <td>NaN</td>\n",
              "      <td>NaN</td>\n",
              "      <td>NaN</td>\n",
              "      <td>NaN</td>\n",
              "      <td>NaN</td>\n",
              "      <td>NaN</td>\n",
              "      <td>NaN</td>\n",
              "      <td>NaN</td>\n",
              "      <td>NaN</td>\n",
              "      <td>208.327876</td>\n",
              "      <td>252.187522</td>\n",
              "      <td>207.963517</td>\n",
              "      <td>NaN</td>\n",
              "    </tr>\n",
              "    <tr>\n",
              "      <th>1</th>\n",
              "      <td>1992_ALASKA</td>\n",
              "      <td>ALASKA</td>\n",
              "      <td>1992</td>\n",
              "      <td>NaN</td>\n",
              "      <td>1049591.0</td>\n",
              "      <td>106780.0</td>\n",
              "      <td>720711.0</td>\n",
              "      <td>222100.0</td>\n",
              "      <td>972488.0</td>\n",
              "      <td>498362.0</td>\n",
              "      <td>350902.0</td>\n",
              "      <td>NaN</td>\n",
              "      <td>37451.0</td>\n",
              "      <td>2371.0</td>\n",
              "      <td>10152.0</td>\n",
              "      <td>9748.0</td>\n",
              "      <td>8789.0</td>\n",
              "      <td>6714.0</td>\n",
              "      <td>79117.0</td>\n",
              "      <td>30847.0</td>\n",
              "      <td>112335.0</td>\n",
              "      <td>1457.0</td>\n",
              "      <td>2624.0</td>\n",
              "      <td>2175.0</td>\n",
              "      <td>1853.0</td>\n",
              "      <td>1323.0</td>\n",
              "      <td>17664.0</td>\n",
              "      <td>6391.0</td>\n",
              "      <td>25512.0</td>\n",
              "      <td>55.0</td>\n",
              "      <td>395.0</td>\n",
              "      <td>389.0</td>\n",
              "      <td>367.0</td>\n",
              "      <td>324.0</td>\n",
              "      <td>3090.0</td>\n",
              "      <td>1350.0</td>\n",
              "      <td>4495.0</td>\n",
              "      <td>26.0</td>\n",
              "      <td>229.0</td>\n",
              "      <td>204.0</td>\n",
              "      <td>...</td>\n",
              "      <td>NaN</td>\n",
              "      <td>NaN</td>\n",
              "      <td>NaN</td>\n",
              "      <td>NaN</td>\n",
              "      <td>NaN</td>\n",
              "      <td>NaN</td>\n",
              "      <td>NaN</td>\n",
              "      <td>NaN</td>\n",
              "      <td>NaN</td>\n",
              "      <td>NaN</td>\n",
              "      <td>NaN</td>\n",
              "      <td>NaN</td>\n",
              "      <td>NaN</td>\n",
              "      <td>NaN</td>\n",
              "      <td>NaN</td>\n",
              "      <td>NaN</td>\n",
              "      <td>NaN</td>\n",
              "      <td>NaN</td>\n",
              "      <td>NaN</td>\n",
              "      <td>NaN</td>\n",
              "      <td>NaN</td>\n",
              "      <td>NaN</td>\n",
              "      <td>NaN</td>\n",
              "      <td>NaN</td>\n",
              "      <td>NaN</td>\n",
              "      <td>NaN</td>\n",
              "      <td>NaN</td>\n",
              "      <td>NaN</td>\n",
              "      <td>NaN</td>\n",
              "      <td>NaN</td>\n",
              "      <td>NaN</td>\n",
              "      <td>NaN</td>\n",
              "      <td>NaN</td>\n",
              "      <td>NaN</td>\n",
              "      <td>NaN</td>\n",
              "      <td>NaN</td>\n",
              "      <td>NaN</td>\n",
              "      <td>NaN</td>\n",
              "      <td>NaN</td>\n",
              "      <td>258.859712</td>\n",
              "    </tr>\n",
              "    <tr>\n",
              "      <th>2</th>\n",
              "      <td>1992_ARIZONA</td>\n",
              "      <td>ARIZONA</td>\n",
              "      <td>1992</td>\n",
              "      <td>NaN</td>\n",
              "      <td>3258079.0</td>\n",
              "      <td>297888.0</td>\n",
              "      <td>1369815.0</td>\n",
              "      <td>1590376.0</td>\n",
              "      <td>3401580.0</td>\n",
              "      <td>1435908.0</td>\n",
              "      <td>1007732.0</td>\n",
              "      <td>NaN</td>\n",
              "      <td>609114.0</td>\n",
              "      <td>2544.0</td>\n",
              "      <td>53497.0</td>\n",
              "      <td>55433.0</td>\n",
              "      <td>49081.0</td>\n",
              "      <td>37410.0</td>\n",
              "      <td>437127.0</td>\n",
              "      <td>175210.0</td>\n",
              "      <td>614881.0</td>\n",
              "      <td>250.0</td>\n",
              "      <td>3674.0</td>\n",
              "      <td>3946.0</td>\n",
              "      <td>3230.0</td>\n",
              "      <td>2234.0</td>\n",
              "      <td>30133.0</td>\n",
              "      <td>10686.0</td>\n",
              "      <td>41069.0</td>\n",
              "      <td>20.0</td>\n",
              "      <td>754.0</td>\n",
              "      <td>822.0</td>\n",
              "      <td>734.0</td>\n",
              "      <td>823.0</td>\n",
              "      <td>6446.0</td>\n",
              "      <td>3340.0</td>\n",
              "      <td>9806.0</td>\n",
              "      <td>718.0</td>\n",
              "      <td>15501.0</td>\n",
              "      <td>14877.0</td>\n",
              "      <td>...</td>\n",
              "      <td>NaN</td>\n",
              "      <td>NaN</td>\n",
              "      <td>NaN</td>\n",
              "      <td>NaN</td>\n",
              "      <td>NaN</td>\n",
              "      <td>NaN</td>\n",
              "      <td>NaN</td>\n",
              "      <td>NaN</td>\n",
              "      <td>NaN</td>\n",
              "      <td>NaN</td>\n",
              "      <td>NaN</td>\n",
              "      <td>NaN</td>\n",
              "      <td>NaN</td>\n",
              "      <td>NaN</td>\n",
              "      <td>NaN</td>\n",
              "      <td>NaN</td>\n",
              "      <td>NaN</td>\n",
              "      <td>NaN</td>\n",
              "      <td>NaN</td>\n",
              "      <td>NaN</td>\n",
              "      <td>NaN</td>\n",
              "      <td>NaN</td>\n",
              "      <td>NaN</td>\n",
              "      <td>NaN</td>\n",
              "      <td>NaN</td>\n",
              "      <td>NaN</td>\n",
              "      <td>NaN</td>\n",
              "      <td>NaN</td>\n",
              "      <td>NaN</td>\n",
              "      <td>NaN</td>\n",
              "      <td>NaN</td>\n",
              "      <td>NaN</td>\n",
              "      <td>NaN</td>\n",
              "      <td>NaN</td>\n",
              "      <td>NaN</td>\n",
              "      <td>NaN</td>\n",
              "      <td>215.253932</td>\n",
              "      <td>265.366278</td>\n",
              "      <td>206.212716</td>\n",
              "      <td>262.169895</td>\n",
              "    </tr>\n",
              "    <tr>\n",
              "      <th>3</th>\n",
              "      <td>1992_ARKANSAS</td>\n",
              "      <td>ARKANSAS</td>\n",
              "      <td>1992</td>\n",
              "      <td>NaN</td>\n",
              "      <td>1711959.0</td>\n",
              "      <td>178571.0</td>\n",
              "      <td>958785.0</td>\n",
              "      <td>574603.0</td>\n",
              "      <td>1743022.0</td>\n",
              "      <td>964323.0</td>\n",
              "      <td>483488.0</td>\n",
              "      <td>NaN</td>\n",
              "      <td>145212.0</td>\n",
              "      <td>808.0</td>\n",
              "      <td>33511.0</td>\n",
              "      <td>34632.0</td>\n",
              "      <td>36011.0</td>\n",
              "      <td>27651.0</td>\n",
              "      <td>281338.0</td>\n",
              "      <td>123113.0</td>\n",
              "      <td>405259.0</td>\n",
              "      <td>2.0</td>\n",
              "      <td>84.0</td>\n",
              "      <td>84.0</td>\n",
              "      <td>146.0</td>\n",
              "      <td>67.0</td>\n",
              "      <td>828.0</td>\n",
              "      <td>382.0</td>\n",
              "      <td>1212.0</td>\n",
              "      <td>7.0</td>\n",
              "      <td>199.0</td>\n",
              "      <td>214.0</td>\n",
              "      <td>216.0</td>\n",
              "      <td>224.0</td>\n",
              "      <td>1792.0</td>\n",
              "      <td>902.0</td>\n",
              "      <td>2701.0</td>\n",
              "      <td>11.0</td>\n",
              "      <td>370.0</td>\n",
              "      <td>278.0</td>\n",
              "      <td>...</td>\n",
              "      <td>NaN</td>\n",
              "      <td>NaN</td>\n",
              "      <td>NaN</td>\n",
              "      <td>NaN</td>\n",
              "      <td>NaN</td>\n",
              "      <td>NaN</td>\n",
              "      <td>NaN</td>\n",
              "      <td>NaN</td>\n",
              "      <td>NaN</td>\n",
              "      <td>NaN</td>\n",
              "      <td>NaN</td>\n",
              "      <td>NaN</td>\n",
              "      <td>NaN</td>\n",
              "      <td>NaN</td>\n",
              "      <td>NaN</td>\n",
              "      <td>NaN</td>\n",
              "      <td>NaN</td>\n",
              "      <td>NaN</td>\n",
              "      <td>NaN</td>\n",
              "      <td>NaN</td>\n",
              "      <td>NaN</td>\n",
              "      <td>NaN</td>\n",
              "      <td>NaN</td>\n",
              "      <td>NaN</td>\n",
              "      <td>NaN</td>\n",
              "      <td>NaN</td>\n",
              "      <td>NaN</td>\n",
              "      <td>NaN</td>\n",
              "      <td>NaN</td>\n",
              "      <td>NaN</td>\n",
              "      <td>NaN</td>\n",
              "      <td>NaN</td>\n",
              "      <td>NaN</td>\n",
              "      <td>NaN</td>\n",
              "      <td>NaN</td>\n",
              "      <td>NaN</td>\n",
              "      <td>210.206028</td>\n",
              "      <td>256.312090</td>\n",
              "      <td>208.634458</td>\n",
              "      <td>264.619665</td>\n",
              "    </tr>\n",
              "    <tr>\n",
              "      <th>4</th>\n",
              "      <td>1992_CALIFORNIA</td>\n",
              "      <td>CALIFORNIA</td>\n",
              "      <td>1992</td>\n",
              "      <td>NaN</td>\n",
              "      <td>26260025.0</td>\n",
              "      <td>2072470.0</td>\n",
              "      <td>16546514.0</td>\n",
              "      <td>7641041.0</td>\n",
              "      <td>27138832.0</td>\n",
              "      <td>14358922.0</td>\n",
              "      <td>8520926.0</td>\n",
              "      <td>NaN</td>\n",
              "      <td>2044688.0</td>\n",
              "      <td>59067.0</td>\n",
              "      <td>431763.0</td>\n",
              "      <td>418418.0</td>\n",
              "      <td>363296.0</td>\n",
              "      <td>270675.0</td>\n",
              "      <td>3286034.0</td>\n",
              "      <td>1372011.0</td>\n",
              "      <td>4717112.0</td>\n",
              "      <td>NaN</td>\n",
              "      <td>2954.0</td>\n",
              "      <td>3079.0</td>\n",
              "      <td>2912.0</td>\n",
              "      <td>2434.0</td>\n",
              "      <td>24697.0</td>\n",
              "      <td>12820.0</td>\n",
              "      <td>NaN</td>\n",
              "      <td>NaN</td>\n",
              "      <td>41763.0</td>\n",
              "      <td>46079.0</td>\n",
              "      <td>40852.0</td>\n",
              "      <td>39036.0</td>\n",
              "      <td>356001.0</td>\n",
              "      <td>169604.0</td>\n",
              "      <td>NaN</td>\n",
              "      <td>NaN</td>\n",
              "      <td>170998.0</td>\n",
              "      <td>152087.0</td>\n",
              "      <td>...</td>\n",
              "      <td>NaN</td>\n",
              "      <td>NaN</td>\n",
              "      <td>NaN</td>\n",
              "      <td>NaN</td>\n",
              "      <td>NaN</td>\n",
              "      <td>NaN</td>\n",
              "      <td>NaN</td>\n",
              "      <td>NaN</td>\n",
              "      <td>NaN</td>\n",
              "      <td>NaN</td>\n",
              "      <td>NaN</td>\n",
              "      <td>NaN</td>\n",
              "      <td>NaN</td>\n",
              "      <td>NaN</td>\n",
              "      <td>NaN</td>\n",
              "      <td>NaN</td>\n",
              "      <td>NaN</td>\n",
              "      <td>NaN</td>\n",
              "      <td>NaN</td>\n",
              "      <td>NaN</td>\n",
              "      <td>NaN</td>\n",
              "      <td>NaN</td>\n",
              "      <td>NaN</td>\n",
              "      <td>NaN</td>\n",
              "      <td>NaN</td>\n",
              "      <td>NaN</td>\n",
              "      <td>NaN</td>\n",
              "      <td>NaN</td>\n",
              "      <td>NaN</td>\n",
              "      <td>NaN</td>\n",
              "      <td>NaN</td>\n",
              "      <td>NaN</td>\n",
              "      <td>NaN</td>\n",
              "      <td>NaN</td>\n",
              "      <td>NaN</td>\n",
              "      <td>NaN</td>\n",
              "      <td>208.398961</td>\n",
              "      <td>260.892247</td>\n",
              "      <td>196.764414</td>\n",
              "      <td>NaN</td>\n",
              "    </tr>\n",
              "  </tbody>\n",
              "</table>\n",
              "<p>5 rows × 193 columns</p>\n",
              "</div>"
            ],
            "text/plain": [
              "       PRIMARY_KEY       STATE  ...  AVG_READING_4_SCORE  AVG_READING_8_SCORE\n",
              "0     1992_ALABAMA     ALABAMA  ...           207.963517                  NaN\n",
              "1      1992_ALASKA      ALASKA  ...                  NaN           258.859712\n",
              "2     1992_ARIZONA     ARIZONA  ...           206.212716           262.169895\n",
              "3    1992_ARKANSAS    ARKANSAS  ...           208.634458           264.619665\n",
              "4  1992_CALIFORNIA  CALIFORNIA  ...           196.764414                  NaN\n",
              "\n",
              "[5 rows x 193 columns]"
            ]
          },
          "metadata": {
            "tags": []
          },
          "execution_count": 8
        }
      ]
    },
    {
      "cell_type": "code",
      "metadata": {
        "id": "tL2t1PcpTlT9",
        "colab_type": "code",
        "outputId": "bb510d6a-d31e-49af-9b68-2e5e1a58890a",
        "colab": {
          "base_uri": "https://localhost:8080/"
        }
      },
      "source": [
        "full_states_dict = dict()\n",
        "states_1992_revenue_dict = dict()\n",
        "for i in range(len(states_full_key['PRIMARY_KEY'])):\n",
        "  state_string = states_full_key['PRIMARY_KEY'][i]\n",
        "  state_list = state_string.split('_')\n",
        "  year = state_list[0]\n",
        "  state = '_'.join(state_list[1:])\n",
        "  if state not in full_states_dict.keys():\n",
        "    full_states_dict[state] = year\n",
        "  else:\n",
        "    curr = full_states_dict[state]\n",
        "    full_states_dict[state] = curr + ' ' + year\n",
        "print(full_states_dict)"
      ],
      "execution_count": 0,
      "outputs": [
        {
          "output_type": "stream",
          "text": [
            "{'ALABAMA': '1992 1993 1994 1995 1996 1997 1998 1999 2000 2001 2002 2003 2004 2005 2006 2007 2008 2009 2010 2011 2012 2013 2014 2015 2016 2017', 'ALASKA': '1992 1993 1994 1995 1996 1997 1998 1999 2000 2001 2002 2003 2004 2005 2006 2007 2008 2009 2010 2011 2012 2013 2014 2015 2016 2017', 'ARIZONA': '1992 1993 1994 1995 1996 1997 1998 1999 2000 2001 2002 2003 2004 2005 2006 2007 2008 2009 2010 2011 2012 2013 2014 2015 2016 2017', 'ARKANSAS': '1992 1993 1994 1995 1996 1997 1998 1999 2000 2001 2002 2003 2004 2005 2006 2007 2008 2009 2010 2011 2012 2013 2014 2015 2016 2017', 'CALIFORNIA': '1992 1993 1994 1995 1996 1997 1998 1999 2000 2001 2002 2003 2004 2005 2006 2007 2008 2009 2010 2011 2012 2013 2014 2015 2016 2017', 'COLORADO': '1992 1993 1994 1995 1996 1997 1998 1999 2000 2001 2002 2003 2004 2005 2006 2007 2008 2009 2010 2011 2012 2013 2014 2015 2016 2017', 'CONNECTICUT': '1992 1993 1994 1995 1996 1997 1998 1999 2000 2001 2002 2003 2004 2005 2006 2007 2008 2009 2010 2011 2012 2013 2014 2015 2016 2017', 'DELAWARE': '1992 1993 1994 1995 1996 1997 1998 1999 2000 2001 2002 2003 2004 2005 2006 2007 2008 2009 2010 2011 2012 2013 2014 2015 2016 2017', 'DISTRICT_OF_COLUMBIA': '1992 1993 1994 1995 1996 1997 1998 1999 2000 2001 2002 2003 2004 2005 2006 2007 2008 2008 2009 2009 2010 2010 2011 2012 2013 2014 2015 2016 2017', 'FLORIDA': '1992 1993 1994 1995 1996 1997 1998 1999 2000 2001 2002 2003 2004 2005 2006 2007 2008 2009 2010 2011 2012 2013 2014 2015 2016 2017', 'GEORGIA': '1992 1993 1994 1995 1996 1997 1998 1999 2000 2001 2002 2003 2004 2005 2006 2007 2008 2009 2010 2011 2012 2013 2014 2015 2016 2017', 'HAWAII': '1992 1993 1994 1995 1996 1997 1998 1999 2000 2001 2002 2003 2004 2005 2006 2007 2008 2009 2010 2011 2012 2013 2014 2015 2016 2017', 'IDAHO': '1992 1993 1994 1995 1996 1997 1998 1999 2000 2001 2002 2003 2004 2005 2006 2007 2008 2009 2010 2011 2012 2013 2014 2015 2016 2017', 'ILLINOIS': '1992 1993 1994 1995 1996 1997 1998 1999 2000 2001 2002 2003 2004 2005 2006 2007 2008 2009 2010 2011 2012 2013 2014 2015 2016 2017', 'INDIANA': '1992 1993 1994 1995 1996 1997 1998 1999 2000 2001 2002 2003 2004 2005 2006 2007 2008 2009 2010 2011 2012 2013 2014 2015 2016 2017', 'IOWA': '1992 1993 1994 1995 1996 1997 1998 1999 2000 2001 2002 2003 2004 2005 2006 2007 2008 2009 2010 2011 2012 2013 2014 2015 2016 2017', 'KANSAS': '1992 1993 1994 1995 1996 1997 1998 1999 2000 2001 2002 2003 2004 2005 2006 2007 2008 2009 2010 2011 2012 2013 2014 2015 2016 2017', 'KENTUCKY': '1992 1993 1994 1995 1996 1997 1998 1999 2000 2001 2002 2003 2004 2005 2006 2007 2008 2009 2010 2011 2012 2013 2014 2015 2016 2017', 'LOUISIANA': '1992 1993 1994 1995 1996 1997 1998 1999 2000 2001 2002 2003 2004 2005 2006 2007 2008 2009 2010 2011 2012 2013 2014 2015 2016 2017', 'MAINE': '1992 1993 1994 1995 1996 1997 1998 1999 2000 2001 2002 2003 2004 2005 2006 2007 2008 2009 2010 2011 2012 2013 2014 2015 2016 2017', 'MARYLAND': '1992 1993 1994 1995 1996 1997 1998 1999 2000 2001 2002 2003 2004 2005 2006 2007 2008 2009 2010 2011 2012 2013 2014 2015 2016 2017', 'MASSACHUSETTS': '1992 1993 1994 1995 1996 1997 1998 1999 2000 2001 2002 2003 2004 2005 2006 2007 2008 2009 2010 2011 2012 2013 2014 2015 2016 2017', 'MICHIGAN': '1992 1993 1994 1995 1996 1997 1998 1999 2000 2001 2002 2003 2004 2005 2006 2007 2008 2009 2010 2011 2012 2013 2014 2015 2016 2017', 'MINNESOTA': '1992 1993 1994 1995 1996 1997 1998 1999 2000 2001 2002 2003 2004 2005 2006 2007 2008 2009 2010 2011 2012 2013 2014 2015 2016 2017', 'MISSISSIPPI': '1992 1993 1994 1995 1996 1997 1998 1999 2000 2001 2002 2003 2004 2005 2006 2007 2008 2009 2010 2011 2012 2013 2014 2015 2016 2017', 'MISSOURI': '1992 1993 1994 1995 1996 1997 1998 1999 2000 2001 2002 2003 2004 2005 2006 2007 2008 2009 2010 2011 2012 2013 2014 2015 2016 2017', 'MONTANA': '1992 1993 1994 1995 1996 1997 1998 1999 2000 2001 2002 2003 2004 2005 2006 2007 2008 2009 2010 2011 2012 2013 2014 2015 2016 2017', 'NEBRASKA': '1992 1993 1994 1995 1996 1997 1998 1999 2000 2001 2002 2003 2004 2005 2006 2007 2008 2009 2010 2011 2012 2013 2014 2015 2016 2017', 'NEVADA': '1992 1993 1994 1995 1996 1997 1998 1999 2000 2001 2002 2003 2004 2005 2006 2007 2008 2009 2010 2011 2012 2013 2014 2015 2016 2017', 'NEW_HAMPSHIRE': '1992 1993 1994 1995 1996 1997 1998 1999 2000 2001 2002 2003 2004 2005 2006 2007 2008 2009 2010 2011 2012 2013 2014 2015 2016 2017', 'NEW_JERSEY': '1992 1993 1994 1995 1996 1997 1998 1999 2000 2001 2002 2003 2004 2005 2006 2007 2008 2009 2010 2011 2012 2013 2014 2015 2016 2017', 'NEW_MEXICO': '1992 1993 1994 1995 1996 1997 1998 1999 2000 2001 2002 2003 2004 2005 2006 2007 2008 2009 2010 2011 2012 2013 2014 2015 2016 2017', 'NEW_YORK': '1992 1993 1994 1995 1996 1997 1998 1999 2000 2001 2002 2003 2004 2005 2006 2007 2008 2009 2010 2011 2012 2013 2014 2015 2016 2017', 'NORTH_CAROLINA': '1992 1993 1994 1995 1996 1997 1998 1999 2000 2001 2002 2003 2004 2005 2006 2007 2008 2009 2010 2011 2012 2013 2014 2015 2016 2017', 'NORTH_DAKOTA': '1992 1993 1994 1995 1996 1997 1998 1999 2000 2001 2002 2003 2004 2005 2006 2007 2008 2009 2010 2011 2012 2013 2014 2015 2016 2017', 'OHIO': '1992 1993 1994 1995 1996 1997 1998 1999 2000 2001 2002 2003 2004 2005 2006 2007 2008 2009 2010 2011 2012 2013 2014 2015 2016 2017', 'OKLAHOMA': '1992 1993 1994 1995 1996 1997 1998 1999 2000 2001 2002 2003 2004 2005 2006 2007 2008 2009 2010 2011 2012 2013 2014 2015 2016 2017', 'OREGON': '1992 1993 1994 1995 1996 1997 1998 1999 2000 2001 2002 2003 2004 2005 2006 2007 2008 2009 2010 2011 2012 2013 2014 2015 2016 2017', 'PENNSYLVANIA': '1992 1993 1994 1995 1996 1997 1998 1999 2000 2001 2002 2003 2004 2005 2006 2007 2008 2009 2010 2011 2012 2013 2014 2015 2016 2017', 'RHODE_ISLAND': '1992 1993 1994 1995 1996 1997 1998 1999 2000 2001 2002 2003 2004 2005 2006 2007 2008 2009 2010 2011 2012 2013 2014 2015 2016 2017', 'SOUTH_CAROLINA': '1992 1993 1994 1995 1996 1997 1998 1999 2000 2001 2002 2003 2004 2005 2006 2007 2008 2009 2010 2011 2012 2013 2014 2015 2016 2017', 'SOUTH_DAKOTA': '1992 1993 1994 1995 1996 1997 1998 1999 2000 2001 2002 2003 2004 2005 2006 2007 2008 2009 2010 2011 2012 2013 2014 2015 2016 2017', 'TENNESSEE': '1992 1993 1994 1995 1996 1997 1998 1999 2000 2001 2002 2003 2004 2005 2006 2007 2008 2009 2010 2011 2012 2013 2014 2015 2016 2017', 'TEXAS': '1992 1993 1994 1995 1996 1997 1998 1999 2000 2001 2002 2003 2004 2005 2006 2007 2008 2009 2010 2011 2012 2013 2014 2015 2016 2017', 'UTAH': '1992 1993 1994 1995 1996 1997 1998 1999 2000 2001 2002 2003 2004 2005 2006 2007 2008 2009 2010 2011 2012 2013 2014 2015 2016 2017', 'VERMONT': '1992 1993 1994 1995 1996 1997 1998 1999 2000 2001 2002 2003 2004 2005 2006 2007 2008 2009 2010 2011 2012 2013 2014 2015 2016 2017', 'VIRGINIA': '1992 1993 1994 1995 1996 1997 1998 1999 2000 2001 2002 2003 2004 2005 2006 2007 2008 2008 2008 2009 2010 2011 2012 2013 2014 2015 2016 2017', 'WASHINGTON': '1992 1993 1994 1995 1996 1997 1998 1999 2000 2001 2002 2003 2004 2005 2006 2007 2008 2009 2010 2011 2012 2013 2014 2015 2016 2017', 'WEST_VIRGINIA': '1992 1993 1994 1995 1996 1997 1998 1999 2000 2001 2002 2003 2004 2005 2006 2007 2008 2009 2010 2011 2012 2013 2014 2015 2016 2017', 'WISCONSIN': '1992 1993 1994 1995 1996 1997 1998 1999 2000 2001 2002 2003 2004 2005 2006 2007 2008 2009 2010 2011 2012 2013 2014 2015 2016 2017', 'WYOMING': '1992 1993 1994 1995 1996 1997 1998 1999 2000 2001 2002 2003 2004 2005 2006 2007 2008 2009 2010 2011 2012 2013 2014 2015 2016 2017', 'AMERICAN_SAMOA': '2001 2012 2015 2010 2008 2005 1997 1995 2003 2013 1994 2011 2002 2006 2004 1993 1999 2007 1992 1996 2000 2009', 'BUREAU_OF_INDIAN_AFFAIRS': '2001 2014 2003 2002 1999 2000', 'DOD_DOMESTIC': '2001 2005 2003 2002 2006 2004 1999 2000', 'DOD_OVERSEAS': '2001 2005 2003 2002 2006 2004 1999 2000', 'GUAM': '2001 2012 2014 2015 2010 2008 2005 1997 1995 2003 2013 1994 2011 2002 2006 2004 1993 1999 2007 1992 1996 2000 2009', 'NORTHERN_MARIANAS': '2001 2010 2008 2005 1995 2003 2002 2006 2004 1993 1999 2007 2000 2009', 'PUERTO_RICO': '2001 2012 2014 2015 2010 2008 2005 1997 1995 2003 2013 1994 2011 2002 2006 2004 1993 1999 2007 1992 1996 2000 2009', 'VIRGIN_ISLANDS': '2001 2012 2014 2010 2008 2005 1997 1995 2003 2013 1994 2011 2002 2006 2004 1993 1999 2007 1992 1996 2000 2009', 'BI': '2012 1998 2013 2011', 'DD': '2012 1998 2013 2011', 'NORTHERN_MARIANA_ISLANDS': '2012 2013 2011', 'DEPARTMENT_OF_DEFENSE': '2014', 'BUREAU_OF_INDIAN_EDUCATION': '2015 2007', 'DEPARTMENT_OF_DEFENSE_EDUCATION_ACTIVITY': '2015', 'U.S._VIRGIN_ISLANDS': '2015', 'DOD_(OVERSEAS_AND_DOMESTIC_COMBINED)': '2010', 'BIE': '2005 2006', 'COMMONWEALTH_OF_MARIANAS': '1997 1992 1996', 'DOD_-_FOREIGN': '1997', 'AS': '1998', 'GU': '1998', 'MP': '1998', 'PR': '1998', 'VI': '1998', 'MARIANAS': '1994', 'BUREAU_OF_INDIAN_EDUCATIO': '2004', 'DOD_-_DOMESTIC': '2007 2009', 'DOD_-_OVERSEAS': '2007 2009', 'DOD': '1996'}\n"
          ],
          "name": "stdout"
        }
      ]
    },
    {
      "cell_type": "markdown",
      "metadata": {
        "id": "4bSeCZb0s2av",
        "colab_type": "text"
      },
      "source": [
        "## Useful functions for database indexing"
      ]
    },
    {
      "cell_type": "code",
      "metadata": {
        "id": "M5R2bs2airEn",
        "colab_type": "code",
        "outputId": "c6a6f343-008a-41a3-a018-301e7604ff92",
        "colab": {
          "base_uri": "https://localhost:8080/"
        }
      },
      "source": [
        "states_full_key['PRIMARY_KEY'][1]"
      ],
      "execution_count": 0,
      "outputs": [
        {
          "output_type": "execute_result",
          "data": {
            "text/plain": [
              "'1992_ALASKA'"
            ]
          },
          "metadata": {
            "tags": []
          },
          "execution_count": 10
        }
      ]
    },
    {
      "cell_type": "code",
      "metadata": {
        "id": "v-XdEt8hVqGJ",
        "colab_type": "code",
        "outputId": "4f7fa00b-7cd7-463e-ba66-297498b9ecc5",
        "colab": {
          "base_uri": "https://localhost:8080/"
        }
      },
      "source": [
        "states_full_key.iloc[0]"
      ],
      "execution_count": 0,
      "outputs": [
        {
          "output_type": "execute_result",
          "data": {
            "text/plain": [
              "PRIMARY_KEY            1992_ALABAMA\n",
              "STATE                       ALABAMA\n",
              "YEAR                           1992\n",
              "ENROLL                          NaN\n",
              "TOTAL_REVENUE           2.67888e+06\n",
              "                           ...     \n",
              "GRADES_ALL_TRF                  NaN\n",
              "AVG_MATH_4_SCORE            208.328\n",
              "AVG_MATH_8_SCORE            252.188\n",
              "AVG_READING_4_SCORE         207.964\n",
              "AVG_READING_8_SCORE             NaN\n",
              "Name: 0, Length: 193, dtype: object"
            ]
          },
          "metadata": {
            "tags": []
          },
          "execution_count": 11
        }
      ]
    },
    {
      "cell_type": "markdown",
      "metadata": {
        "id": "wtCmh2Mbs779",
        "colab_type": "text"
      },
      "source": [
        "## Databases for exploring correlations"
      ]
    },
    {
      "cell_type": "markdown",
      "metadata": {
        "id": "9Xy5PqIWcw2A",
        "colab_type": "text"
      },
      "source": [
        "To visualize revenues and scores for states (year 1992):"
      ]
    },
    {
      "cell_type": "code",
      "metadata": {
        "id": "XjruRHwyXR_g",
        "colab_type": "code",
        "outputId": "d1258c50-1418-49ee-e132-6c39d36643cc",
        "colab": {
          "base_uri": "https://localhost:8080/",
          "height": 228
        }
      },
      "source": [
        "#states_full_key[(states_full_key['YEAR'] == 1992)] gets all rows where year == 1992\n",
        "revs_1992 = states_full_key[(states_full_key['YEAR'] == 1992)&(states_full_key['TOTAL_REVENUE'] <= 5000000)][['STATE','TOTAL_REVENUE','AVG_MATH_8_SCORE','GRADES_8_G']]\n",
        "print(revs_1992.head())\n",
        "revs_2005 = states_full_key[(states_full_key['YEAR'] == 2005)&(states_full_key['TOTAL_REVENUE'] <= 5000000)][['STATE','TOTAL_REVENUE','AVG_MATH_8_SCORE','GRADES_8_G']]\n",
        "print(revs_2005.head())"
      ],
      "execution_count": 0,
      "outputs": [
        {
          "output_type": "stream",
          "text": [
            "      STATE  TOTAL_REVENUE  AVG_MATH_8_SCORE  GRADES_8_G\n",
            "0   ALABAMA      2678885.0        252.187522     58025.0\n",
            "1    ALASKA      1049591.0               NaN      8789.0\n",
            "2   ARIZONA      3258079.0        265.366278     49081.0\n",
            "3  ARKANSAS      1711959.0        256.312090     36011.0\n",
            "5  COLORADO      3185173.0        272.398433     45025.0\n",
            "                    STATE  TOTAL_REVENUE  AVG_MATH_8_SCORE  GRADES_8_G\n",
            "664                ALASKA      1599739.0        278.958709     10793.0\n",
            "666              ARKANSAS      3978240.0        271.636348     37279.0\n",
            "670              DELAWARE      1431710.0        280.953543     10492.0\n",
            "671  DISTRICT_OF_COLUMBIA      1109605.0        245.215781      5196.0\n",
            "674                HAWAII      2274166.0        265.629319     13696.0\n"
          ],
          "name": "stdout"
        }
      ]
    },
    {
      "cell_type": "markdown",
      "metadata": {
        "id": "8LPkbm9nB3Xa",
        "colab_type": "text"
      },
      "source": [
        "Add a column for revenue per students"
      ]
    },
    {
      "cell_type": "code",
      "metadata": {
        "id": "cJ_hbKHq7nz_",
        "colab_type": "code",
        "colab": {}
      },
      "source": [
        "def per_student(total, enrolled):\n",
        "  return total/enrolled\n",
        "revs_1992['REVENUE_PER_STUDENT'] =  list(map(per_student, revs_1992['TOTAL_REVENUE'],revs_1992['GRADES_8_G']))\n",
        "#print(revs_1992.head())\n",
        "revs_2005['REVENUE_PER_STUDENT'] =  list(map(per_student, revs_2005['TOTAL_REVENUE'],revs_2005['GRADES_8_G']))\n",
        "#print(revs_2005.head())"
      ],
      "execution_count": 0,
      "outputs": []
    },
    {
      "cell_type": "markdown",
      "metadata": {
        "id": "Dq8l7WdwB-1i",
        "colab_type": "text"
      },
      "source": [
        "Create a database to store race percent/demographics for schools"
      ]
    },
    {
      "cell_type": "markdown",
      "metadata": {
        "id": "hH0Ta4RfD0DM",
        "colab_type": "text"
      },
      "source": [
        "The represented races include AM (American Indian or Alaska Native), AS (Asian), HI (Hispanic/Latino), BL (Black), WH (White), HP (Pacific Islander), and TR (Two or More Races)"
      ]
    },
    {
      "cell_type": "code",
      "metadata": {
        "id": "rIEBLSokD9rN",
        "colab_type": "code",
        "outputId": "271f8db2-4707-43ea-b18d-ada4b32afdcc",
        "colab": {
          "base_uri": "https://localhost:8080/",
          "height": 203
        }
      },
      "source": [
        "#To see what columns hold data\n",
        "states_full_key[(states_full_key['YEAR'] == 1992)&(states_full_key['TOTAL_REVENUE'] <= 5000000)][['STATE','GRADES_8_AS', 'GRADES_8_BL','GRADES_8_AM', 'GRADES_8_WH','GRADES_8_HI','GRADES_8_HP', 'GRADES_8_TR']].head()"
      ],
      "execution_count": 0,
      "outputs": [
        {
          "output_type": "execute_result",
          "data": {
            "text/html": [
              "<div>\n",
              "<style scoped>\n",
              "    .dataframe tbody tr th:only-of-type {\n",
              "        vertical-align: middle;\n",
              "    }\n",
              "\n",
              "    .dataframe tbody tr th {\n",
              "        vertical-align: top;\n",
              "    }\n",
              "\n",
              "    .dataframe thead th {\n",
              "        text-align: right;\n",
              "    }\n",
              "</style>\n",
              "<table border=\"1\" class=\"dataframe\">\n",
              "  <thead>\n",
              "    <tr style=\"text-align: right;\">\n",
              "      <th></th>\n",
              "      <th>STATE</th>\n",
              "      <th>GRADES_8_AS</th>\n",
              "      <th>GRADES_8_BL</th>\n",
              "      <th>GRADES_8_AM</th>\n",
              "      <th>GRADES_8_WH</th>\n",
              "      <th>GRADES_8_HI</th>\n",
              "      <th>GRADES_8_HP</th>\n",
              "      <th>GRADES_8_TR</th>\n",
              "    </tr>\n",
              "  </thead>\n",
              "  <tbody>\n",
              "    <tr>\n",
              "      <th>0</th>\n",
              "      <td>ALABAMA</td>\n",
              "      <td>306.0</td>\n",
              "      <td>20816.0</td>\n",
              "      <td>625.0</td>\n",
              "      <td>35854.0</td>\n",
              "      <td>164.0</td>\n",
              "      <td>NaN</td>\n",
              "      <td>NaN</td>\n",
              "    </tr>\n",
              "    <tr>\n",
              "      <th>1</th>\n",
              "      <td>ALASKA</td>\n",
              "      <td>367.0</td>\n",
              "      <td>422.0</td>\n",
              "      <td>1853.0</td>\n",
              "      <td>5965.0</td>\n",
              "      <td>182.0</td>\n",
              "      <td>NaN</td>\n",
              "      <td>NaN</td>\n",
              "    </tr>\n",
              "    <tr>\n",
              "      <th>2</th>\n",
              "      <td>ARIZONA</td>\n",
              "      <td>734.0</td>\n",
              "      <td>1888.0</td>\n",
              "      <td>3230.0</td>\n",
              "      <td>30265.0</td>\n",
              "      <td>12964.0</td>\n",
              "      <td>NaN</td>\n",
              "      <td>NaN</td>\n",
              "    </tr>\n",
              "    <tr>\n",
              "      <th>3</th>\n",
              "      <td>ARKANSAS</td>\n",
              "      <td>216.0</td>\n",
              "      <td>8828.0</td>\n",
              "      <td>146.0</td>\n",
              "      <td>26588.0</td>\n",
              "      <td>233.0</td>\n",
              "      <td>NaN</td>\n",
              "      <td>NaN</td>\n",
              "    </tr>\n",
              "    <tr>\n",
              "      <th>5</th>\n",
              "      <td>COLORADO</td>\n",
              "      <td>969.0</td>\n",
              "      <td>2361.0</td>\n",
              "      <td>408.0</td>\n",
              "      <td>33892.0</td>\n",
              "      <td>7395.0</td>\n",
              "      <td>NaN</td>\n",
              "      <td>NaN</td>\n",
              "    </tr>\n",
              "  </tbody>\n",
              "</table>\n",
              "</div>"
            ],
            "text/plain": [
              "      STATE  GRADES_8_AS  GRADES_8_BL  ...  GRADES_8_HI  GRADES_8_HP  GRADES_8_TR\n",
              "0   ALABAMA        306.0      20816.0  ...        164.0          NaN          NaN\n",
              "1    ALASKA        367.0        422.0  ...        182.0          NaN          NaN\n",
              "2   ARIZONA        734.0       1888.0  ...      12964.0          NaN          NaN\n",
              "3  ARKANSAS        216.0       8828.0  ...        233.0          NaN          NaN\n",
              "5  COLORADO        969.0       2361.0  ...       7395.0          NaN          NaN\n",
              "\n",
              "[5 rows x 8 columns]"
            ]
          },
          "metadata": {
            "tags": []
          },
          "execution_count": 14
        }
      ]
    },
    {
      "cell_type": "markdown",
      "metadata": {
        "id": "YDhwjxg-EfyU",
        "colab_type": "text"
      },
      "source": [
        "Based on this representation of the table, white(WH), Black(BL), native americans(AM),asian(AS), and hispanic(HI) demographics exist"
      ]
    },
    {
      "cell_type": "code",
      "metadata": {
        "id": "mMlv-MGau9C1",
        "colab_type": "code",
        "outputId": "8cf0b550-2026-4864-e38a-37e16d357a41",
        "colab": {
          "base_uri": "https://localhost:8080/",
          "height": 439
        }
      },
      "source": [
        "revs_demo_1992 = states_full_key[(states_full_key['YEAR'] == 1992)&(states_full_key['TOTAL_REVENUE'] <= 5000000)][['STATE','TOTAL_REVENUE','AVG_MATH_8_SCORE', 'GRADES_8_BL','GRADES_8_AS','GRADES_8_HI','GRADES_8_AM','GRADES_8_WH','GRADES_8_G']]\n",
        "print(revs_demo_1992.head())\n",
        "revs_demo_2005 = states_full_key[(states_full_key['YEAR'] == 2005)&(states_full_key['TOTAL_REVENUE'] <= 5000000)][['STATE','TOTAL_REVENUE','AVG_MATH_8_SCORE', 'GRADES_8_BL','GRADES_8_AS','GRADES_8_HI','GRADES_8_AM','GRADES_8_WH','GRADES_8_G']]\n",
        "print(revs_demo_2005.head())\n",
        "revs_demo_2015 = states_full_key[(states_full_key['YEAR'] == 2015)&(states_full_key['TOTAL_REVENUE'] <= 5000000)][['STATE','TOTAL_REVENUE','AVG_MATH_8_SCORE', 'GRADES_8_BL','GRADES_8_AS','GRADES_8_HI','GRADES_8_AM','GRADES_8_WH','GRADES_8_G']]\n",
        "print(revs_demo_2015.head())"
      ],
      "execution_count": 0,
      "outputs": [
        {
          "output_type": "stream",
          "text": [
            "      STATE  TOTAL_REVENUE  ...  GRADES_8_WH  GRADES_8_G\n",
            "0   ALABAMA      2678885.0  ...      35854.0     58025.0\n",
            "1    ALASKA      1049591.0  ...       5965.0      8789.0\n",
            "2   ARIZONA      3258079.0  ...      30265.0     49081.0\n",
            "3  ARKANSAS      1711959.0  ...      26588.0     36011.0\n",
            "5  COLORADO      3185173.0  ...      33892.0     45025.0\n",
            "\n",
            "[5 rows x 9 columns]\n",
            "                    STATE  TOTAL_REVENUE  ...  GRADES_8_WH  GRADES_8_G\n",
            "664                ALASKA      1599739.0  ...       6243.0     10793.0\n",
            "666              ARKANSAS      3978240.0  ...      25807.0     37279.0\n",
            "670              DELAWARE      1431710.0  ...       5693.0     10492.0\n",
            "671  DISTRICT_OF_COLUMBIA      1109605.0  ...        125.0      5196.0\n",
            "674                HAWAII      2274166.0  ...       2593.0     13696.0\n",
            "\n",
            "[5 rows x 9 columns]\n",
            "                     STATE  TOTAL_REVENUE  ...  GRADES_8_WH  GRADES_8_G\n",
            "1179                ALASKA      2920986.0  ...       4544.0      9400.0\n",
            "1185              DELAWARE      2017075.0  ...       4707.0     10090.0\n",
            "1186  DISTRICT_OF_COLUMBIA      1382282.0  ...        373.0      4430.0\n",
            "1189                HAWAII      2703683.0  ...       1611.0     13129.0\n",
            "1190                 IDAHO      2167967.0  ...      17029.0     22350.0\n",
            "\n",
            "[5 rows x 9 columns]\n"
          ],
          "name": "stdout"
        }
      ]
    },
    {
      "cell_type": "code",
      "metadata": {
        "id": "55mrceZyvJpt",
        "colab_type": "code",
        "outputId": "cf927732-fe66-4cfd-cd38-7ff1d250e62a",
        "colab": {
          "base_uri": "https://localhost:8080/",
          "height": 203
        }
      },
      "source": [
        "def race_percent(num_race, total):\n",
        "  if num_race == None or total == None:\n",
        "    return 0\n",
        "  else:\n",
        "    return float(num_race)/float(total)\n",
        "\n",
        "# for each racial demographic calculate percent\n",
        "revs_demo_1992['AS_PER'] =  list(map(race_percent, revs_demo_1992['GRADES_8_AS'],revs_demo_1992['GRADES_8_G']))\n",
        "revs_demo_1992['BL_PER'] =  list(map(race_percent, revs_demo_1992['GRADES_8_BL'],revs_demo_1992['GRADES_8_G']))\n",
        "revs_demo_1992['AM_PER'] =  list(map(race_percent, revs_demo_1992['GRADES_8_AM'],revs_demo_1992['GRADES_8_G']))\n",
        "revs_demo_1992['WH_PER'] =  list(map(race_percent, revs_demo_1992['GRADES_8_WH'],revs_demo_1992['GRADES_8_G']))\n",
        "revs_demo_1992['HI_PER'] =  list(map(race_percent, revs_demo_1992['GRADES_8_HI'],revs_demo_1992['GRADES_8_G']))\n",
        "# get rid of unnecessary rows to have small database\n",
        "revs_demo_1992 = revs_demo_1992[['STATE','TOTAL_REVENUE','AVG_MATH_8_SCORE', 'AS_PER','BL_PER','AM_PER','WH_PER','HI_PER']]\n",
        "revs_demo_1992.head()\n",
        "# need to grab a specific year for this to work i think]"
      ],
      "execution_count": 0,
      "outputs": [
        {
          "output_type": "execute_result",
          "data": {
            "text/html": [
              "<div>\n",
              "<style scoped>\n",
              "    .dataframe tbody tr th:only-of-type {\n",
              "        vertical-align: middle;\n",
              "    }\n",
              "\n",
              "    .dataframe tbody tr th {\n",
              "        vertical-align: top;\n",
              "    }\n",
              "\n",
              "    .dataframe thead th {\n",
              "        text-align: right;\n",
              "    }\n",
              "</style>\n",
              "<table border=\"1\" class=\"dataframe\">\n",
              "  <thead>\n",
              "    <tr style=\"text-align: right;\">\n",
              "      <th></th>\n",
              "      <th>STATE</th>\n",
              "      <th>TOTAL_REVENUE</th>\n",
              "      <th>AVG_MATH_8_SCORE</th>\n",
              "      <th>AS_PER</th>\n",
              "      <th>BL_PER</th>\n",
              "      <th>AM_PER</th>\n",
              "      <th>WH_PER</th>\n",
              "      <th>HI_PER</th>\n",
              "    </tr>\n",
              "  </thead>\n",
              "  <tbody>\n",
              "    <tr>\n",
              "      <th>0</th>\n",
              "      <td>ALABAMA</td>\n",
              "      <td>2678885.0</td>\n",
              "      <td>252.187522</td>\n",
              "      <td>0.005274</td>\n",
              "      <td>0.358742</td>\n",
              "      <td>0.010771</td>\n",
              "      <td>0.617906</td>\n",
              "      <td>0.002826</td>\n",
              "    </tr>\n",
              "    <tr>\n",
              "      <th>1</th>\n",
              "      <td>ALASKA</td>\n",
              "      <td>1049591.0</td>\n",
              "      <td>NaN</td>\n",
              "      <td>0.041757</td>\n",
              "      <td>0.048015</td>\n",
              "      <td>0.210832</td>\n",
              "      <td>0.678689</td>\n",
              "      <td>0.020708</td>\n",
              "    </tr>\n",
              "    <tr>\n",
              "      <th>2</th>\n",
              "      <td>ARIZONA</td>\n",
              "      <td>3258079.0</td>\n",
              "      <td>265.366278</td>\n",
              "      <td>0.014955</td>\n",
              "      <td>0.038467</td>\n",
              "      <td>0.065810</td>\n",
              "      <td>0.616634</td>\n",
              "      <td>0.264135</td>\n",
              "    </tr>\n",
              "    <tr>\n",
              "      <th>3</th>\n",
              "      <td>ARKANSAS</td>\n",
              "      <td>1711959.0</td>\n",
              "      <td>256.312090</td>\n",
              "      <td>0.005998</td>\n",
              "      <td>0.245147</td>\n",
              "      <td>0.004054</td>\n",
              "      <td>0.738330</td>\n",
              "      <td>0.006470</td>\n",
              "    </tr>\n",
              "    <tr>\n",
              "      <th>5</th>\n",
              "      <td>COLORADO</td>\n",
              "      <td>3185173.0</td>\n",
              "      <td>272.398433</td>\n",
              "      <td>0.021521</td>\n",
              "      <td>0.052438</td>\n",
              "      <td>0.009062</td>\n",
              "      <td>0.752737</td>\n",
              "      <td>0.164242</td>\n",
              "    </tr>\n",
              "  </tbody>\n",
              "</table>\n",
              "</div>"
            ],
            "text/plain": [
              "      STATE  TOTAL_REVENUE  AVG_MATH_8_SCORE  ...    AM_PER    WH_PER    HI_PER\n",
              "0   ALABAMA      2678885.0        252.187522  ...  0.010771  0.617906  0.002826\n",
              "1    ALASKA      1049591.0               NaN  ...  0.210832  0.678689  0.020708\n",
              "2   ARIZONA      3258079.0        265.366278  ...  0.065810  0.616634  0.264135\n",
              "3  ARKANSAS      1711959.0        256.312090  ...  0.004054  0.738330  0.006470\n",
              "5  COLORADO      3185173.0        272.398433  ...  0.009062  0.752737  0.164242\n",
              "\n",
              "[5 rows x 8 columns]"
            ]
          },
          "metadata": {
            "tags": []
          },
          "execution_count": 16
        }
      ]
    },
    {
      "cell_type": "markdown",
      "metadata": {
        "id": "tEfwV5o2HPjK",
        "colab_type": "text"
      },
      "source": [
        "## Plots of correlations"
      ]
    },
    {
      "cell_type": "markdown",
      "metadata": {
        "id": "s_0wu8SsHX7A",
        "colab_type": "text"
      },
      "source": [
        "These plots look at the correlation between a variable and test scores. For now, this is just on 1992 and 2005 data and 8th graders. The test scores are math scores."
      ]
    },
    {
      "cell_type": "markdown",
      "metadata": {
        "id": "FBbksCabHSZL",
        "colab_type": "text"
      },
      "source": [
        "### Demographic"
      ]
    },
    {
      "cell_type": "markdown",
      "metadata": {
        "id": "DzSJKYGYJpnx",
        "colab_type": "text"
      },
      "source": [
        "white(WH), Black(BL), native americans(AM),asian(AS), and hispanic(HI)"
      ]
    },
    {
      "cell_type": "code",
      "metadata": {
        "id": "YhZA1ETbtnnz",
        "colab_type": "code",
        "colab": {}
      },
      "source": [
        "from matplotlib.lines import Line2D\n",
        "import matplotlib.pyplot as plt\n",
        "%matplotlib inline\n",
        "from matplotlib.ticker import FormatStrFormatter"
      ],
      "execution_count": 0,
      "outputs": []
    },
    {
      "cell_type": "code",
      "metadata": {
        "id": "Bt1SlRxkLf1e",
        "colab_type": "code",
        "colab": {}
      },
      "source": [
        "# plt.scatter(revs_demo_1992['WH_PER'], revs_1992['AVG_MATH_8_SCORE'])\n",
        "# plt.scatter(revs_demo_1992['BL_PER'], revs_1992['AVG_MATH_8_SCORE'])\n",
        "# plt.scatter(revs_demo_1992['HI_PER'], revs_1992['AVG_MATH_8_SCORE'])\n",
        "# plt.scatter(revs_demo_1992['AS_PER'], revs_1992['AVG_MATH_8_SCORE'])\n",
        "# plt.scatter(revs_demo_1992['AM_PER'], revs_1992['AVG_MATH_8_SCORE'])"
      ],
      "execution_count": 0,
      "outputs": []
    },
    {
      "cell_type": "code",
      "metadata": {
        "id": "9AwWxuviJZBL",
        "colab_type": "code",
        "outputId": "48e94877-0477-4072-83b6-6eb5fee2da3a",
        "colab": {
          "base_uri": "https://localhost:8080/",
          "height": 295
        }
      },
      "source": [
        "plt.scatter(revs_demo_1992['WH_PER'], revs_1992['AVG_MATH_8_SCORE'])\n",
        "plt.xlabel('Percent of White Students')\n",
        "plt.ylabel('Math 8th Grade Score')\n",
        "plt.title('1992 State High School Scores')\n",
        "\n",
        "#plt.gca().xaxis.set_major_formatter(FormatStrFormatter('%d'))\n",
        "plt.show()"
      ],
      "execution_count": 0,
      "outputs": [
        {
          "output_type": "display_data",
          "data": {
            "image/png": "[encoded data removed]",
            "text/plain": [
              "<Figure size 432x288 with 1 Axes>"
            ]
          },
          "metadata": {
            "tags": []
          }
        }
      ]
    },
    {
      "cell_type": "code",
      "metadata": {
        "id": "AtyztsugJtUD",
        "colab_type": "code",
        "outputId": "d8f74f46-476c-43b9-9a80-453fa8e4541d",
        "colab": {
          "base_uri": "https://localhost:8080/",
          "height": 295
        }
      },
      "source": [
        "plt.scatter(revs_demo_1992['HI_PER'], revs_1992['AVG_MATH_8_SCORE'])\n",
        "plt.xlabel('Percent of Hispanic Students')\n",
        "plt.ylabel('Math 8th Grade Score')\n",
        "plt.title('1992 State High School Scores')\n",
        "\n",
        "#plt.gca().xaxis.set_major_formatter(FormatStrFormatter('%d'))\n",
        "plt.show()"
      ],
      "execution_count": 0,
      "outputs": [
        {
          "output_type": "display_data",
          "data": {
            "image/png": "[encoded data removed]",
            "text/plain": [
              "<Figure size 432x288 with 1 Axes>"
            ]
          },
          "metadata": {
            "tags": []
          }
        }
      ]
    },
    {
      "cell_type": "code",
      "metadata": {
        "id": "99oIt2DNJDeK",
        "colab_type": "code",
        "outputId": "3a45e019-6ed7-4bda-a809-a94bd3009431",
        "colab": {
          "base_uri": "https://localhost:8080/",
          "height": 295
        }
      },
      "source": [
        "plt.scatter(revs_demo_1992['BL_PER'], revs_1992['AVG_MATH_8_SCORE'])\n",
        "plt.xlabel('Percent of Black Students')\n",
        "plt.ylabel('Math 8th Grade Score')\n",
        "plt.title('1992 State High School Scores')\n",
        "\n",
        "#plt.gca().xaxis.set_major_formatter(FormatStrFormatter('%d'))\n",
        "plt.show()"
      ],
      "execution_count": 0,
      "outputs": [
        {
          "output_type": "display_data",
          "data": {
            "image/png": "[encoded data removed]",
            "text/plain": [
              "<Figure size 432x288 with 1 Axes>"
            ]
          },
          "metadata": {
            "tags": []
          }
        }
      ]
    },
    {
      "cell_type": "code",
      "metadata": {
        "id": "Hh8NGpOpHpRu",
        "colab_type": "code",
        "outputId": "0c7cb4a4-0b80-4cce-b51a-34ead4f483e4",
        "colab": {
          "base_uri": "https://localhost:8080/",
          "height": 295
        }
      },
      "source": [
        "plt.scatter(revs_demo_1992['AS_PER'], revs_1992['AVG_MATH_8_SCORE'])\n",
        "plt.xlabel('Percent of Asian Students')\n",
        "plt.ylabel('Math 8th Grade Score')\n",
        "plt.title('1992 State High School Scores')\n",
        "\n",
        "#plt.gca().xaxis.set_major_formatter(FormatStrFormatter('%d'))\n",
        "plt.show()"
      ],
      "execution_count": 0,
      "outputs": [
        {
          "output_type": "display_data",
          "data": {
            "image/png": "[encoded data removed]",
            "text/plain": [
              "<Figure size 432x288 with 1 Axes>"
            ]
          },
          "metadata": {
            "tags": []
          }
        }
      ]
    },
    {
      "cell_type": "code",
      "metadata": {
        "id": "fmKid3sBJ0IA",
        "colab_type": "code",
        "outputId": "29f962cd-d43b-49f3-ab6b-f582258abe8c",
        "colab": {
          "base_uri": "https://localhost:8080/",
          "height": 295
        }
      },
      "source": [
        "plt.scatter(revs_demo_1992['WH_PER'], revs_1992['AVG_MATH_8_SCORE'])\n",
        "plt.scatter(revs_demo_1992['BL_PER'], revs_1992['AVG_MATH_8_SCORE'])\n",
        "plt.scatter(revs_demo_1992['HI_PER'], revs_1992['AVG_MATH_8_SCORE'])\n",
        "plt.xlabel('Percent of Students for a Demographic')\n",
        "plt.ylabel('Math 8th Grade Score')\n",
        "plt.title('1992 State High School Scores')\n",
        "plt.legend(('White','Black','Hispanic'))\n",
        "\n",
        "plt.show()"
      ],
      "execution_count": 0,
      "outputs": [
        {
          "output_type": "display_data",
          "data": {
            "image/png": "[encoded data removed]",
            "text/plain": [
              "<Figure size 432x288 with 1 Axes>"
            ]
          },
          "metadata": {
            "tags": []
          }
        }
      ]
    },
    {
      "cell_type": "markdown",
      "metadata": {
        "id": "wN1ZOLC3tObi",
        "colab_type": "text"
      },
      "source": [
        "### Revenue per student and number of students"
      ]
    },
    {
      "cell_type": "markdown",
      "metadata": {
        "id": "19n5eU6Q9mv1",
        "colab_type": "text"
      },
      "source": [
        "revenue per student vs. scores graphs"
      ]
    },
    {
      "cell_type": "code",
      "metadata": {
        "id": "UxzIzk1v8mJ9",
        "colab_type": "code",
        "outputId": "a452a079-2624-473a-e20d-243a667e4fa4",
        "colab": {
          "base_uri": "https://localhost:8080/",
          "height": 295
        }
      },
      "source": [
        "plt.scatter(revs_1992['REVENUE_PER_STUDENT'], revs_1992['AVG_MATH_8_SCORE'])\n",
        "plt.xlabel('Revenue Per Student($)')\n",
        "plt.ylabel('Math 8th Grade')\n",
        "plt.title('1992 State High School Scores')\n",
        "\n",
        "#plt.gca().xaxis.set_major_formatter(FormatStrFormatter('%d'))\n",
        "plt.show()"
      ],
      "execution_count": 0,
      "outputs": [
        {
          "output_type": "display_data",
          "data": {
            "image/png": "[encoded data removed]",
            "text/plain": [
              "<Figure size 432x288 with 1 Axes>"
            ]
          },
          "metadata": {
            "tags": []
          }
        }
      ]
    },
    {
      "cell_type": "code",
      "metadata": {
        "id": "gOBE9fc287KF",
        "colab_type": "code",
        "outputId": "e15d898c-2727-482a-fea8-b568b6975b96",
        "colab": {
          "base_uri": "https://localhost:8080/",
          "height": 295
        }
      },
      "source": [
        "plt.scatter(revs_2005['REVENUE_PER_STUDENT'], revs_2005['AVG_MATH_8_SCORE'])\n",
        "plt.xlabel('Revenue Per Student($)')\n",
        "plt.ylabel('Math 8th Grade')\n",
        "plt.title('2005 State High School Scores')\n",
        "\n",
        "#plt.gca().xaxis.set_major_formatter(FormatStrFormatter('%d'))\n",
        "plt.show()"
      ],
      "execution_count": 0,
      "outputs": [
        {
          "output_type": "display_data",
          "data": {
            "image/png": "[encoded data removed]",
            "text/plain": [
              "<Figure size 432x288 with 1 Axes>"
            ]
          },
          "metadata": {
            "tags": []
          }
        }
      ]
    },
    {
      "cell_type": "markdown",
      "metadata": {
        "id": "LwIHZC4q9pN4",
        "colab_type": "text"
      },
      "source": [
        "number of students vs. grades graphs"
      ]
    },
    {
      "cell_type": "code",
      "metadata": {
        "id": "deufx0e-9ww-",
        "colab_type": "code",
        "outputId": "2ed1f4f6-1ec1-41dc-8643-2bca14fa8eb9",
        "colab": {
          "base_uri": "https://localhost:8080/",
          "height": 279
        }
      },
      "source": [
        "plt.scatter(revs_1992['GRADES_8_G'], revs_1992['AVG_MATH_8_SCORE'])\n",
        "plt.xlabel('Number of Students')\n",
        "plt.ylabel('Math 8th Grade')\n",
        "\n",
        "#plt.gca().xaxis.set_major_formatter(FormatStrFormatter('%d'))\n",
        "plt.show()"
      ],
      "execution_count": 0,
      "outputs": [
        {
          "output_type": "display_data",
          "data": {
            "image/png": "[encoded data removed]",
            "text/plain": [
              "<Figure size 432x288 with 1 Axes>"
            ]
          },
          "metadata": {
            "tags": []
          }
        }
      ]
    },
    {
      "cell_type": "code",
      "metadata": {
        "id": "f_AZjWPy95Ah",
        "colab_type": "code",
        "outputId": "fb74efa1-4f31-4bde-c395-296a357c32d4",
        "colab": {
          "base_uri": "https://localhost:8080/",
          "height": 279
        }
      },
      "source": [
        "plt.scatter(revs_2005['GRADES_8_G'], revs_2005['AVG_MATH_8_SCORE'])\n",
        "plt.xlabel('Number of Students')\n",
        "plt.ylabel('Math 8th Grade')\n",
        "\n",
        "#plt.gca().xaxis.set_major_formatter(FormatStrFormatter('%d'))\n",
        "plt.show()"
      ],
      "execution_count": 0,
      "outputs": [
        {
          "output_type": "display_data",
          "data": {
            "image/png": "[encoded data removed]",
            "text/plain": [
              "<Figure size 432x288 with 1 Axes>"
            ]
          },
          "metadata": {
            "tags": []
          }
        }
      ]
    },
    {
      "cell_type": "code",
      "metadata": {
        "id": "lO-GnAxLty5f",
        "colab_type": "code",
        "colab": {}
      },
      "source": [
        ""
      ],
      "execution_count": 0,
      "outputs": []
    },
    {
      "cell_type": "markdown",
      "metadata": {
        "id": "mZQwrAn_tG1A",
        "colab_type": "text"
      },
      "source": [
        "### other plots"
      ]
    },
    {
      "cell_type": "code",
      "metadata": {
        "id": "yAlSCIU8a_BA",
        "colab_type": "code",
        "colab": {}
      },
      "source": [
        "# from matplotlib.lines import Line2D\n",
        "# import matplotlib.pyplot as plt\n",
        "# %matplotlib inline\n",
        "# from matplotlib.ticker import FormatStrFormatter\n",
        "\n",
        "# plt.scatter(revs_1992['STATE'], revs_1992['TOTAL_REVENUE'])\n",
        "# plt.xlabel('State')\n",
        "# plt.ylabel('Total Revenue ($)')\n",
        "\n",
        "# plt.gca().xaxis.set_major_formatter(FormatStrFormatter('%d'))\n",
        "# plt.show()"
      ],
      "execution_count": 0,
      "outputs": []
    },
    {
      "cell_type": "code",
      "metadata": {
        "id": "8yx82pQyiLmz",
        "colab_type": "code",
        "colab": {}
      },
      "source": [
        "#can be helpful just to see what states make most revenue\n",
        "# plt.scatter(revs_2005['STATE'], revs_2005['TOTAL_REVENUE'])\n",
        "# plt.xlabel('State')\n",
        "# plt.ylabel('Total Revenue ($)')\n",
        "# plt.title('1992 State High School Scores')\n",
        "\n",
        "# plt.gca().xaxis.set_major_formatter(FormatStrFormatter('%d'))\n",
        "# plt.show()"
      ],
      "execution_count": 0,
      "outputs": []
    },
    {
      "cell_type": "code",
      "metadata": {
        "id": "plTEWG_hgI03",
        "colab_type": "code",
        "colab": {}
      },
      "source": [
        "#no correlation, then decided to do it per student\n",
        "# plt.scatter(revs_1992['TOTAL_REVENUE'], revs_1992['AVG_MATH_8_SCORE'])\n",
        "# plt.xlabel('Total Revenue ($)')\n",
        "# plt.ylabel('Math 8th Grade')\n",
        "\n",
        "# #plt.gca().xaxis.set_major_formatter(FormatStrFormatter('%d'))\n",
        "# plt.show()"
      ],
      "execution_count": 0,
      "outputs": []
    },
    {
      "cell_type": "code",
      "metadata": {
        "id": "Sx2Ff17riph8",
        "colab_type": "code",
        "colab": {}
      },
      "source": [
        "# plt.scatter(revs_2005['TOTAL_REVENUE'], revs_2005['AVG_MATH_8_SCORE'])\n",
        "# plt.xlabel('Total Revenue ($)')\n",
        "# plt.ylabel('Math 8th Grade')\n",
        "# plt.title('2005 State High School Scores')\n",
        "\n",
        "# #plt.gca().xaxis.set_major_formatter(FormatStrFormatter('%d'))\n",
        "# plt.show()"
      ],
      "execution_count": 0,
      "outputs": []
    },
    {
      "cell_type": "code",
      "metadata": {
        "id": "MS5sxhWlWw6X",
        "colab_type": "code",
        "colab": {}
      },
      "source": [
        "#states_full_key.loc[['1992_ALABAMA','1992'],['PRIMARY_KEY','YEAR']]"
      ],
      "execution_count": 0,
      "outputs": []
    },
    {
      "cell_type": "markdown",
      "metadata": {
        "id": "HE3ZGXy9aiBF",
        "colab_type": "text"
      },
      "source": [
        "## Other stuff"
      ]
    },
    {
      "cell_type": "code",
      "metadata": {
        "id": "lCRZXmCVgS5W",
        "colab_type": "code",
        "outputId": "b1611f4a-6645-4db7-c31c-f76016105292",
        "colab": {
          "base_uri": "https://localhost:8080/"
        }
      },
      "source": [
        "ls sample_data/"
      ],
      "execution_count": 0,
      "outputs": [
        {
          "output_type": "stream",
          "text": [
            "\u001b[0m\u001b[01;32manscombe.json\u001b[0m*                mnist_test.csv\n",
            "california_housing_test.csv   mnist_train_small.csv\n",
            "california_housing_train.csv  \u001b[01;32mREADME.md\u001b[0m*\n"
          ],
          "name": "stdout"
        }
      ]
    },
    {
      "cell_type": "code",
      "metadata": {
        "id": "ceaIGWPYgq8B",
        "colab_type": "code",
        "outputId": "70fbb2bb-6ff7-4224-c33f-9cb5d26bdf50",
        "colab": {
          "base_uri": "https://localhost:8080/"
        }
      },
      "source": [
        "test = pd.read_csv('sample_data/mnist_train_small.csv')\n",
        "test.head()"
      ],
      "execution_count": 0,
      "outputs": [
        {
          "output_type": "execute_result",
          "data": {
            "text/html": [
              "<div>\n",
              "<style scoped>\n",
              "    .dataframe tbody tr th:only-of-type {\n",
              "        vertical-align: middle;\n",
              "    }\n",
              "\n",
              "    .dataframe tbody tr th {\n",
              "        vertical-align: top;\n",
              "    }\n",
              "\n",
              "    .dataframe thead th {\n",
              "        text-align: right;\n",
              "    }\n",
              "</style>\n",
              "<table border=\"1\" class=\"dataframe\">\n",
              "  <thead>\n",
              "    <tr style=\"text-align: right;\">\n",
              "      <th></th>\n",
              "      <th>6</th>\n",
              "      <th>0</th>\n",
              "      <th>0.1</th>\n",
              "      <th>0.2</th>\n",
              "      <th>0.3</th>\n",
              "      <th>0.4</th>\n",
              "      <th>0.5</th>\n",
              "      <th>0.6</th>\n",
              "      <th>0.7</th>\n",
              "      <th>0.8</th>\n",
              "      <th>0.9</th>\n",
              "      <th>0.10</th>\n",
              "      <th>0.11</th>\n",
              "      <th>0.12</th>\n",
              "      <th>0.13</th>\n",
              "      <th>0.14</th>\n",
              "      <th>0.15</th>\n",
              "      <th>0.16</th>\n",
              "      <th>0.17</th>\n",
              "      <th>0.18</th>\n",
              "      <th>0.19</th>\n",
              "      <th>0.20</th>\n",
              "      <th>0.21</th>\n",
              "      <th>0.22</th>\n",
              "      <th>0.23</th>\n",
              "      <th>0.24</th>\n",
              "      <th>0.25</th>\n",
              "      <th>0.26</th>\n",
              "      <th>0.27</th>\n",
              "      <th>0.28</th>\n",
              "      <th>0.29</th>\n",
              "      <th>0.30</th>\n",
              "      <th>0.31</th>\n",
              "      <th>0.32</th>\n",
              "      <th>0.33</th>\n",
              "      <th>0.34</th>\n",
              "      <th>0.35</th>\n",
              "      <th>0.36</th>\n",
              "      <th>0.37</th>\n",
              "      <th>0.38</th>\n",
              "      <th>...</th>\n",
              "      <th>0.551</th>\n",
              "      <th>0.552</th>\n",
              "      <th>0.553</th>\n",
              "      <th>0.554</th>\n",
              "      <th>0.555</th>\n",
              "      <th>0.556</th>\n",
              "      <th>0.557</th>\n",
              "      <th>0.558</th>\n",
              "      <th>0.559</th>\n",
              "      <th>0.560</th>\n",
              "      <th>0.561</th>\n",
              "      <th>0.562</th>\n",
              "      <th>0.563</th>\n",
              "      <th>0.564</th>\n",
              "      <th>0.565</th>\n",
              "      <th>0.566</th>\n",
              "      <th>0.567</th>\n",
              "      <th>0.568</th>\n",
              "      <th>0.569</th>\n",
              "      <th>0.570</th>\n",
              "      <th>0.571</th>\n",
              "      <th>0.572</th>\n",
              "      <th>0.573</th>\n",
              "      <th>0.574</th>\n",
              "      <th>0.575</th>\n",
              "      <th>0.576</th>\n",
              "      <th>0.577</th>\n",
              "      <th>0.578</th>\n",
              "      <th>0.579</th>\n",
              "      <th>0.580</th>\n",
              "      <th>0.581</th>\n",
              "      <th>0.582</th>\n",
              "      <th>0.583</th>\n",
              "      <th>0.584</th>\n",
              "      <th>0.585</th>\n",
              "      <th>0.586</th>\n",
              "      <th>0.587</th>\n",
              "      <th>0.588</th>\n",
              "      <th>0.589</th>\n",
              "      <th>0.590</th>\n",
              "    </tr>\n",
              "  </thead>\n",
              "  <tbody>\n",
              "    <tr>\n",
              "      <th>0</th>\n",
              "      <td>5</td>\n",
              "      <td>0</td>\n",
              "      <td>0</td>\n",
              "      <td>0</td>\n",
              "      <td>0</td>\n",
              "      <td>0</td>\n",
              "      <td>0</td>\n",
              "      <td>0</td>\n",
              "      <td>0</td>\n",
              "      <td>0</td>\n",
              "      <td>0</td>\n",
              "      <td>0</td>\n",
              "      <td>0</td>\n",
              "      <td>0</td>\n",
              "      <td>0</td>\n",
              "      <td>0</td>\n",
              "      <td>0</td>\n",
              "      <td>0</td>\n",
              "      <td>0</td>\n",
              "      <td>0</td>\n",
              "      <td>0</td>\n",
              "      <td>0</td>\n",
              "      <td>0</td>\n",
              "      <td>0</td>\n",
              "      <td>0</td>\n",
              "      <td>0</td>\n",
              "      <td>0</td>\n",
              "      <td>0</td>\n",
              "      <td>0</td>\n",
              "      <td>0</td>\n",
              "      <td>0</td>\n",
              "      <td>0</td>\n",
              "      <td>0</td>\n",
              "      <td>0</td>\n",
              "      <td>0</td>\n",
              "      <td>0</td>\n",
              "      <td>0</td>\n",
              "      <td>0</td>\n",
              "      <td>0</td>\n",
              "      <td>0</td>\n",
              "      <td>...</td>\n",
              "      <td>0</td>\n",
              "      <td>0</td>\n",
              "      <td>0</td>\n",
              "      <td>0</td>\n",
              "      <td>0</td>\n",
              "      <td>0</td>\n",
              "      <td>0</td>\n",
              "      <td>0</td>\n",
              "      <td>0</td>\n",
              "      <td>0</td>\n",
              "      <td>0</td>\n",
              "      <td>0</td>\n",
              "      <td>0</td>\n",
              "      <td>0</td>\n",
              "      <td>0</td>\n",
              "      <td>0</td>\n",
              "      <td>0</td>\n",
              "      <td>0</td>\n",
              "      <td>0</td>\n",
              "      <td>0</td>\n",
              "      <td>0</td>\n",
              "      <td>0</td>\n",
              "      <td>0</td>\n",
              "      <td>0</td>\n",
              "      <td>0</td>\n",
              "      <td>0</td>\n",
              "      <td>0</td>\n",
              "      <td>0</td>\n",
              "      <td>0</td>\n",
              "      <td>0</td>\n",
              "      <td>0</td>\n",
              "      <td>0</td>\n",
              "      <td>0</td>\n",
              "      <td>0</td>\n",
              "      <td>0</td>\n",
              "      <td>0</td>\n",
              "      <td>0</td>\n",
              "      <td>0</td>\n",
              "      <td>0</td>\n",
              "      <td>0</td>\n",
              "    </tr>\n",
              "    <tr>\n",
              "      <th>1</th>\n",
              "      <td>7</td>\n",
              "      <td>0</td>\n",
              "      <td>0</td>\n",
              "      <td>0</td>\n",
              "      <td>0</td>\n",
              "      <td>0</td>\n",
              "      <td>0</td>\n",
              "      <td>0</td>\n",
              "      <td>0</td>\n",
              "      <td>0</td>\n",
              "      <td>0</td>\n",
              "      <td>0</td>\n",
              "      <td>0</td>\n",
              "      <td>0</td>\n",
              "      <td>0</td>\n",
              "      <td>0</td>\n",
              "      <td>0</td>\n",
              "      <td>0</td>\n",
              "      <td>0</td>\n",
              "      <td>0</td>\n",
              "      <td>0</td>\n",
              "      <td>0</td>\n",
              "      <td>0</td>\n",
              "      <td>0</td>\n",
              "      <td>0</td>\n",
              "      <td>0</td>\n",
              "      <td>0</td>\n",
              "      <td>0</td>\n",
              "      <td>0</td>\n",
              "      <td>0</td>\n",
              "      <td>0</td>\n",
              "      <td>0</td>\n",
              "      <td>0</td>\n",
              "      <td>0</td>\n",
              "      <td>0</td>\n",
              "      <td>0</td>\n",
              "      <td>0</td>\n",
              "      <td>0</td>\n",
              "      <td>0</td>\n",
              "      <td>0</td>\n",
              "      <td>...</td>\n",
              "      <td>0</td>\n",
              "      <td>0</td>\n",
              "      <td>0</td>\n",
              "      <td>0</td>\n",
              "      <td>0</td>\n",
              "      <td>0</td>\n",
              "      <td>0</td>\n",
              "      <td>0</td>\n",
              "      <td>0</td>\n",
              "      <td>0</td>\n",
              "      <td>0</td>\n",
              "      <td>0</td>\n",
              "      <td>0</td>\n",
              "      <td>0</td>\n",
              "      <td>0</td>\n",
              "      <td>0</td>\n",
              "      <td>0</td>\n",
              "      <td>0</td>\n",
              "      <td>0</td>\n",
              "      <td>0</td>\n",
              "      <td>0</td>\n",
              "      <td>0</td>\n",
              "      <td>0</td>\n",
              "      <td>0</td>\n",
              "      <td>0</td>\n",
              "      <td>0</td>\n",
              "      <td>0</td>\n",
              "      <td>0</td>\n",
              "      <td>0</td>\n",
              "      <td>0</td>\n",
              "      <td>0</td>\n",
              "      <td>0</td>\n",
              "      <td>0</td>\n",
              "      <td>0</td>\n",
              "      <td>0</td>\n",
              "      <td>0</td>\n",
              "      <td>0</td>\n",
              "      <td>0</td>\n",
              "      <td>0</td>\n",
              "      <td>0</td>\n",
              "    </tr>\n",
              "    <tr>\n",
              "      <th>2</th>\n",
              "      <td>9</td>\n",
              "      <td>0</td>\n",
              "      <td>0</td>\n",
              "      <td>0</td>\n",
              "      <td>0</td>\n",
              "      <td>0</td>\n",
              "      <td>0</td>\n",
              "      <td>0</td>\n",
              "      <td>0</td>\n",
              "      <td>0</td>\n",
              "      <td>0</td>\n",
              "      <td>0</td>\n",
              "      <td>0</td>\n",
              "      <td>0</td>\n",
              "      <td>0</td>\n",
              "      <td>0</td>\n",
              "      <td>0</td>\n",
              "      <td>0</td>\n",
              "      <td>0</td>\n",
              "      <td>0</td>\n",
              "      <td>0</td>\n",
              "      <td>0</td>\n",
              "      <td>0</td>\n",
              "      <td>0</td>\n",
              "      <td>0</td>\n",
              "      <td>0</td>\n",
              "      <td>0</td>\n",
              "      <td>0</td>\n",
              "      <td>0</td>\n",
              "      <td>0</td>\n",
              "      <td>0</td>\n",
              "      <td>0</td>\n",
              "      <td>0</td>\n",
              "      <td>0</td>\n",
              "      <td>0</td>\n",
              "      <td>0</td>\n",
              "      <td>0</td>\n",
              "      <td>0</td>\n",
              "      <td>0</td>\n",
              "      <td>0</td>\n",
              "      <td>...</td>\n",
              "      <td>15</td>\n",
              "      <td>0</td>\n",
              "      <td>0</td>\n",
              "      <td>0</td>\n",
              "      <td>0</td>\n",
              "      <td>0</td>\n",
              "      <td>0</td>\n",
              "      <td>0</td>\n",
              "      <td>0</td>\n",
              "      <td>0</td>\n",
              "      <td>0</td>\n",
              "      <td>0</td>\n",
              "      <td>0</td>\n",
              "      <td>0</td>\n",
              "      <td>0</td>\n",
              "      <td>0</td>\n",
              "      <td>0</td>\n",
              "      <td>0</td>\n",
              "      <td>0</td>\n",
              "      <td>0</td>\n",
              "      <td>0</td>\n",
              "      <td>0</td>\n",
              "      <td>0</td>\n",
              "      <td>0</td>\n",
              "      <td>0</td>\n",
              "      <td>0</td>\n",
              "      <td>0</td>\n",
              "      <td>0</td>\n",
              "      <td>0</td>\n",
              "      <td>0</td>\n",
              "      <td>0</td>\n",
              "      <td>0</td>\n",
              "      <td>0</td>\n",
              "      <td>0</td>\n",
              "      <td>0</td>\n",
              "      <td>0</td>\n",
              "      <td>0</td>\n",
              "      <td>0</td>\n",
              "      <td>0</td>\n",
              "      <td>0</td>\n",
              "    </tr>\n",
              "    <tr>\n",
              "      <th>3</th>\n",
              "      <td>5</td>\n",
              "      <td>0</td>\n",
              "      <td>0</td>\n",
              "      <td>0</td>\n",
              "      <td>0</td>\n",
              "      <td>0</td>\n",
              "      <td>0</td>\n",
              "      <td>0</td>\n",
              "      <td>0</td>\n",
              "      <td>0</td>\n",
              "      <td>0</td>\n",
              "      <td>0</td>\n",
              "      <td>0</td>\n",
              "      <td>0</td>\n",
              "      <td>0</td>\n",
              "      <td>0</td>\n",
              "      <td>0</td>\n",
              "      <td>0</td>\n",
              "      <td>0</td>\n",
              "      <td>0</td>\n",
              "      <td>0</td>\n",
              "      <td>0</td>\n",
              "      <td>0</td>\n",
              "      <td>0</td>\n",
              "      <td>0</td>\n",
              "      <td>0</td>\n",
              "      <td>0</td>\n",
              "      <td>0</td>\n",
              "      <td>0</td>\n",
              "      <td>0</td>\n",
              "      <td>0</td>\n",
              "      <td>0</td>\n",
              "      <td>0</td>\n",
              "      <td>0</td>\n",
              "      <td>0</td>\n",
              "      <td>0</td>\n",
              "      <td>0</td>\n",
              "      <td>0</td>\n",
              "      <td>0</td>\n",
              "      <td>0</td>\n",
              "      <td>...</td>\n",
              "      <td>0</td>\n",
              "      <td>0</td>\n",
              "      <td>0</td>\n",
              "      <td>0</td>\n",
              "      <td>0</td>\n",
              "      <td>0</td>\n",
              "      <td>0</td>\n",
              "      <td>0</td>\n",
              "      <td>0</td>\n",
              "      <td>0</td>\n",
              "      <td>0</td>\n",
              "      <td>0</td>\n",
              "      <td>0</td>\n",
              "      <td>0</td>\n",
              "      <td>0</td>\n",
              "      <td>0</td>\n",
              "      <td>0</td>\n",
              "      <td>0</td>\n",
              "      <td>0</td>\n",
              "      <td>0</td>\n",
              "      <td>0</td>\n",
              "      <td>0</td>\n",
              "      <td>0</td>\n",
              "      <td>0</td>\n",
              "      <td>0</td>\n",
              "      <td>0</td>\n",
              "      <td>0</td>\n",
              "      <td>0</td>\n",
              "      <td>0</td>\n",
              "      <td>0</td>\n",
              "      <td>0</td>\n",
              "      <td>0</td>\n",
              "      <td>0</td>\n",
              "      <td>0</td>\n",
              "      <td>0</td>\n",
              "      <td>0</td>\n",
              "      <td>0</td>\n",
              "      <td>0</td>\n",
              "      <td>0</td>\n",
              "      <td>0</td>\n",
              "    </tr>\n",
              "    <tr>\n",
              "      <th>4</th>\n",
              "      <td>2</td>\n",
              "      <td>0</td>\n",
              "      <td>0</td>\n",
              "      <td>0</td>\n",
              "      <td>0</td>\n",
              "      <td>0</td>\n",
              "      <td>0</td>\n",
              "      <td>0</td>\n",
              "      <td>0</td>\n",
              "      <td>0</td>\n",
              "      <td>0</td>\n",
              "      <td>0</td>\n",
              "      <td>0</td>\n",
              "      <td>0</td>\n",
              "      <td>0</td>\n",
              "      <td>0</td>\n",
              "      <td>0</td>\n",
              "      <td>0</td>\n",
              "      <td>0</td>\n",
              "      <td>0</td>\n",
              "      <td>0</td>\n",
              "      <td>0</td>\n",
              "      <td>0</td>\n",
              "      <td>0</td>\n",
              "      <td>0</td>\n",
              "      <td>0</td>\n",
              "      <td>0</td>\n",
              "      <td>0</td>\n",
              "      <td>0</td>\n",
              "      <td>0</td>\n",
              "      <td>0</td>\n",
              "      <td>0</td>\n",
              "      <td>0</td>\n",
              "      <td>0</td>\n",
              "      <td>0</td>\n",
              "      <td>0</td>\n",
              "      <td>0</td>\n",
              "      <td>0</td>\n",
              "      <td>0</td>\n",
              "      <td>0</td>\n",
              "      <td>...</td>\n",
              "      <td>0</td>\n",
              "      <td>0</td>\n",
              "      <td>0</td>\n",
              "      <td>0</td>\n",
              "      <td>0</td>\n",
              "      <td>0</td>\n",
              "      <td>0</td>\n",
              "      <td>0</td>\n",
              "      <td>0</td>\n",
              "      <td>0</td>\n",
              "      <td>0</td>\n",
              "      <td>0</td>\n",
              "      <td>0</td>\n",
              "      <td>0</td>\n",
              "      <td>0</td>\n",
              "      <td>0</td>\n",
              "      <td>0</td>\n",
              "      <td>0</td>\n",
              "      <td>0</td>\n",
              "      <td>0</td>\n",
              "      <td>0</td>\n",
              "      <td>0</td>\n",
              "      <td>0</td>\n",
              "      <td>0</td>\n",
              "      <td>0</td>\n",
              "      <td>0</td>\n",
              "      <td>0</td>\n",
              "      <td>0</td>\n",
              "      <td>0</td>\n",
              "      <td>0</td>\n",
              "      <td>0</td>\n",
              "      <td>0</td>\n",
              "      <td>0</td>\n",
              "      <td>0</td>\n",
              "      <td>0</td>\n",
              "      <td>0</td>\n",
              "      <td>0</td>\n",
              "      <td>0</td>\n",
              "      <td>0</td>\n",
              "      <td>0</td>\n",
              "    </tr>\n",
              "  </tbody>\n",
              "</table>\n",
              "<p>5 rows × 785 columns</p>\n",
              "</div>"
            ],
            "text/plain": [
              "   6  0  0.1  0.2  0.3  0.4  ...  0.585  0.586  0.587  0.588  0.589  0.590\n",
              "0  5  0    0    0    0    0  ...      0      0      0      0      0      0\n",
              "1  7  0    0    0    0    0  ...      0      0      0      0      0      0\n",
              "2  9  0    0    0    0    0  ...      0      0      0      0      0      0\n",
              "3  5  0    0    0    0    0  ...      0      0      0      0      0      0\n",
              "4  2  0    0    0    0    0  ...      0      0      0      0      0      0\n",
              "\n",
              "[5 rows x 785 columns]"
            ]
          },
          "metadata": {
            "tags": []
          },
          "execution_count": 34
        }
      ]
    },
    {
      "cell_type": "code",
      "metadata": {
        "id": "rvmUr4Oeg9OO",
        "colab_type": "code",
        "colab": {}
      },
      "source": [
        ""
      ],
      "execution_count": 0,
      "outputs": []
    }
  ]
}