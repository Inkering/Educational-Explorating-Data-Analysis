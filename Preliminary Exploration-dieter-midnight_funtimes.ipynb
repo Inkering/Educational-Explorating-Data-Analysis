{
 "cells": [
  {
   "cell_type": "markdown",
   "metadata": {},
   "source": [
    "# Preliminary Exploration Notebook"
   ]
  },
  {
   "cell_type": "code",
   "execution_count": 1,
   "metadata": {
    "collapsed": true
   },
   "outputs": [],
   "source": [
    "import pandas as pd\n",
    "import numpy as np\n",
    "import matplotlib.mlab as mlab\n",
    "import matplotlib.pyplot as plt"
   ]
  },
  {
   "cell_type": "markdown",
   "metadata": {},
   "source": [
    "First, we load the data, which is split between two files. The first one is the actual data samples, and the second is a frame specificying additional details and descriptions about the data"
   ]
  },
  {
   "cell_type": "code",
   "execution_count": 2,
   "metadata": {
    "collapsed": false
   },
   "outputs": [
    {
     "name": "stderr",
     "output_type": "stream",
     "text": [
      "/usr/local/lib/python3.5/dist-packages/IPython/core/interactiveshell.py:2717: DtypeWarning: Columns (2,6,23,24,25,30,31,1828) have mixed types. Specify dtype option on import or set low_memory=False.\n",
      "  interactivity=interactivity, compiler=compiler, result=result)\n"
     ]
    }
   ],
   "source": [
    "school_data = pd.read_csv(\"data/CRDC 2015-16 School Data.csv\", encoding = \"ISO-8859-1\")\n",
    "school_layout = pd.read_csv(\"data/CRDC 2015-16 School Data Record Layout.csv\", encoding = \"ISO-8859-1\")\n",
    "school_data = school_data[school_data.SCH_GRADE_G09 =='Yes']\n",
    "school_data = school_data[school_data.SCH_GRADE_G10 == 'Yes']\n",
    "school_data = school_data[school_data.SCH_GRADE_G11 == 'Yes']\n",
    "school_data = school_data[school_data.SCH_GRADE_G12 == 'Yes']\n",
    "school_data = school_data[school_data.JJ == 'No']\n",
    "len(school_data)\n",
    "school_data.reset_index(drop=True,inplace=True)"
   ]
  },
  {
   "cell_type": "markdown",
   "metadata": {},
   "source": [
    "The need for the second frame becomes more obvious when we look at both the naming style of the main data columns and the sheer number of the columns."
   ]
  },
  {
   "cell_type": "code",
   "execution_count": 3,
   "metadata": {
    "collapsed": false
   },
   "outputs": [
    {
     "data": {
      "text/html": [
       "<div>\n",
       "<table border=\"1\" class=\"dataframe\">\n",
       "  <thead>\n",
       "    <tr style=\"text-align: right;\">\n",
       "      <th></th>\n",
       "      <th>LEA_STATE</th>\n",
       "      <th>LEA_STATE_NAME</th>\n",
       "      <th>LEAID</th>\n",
       "      <th>LEA_NAME</th>\n",
       "      <th>SCHID</th>\n",
       "      <th>SCH_NAME</th>\n",
       "      <th>COMBOKEY</th>\n",
       "      <th>JJ</th>\n",
       "      <th>SCH_GRADE_PS</th>\n",
       "      <th>SCH_GRADE_KG</th>\n",
       "      <th>...</th>\n",
       "      <th>SCH_FTESERVICES_PSY</th>\n",
       "      <th>SCH_FTESERVICES_SOC</th>\n",
       "      <th>SCH_JJTYPE</th>\n",
       "      <th>SCH_JJSYDAYS</th>\n",
       "      <th>SCH_JJHOURS</th>\n",
       "      <th>SCH_JJPART_LT15</th>\n",
       "      <th>SCH_JJPART_15T30</th>\n",
       "      <th>SCH_JJPART_31T90</th>\n",
       "      <th>SCH_JJPART_91T180</th>\n",
       "      <th>SCH_JJPART_OV180</th>\n",
       "    </tr>\n",
       "  </thead>\n",
       "  <tbody>\n",
       "    <tr>\n",
       "      <th>0</th>\n",
       "      <td>AL</td>\n",
       "      <td>ALABAMA</td>\n",
       "      <td>100002</td>\n",
       "      <td>Alabama Youth Services</td>\n",
       "      <td>1876</td>\n",
       "      <td>Alabama Youth Services</td>\n",
       "      <td>10000201876</td>\n",
       "      <td>No</td>\n",
       "      <td>No</td>\n",
       "      <td>No</td>\n",
       "      <td>...</td>\n",
       "      <td>0.0</td>\n",
       "      <td>0.0</td>\n",
       "      <td>-9</td>\n",
       "      <td>-9</td>\n",
       "      <td>-9</td>\n",
       "      <td>-9</td>\n",
       "      <td>-9</td>\n",
       "      <td>-9</td>\n",
       "      <td>-9</td>\n",
       "      <td>-9</td>\n",
       "    </tr>\n",
       "    <tr>\n",
       "      <th>1</th>\n",
       "      <td>AL</td>\n",
       "      <td>ALABAMA</td>\n",
       "      <td>100005</td>\n",
       "      <td>Albertville City</td>\n",
       "      <td>871</td>\n",
       "      <td>Albertville High Sch</td>\n",
       "      <td>10000500871</td>\n",
       "      <td>No</td>\n",
       "      <td>No</td>\n",
       "      <td>No</td>\n",
       "      <td>...</td>\n",
       "      <td>0.0</td>\n",
       "      <td>0.0</td>\n",
       "      <td>-9</td>\n",
       "      <td>-9</td>\n",
       "      <td>-9</td>\n",
       "      <td>-9</td>\n",
       "      <td>-9</td>\n",
       "      <td>-9</td>\n",
       "      <td>-9</td>\n",
       "      <td>-9</td>\n",
       "    </tr>\n",
       "    <tr>\n",
       "      <th>2</th>\n",
       "      <td>AL</td>\n",
       "      <td>ALABAMA</td>\n",
       "      <td>100006</td>\n",
       "      <td>Marshall County</td>\n",
       "      <td>872</td>\n",
       "      <td>Asbury Sch</td>\n",
       "      <td>10000600872</td>\n",
       "      <td>No</td>\n",
       "      <td>No</td>\n",
       "      <td>No</td>\n",
       "      <td>...</td>\n",
       "      <td>0.0</td>\n",
       "      <td>0.0</td>\n",
       "      <td>-9</td>\n",
       "      <td>-9</td>\n",
       "      <td>-9</td>\n",
       "      <td>-9</td>\n",
       "      <td>-9</td>\n",
       "      <td>-9</td>\n",
       "      <td>-9</td>\n",
       "      <td>-9</td>\n",
       "    </tr>\n",
       "    <tr>\n",
       "      <th>3</th>\n",
       "      <td>AL</td>\n",
       "      <td>ALABAMA</td>\n",
       "      <td>100006</td>\n",
       "      <td>Marshall County</td>\n",
       "      <td>878</td>\n",
       "      <td>Douglas High Sch</td>\n",
       "      <td>10000600878</td>\n",
       "      <td>No</td>\n",
       "      <td>No</td>\n",
       "      <td>No</td>\n",
       "      <td>...</td>\n",
       "      <td>0.0</td>\n",
       "      <td>0.0</td>\n",
       "      <td>-9</td>\n",
       "      <td>-9</td>\n",
       "      <td>-9</td>\n",
       "      <td>-9</td>\n",
       "      <td>-9</td>\n",
       "      <td>-9</td>\n",
       "      <td>-9</td>\n",
       "      <td>-9</td>\n",
       "    </tr>\n",
       "    <tr>\n",
       "      <th>4</th>\n",
       "      <td>AL</td>\n",
       "      <td>ALABAMA</td>\n",
       "      <td>100006</td>\n",
       "      <td>Marshall County</td>\n",
       "      <td>883</td>\n",
       "      <td>Kate D Smith DAR High Sch</td>\n",
       "      <td>10000600883</td>\n",
       "      <td>No</td>\n",
       "      <td>No</td>\n",
       "      <td>No</td>\n",
       "      <td>...</td>\n",
       "      <td>0.0</td>\n",
       "      <td>0.0</td>\n",
       "      <td>-9</td>\n",
       "      <td>-9</td>\n",
       "      <td>-9</td>\n",
       "      <td>-9</td>\n",
       "      <td>-9</td>\n",
       "      <td>-9</td>\n",
       "      <td>-9</td>\n",
       "      <td>-9</td>\n",
       "    </tr>\n",
       "  </tbody>\n",
       "</table>\n",
       "<p>5 rows × 1836 columns</p>\n",
       "</div>"
      ],
      "text/plain": [
       "  LEA_STATE LEA_STATE_NAME   LEAID                LEA_NAME  SCHID  \\\n",
       "0        AL        ALABAMA  100002  Alabama Youth Services   1876   \n",
       "1        AL        ALABAMA  100005        Albertville City    871   \n",
       "2        AL        ALABAMA  100006         Marshall County    872   \n",
       "3        AL        ALABAMA  100006         Marshall County    878   \n",
       "4        AL        ALABAMA  100006         Marshall County    883   \n",
       "\n",
       "                    SCH_NAME     COMBOKEY  JJ SCH_GRADE_PS SCH_GRADE_KG  \\\n",
       "0     Alabama Youth Services  10000201876  No           No           No   \n",
       "1       Albertville High Sch  10000500871  No           No           No   \n",
       "2                 Asbury Sch  10000600872  No           No           No   \n",
       "3           Douglas High Sch  10000600878  No           No           No   \n",
       "4  Kate D Smith DAR High Sch  10000600883  No           No           No   \n",
       "\n",
       "        ...        SCH_FTESERVICES_PSY SCH_FTESERVICES_SOC SCH_JJTYPE  \\\n",
       "0       ...                        0.0                 0.0         -9   \n",
       "1       ...                        0.0                 0.0         -9   \n",
       "2       ...                        0.0                 0.0         -9   \n",
       "3       ...                        0.0                 0.0         -9   \n",
       "4       ...                        0.0                 0.0         -9   \n",
       "\n",
       "  SCH_JJSYDAYS SCH_JJHOURS SCH_JJPART_LT15 SCH_JJPART_15T30 SCH_JJPART_31T90  \\\n",
       "0           -9          -9              -9               -9               -9   \n",
       "1           -9          -9              -9               -9               -9   \n",
       "2           -9          -9              -9               -9               -9   \n",
       "3           -9          -9              -9               -9               -9   \n",
       "4           -9          -9              -9               -9               -9   \n",
       "\n",
       "  SCH_JJPART_91T180 SCH_JJPART_OV180  \n",
       "0                -9               -9  \n",
       "1                -9               -9  \n",
       "2                -9               -9  \n",
       "3                -9               -9  \n",
       "4                -9               -9  \n",
       "\n",
       "[5 rows x 1836 columns]"
      ]
     },
     "execution_count": 3,
     "metadata": {},
     "output_type": "execute_result"
    }
   ],
   "source": [
    "school_data.head()"
   ]
  },
  {
   "cell_type": "markdown",
   "metadata": {},
   "source": [
    "In fact, we have 1836 columns of data to deal with! Some of it is very rich with information and dense, while other parts of it are incomplete or sparse."
   ]
  },
  {
   "cell_type": "code",
   "execution_count": 4,
   "metadata": {
    "collapsed": false
   },
   "outputs": [
    {
     "data": {
      "text/plain": [
       "(22474, 1836)"
      ]
     },
     "execution_count": 4,
     "metadata": {},
     "output_type": "execute_result"
    }
   ],
   "source": [
    "school_data.shape"
   ]
  },
  {
   "cell_type": "markdown",
   "metadata": {},
   "source": [
    "This is a function for linking a column code (in the main frame) and a additional description in the layout frame "
   ]
  },
  {
   "cell_type": "code",
   "execution_count": 5,
   "metadata": {
    "collapsed": false
   },
   "outputs": [
    {
     "data": {
      "text/plain": [
       "'1830    Justice Facility Educational Program Hours per Week'"
      ]
     },
     "execution_count": 5,
     "metadata": {},
     "output_type": "execute_result"
    }
   ],
   "source": [
    "def describe_column(column_code):\n",
    "    pd.set_option('display.max_colwidth', -1)\n",
    "    desc = school_layout[school_layout[\"Field_Name\"] == column_code][\"Field_Description\"].to_string()\n",
    "    return desc\n",
    "\n",
    "describe_column(\"SCH_JJHOURS\")"
   ]
  },
  {
   "cell_type": "markdown",
   "metadata": {},
   "source": [
    "A few interesting data features we need to consider:"
   ]
  },
  {
   "cell_type": "markdown",
   "metadata": {},
   "source": [
    "**Note:**  For cell values in the school data frame, negative numbers have special meanings as follows:  \n",
    "-2 means small cell values,  \n",
    "-5 means there is an action plan (next survey),  \n",
    "-6 Force Certified (missing data),  \n",
    "-7 System error,  \n",
    "-8 EDFacts Missing Data,  \n",
    "-9 means not applicable / skipped"
   ]
  },
  {
   "cell_type": "markdown",
   "metadata": {},
   "source": [
    "Then, let's look at the percent of each column which doesn't contain quantitative data."
   ]
  },
  {
   "cell_type": "code",
   "execution_count": 22,
   "metadata": {
    "collapsed": false
   },
   "outputs": [
    {
     "name": "stdout",
     "output_type": "stream",
     "text": [
      "LEA_STATE\n",
      "454\n"
     ]
    }
   ],
   "source": [
    "\n",
    "# print(len(school_data[school_data[\"LEA_STATE_NAME\"] == \"CALIFORNIA\"]))\n",
    "nul_vals = [-2,-5,-6,-7,-8,-9, '-2', '-5', '-6','-7','-8','-9']\n",
    "rates = []\n",
    "rates_full = []\n",
    "for (columnName, columnData) in school_data.iteritems():\n",
    "    error_rate = round(len(school_data[columnName][school_data[columnName].isin(nul_vals)])/school_data.shape[0], 3)\n",
    "    column_name = columnName\n",
    "    rates.append(error_rate)\n",
    "    rates_full.append([error_rate, column_name])\n",
    "    #print(error_rate, column_name)\n",
    "input_columns = []\n",
    "for [perc, name] in rates_full:\n",
    "    if perc == 0:\n",
    "        if school_data[name].dtype == 'int64':\n",
    "            input_columns.append(name)\n",
    "            \n",
    "print(len(input_columns))"
   ]
  },
  {
   "cell_type": "markdown",
   "metadata": {},
   "source": [
    "Heres a visualization of the usable portions of the data in terms of the percent present in the frame versus the length of the frame. Documentation in the dataset provided codes for what values are to be considered not present (missing data, have future plan for data)"
   ]
  },
  {
   "cell_type": "code",
   "execution_count": 7,
   "metadata": {
    "collapsed": false
   },
   "outputs": [
    {
     "data": {
      "image/png": "[encoded data removed]",
      "text/plain": [
       "<matplotlib.figure.Figure at 0x7fe094caab70>"
      ]
     },
     "metadata": {},
     "output_type": "display_data"
    }
   ],
   "source": [
    "fig, (ax0, ax1) = plt.subplots(ncols=2, figsize=(12, 4))\n",
    "ax0.hist(rates, len(rates), facecolor='blue', alpha=0.5)\n",
    "ax0.set_xlabel(\"percent not present\")\n",
    "ax0.set_ylabel(\"frequency\")\n",
    "ax0.set_title(\"school data sparseness quality (full bins)\")\n",
    "\n",
    "ax1.hist(rates, 50, facecolor='blue', alpha=0.5)\n",
    "ax1.set_xlabel(\"percent not present\")\n",
    "ax1.set_ylabel(\"frequency\")\n",
    "ax1.set_title(\"school data sparseness quality (scaled bins)\")\n",
    "\n",
    "fig.tight_layout()\n",
    "plt.show()"
   ]
  },
  {
   "cell_type": "markdown",
   "metadata": {},
   "source": [
    "For a particular column, let's look at all of the unique values present (types of data). This is an example in the data set of a column whose data would need to be replaced with dummy variables before any modeling could occur.\n"
   ]
  },
  {
   "cell_type": "code",
   "execution_count": 8,
   "metadata": {
    "collapsed": false
   },
   "outputs": [
    {
     "name": "stdout",
     "output_type": "stream",
     "text": [
      "238    Student Enrollment in Algebra I (Grades 11-12): Hispanic Male\n",
      "[  0   5   2  -9   8  14  11  17  20  35  23  38  41  80  47  26  59  53\n",
      "  29  68 128 143 161 158 167  83 101 110  32  74  77  44  56 125  50 116\n",
      "  71  65  89 134 206 182 239 212  62  92 209 278 215  86 122 173  95 140\n",
      " 269 104 146  -5 302 107]\n",
      "0        0 \n",
      "1        5 \n",
      "2        0 \n",
      "3        0 \n",
      "4        0 \n",
      "5        2 \n",
      "6        0 \n",
      "7        0 \n",
      "8        0 \n",
      "9        0 \n",
      "10       0 \n",
      "11       0 \n",
      "13       2 \n",
      "14       0 \n",
      "15       0 \n",
      "16       0 \n",
      "17       0 \n",
      "18       0 \n",
      "19       0 \n",
      "20       0 \n",
      "21       0 \n",
      "23       0 \n",
      "24       0 \n",
      "25       0 \n",
      "26       0 \n",
      "27       0 \n",
      "29       0 \n",
      "30       0 \n",
      "31       0 \n",
      "32       0 \n",
      "        .. \n",
      "22443    5 \n",
      "22444    0 \n",
      "22445    0 \n",
      "22446    0 \n",
      "22447    0 \n",
      "22448    0 \n",
      "22449    0 \n",
      "22450    0 \n",
      "22451    2 \n",
      "22452    0 \n",
      "22453    2 \n",
      "22454    0 \n",
      "22455    20\n",
      "22456    0 \n",
      "22457    0 \n",
      "22458    0 \n",
      "22459    0 \n",
      "22461    0 \n",
      "22462    0 \n",
      "22463    0 \n",
      "22464    0 \n",
      "22465    2 \n",
      "22466    0 \n",
      "22467    14\n",
      "22468    2 \n",
      "22469    0 \n",
      "22470    0 \n",
      "22471    0 \n",
      "22472    0 \n",
      "22473    0 \n",
      "Name: SCH_ALGENR_GS1112_HI_M, dtype: int64\n"
     ]
    }
   ],
   "source": [
    "column = \"SCH_ALGENR_GS1112_HI_M\"\n",
    "print(describe_column(\"SCH_ALGENR_GS1112_HI_M\")) # description of the data\n",
    "print(school_data[column].unique()) # types of values present in the dataset\n",
    "print(school_data[column][~school_data[column].isin(nul_vals)]) # non null data preview"
   ]
  },
  {
   "cell_type": "markdown",
   "metadata": {},
   "source": [
    "We have a few ranges of columns which we are interested in, specifically ones which in a rough way estimate the \"success\" of a school (which is a single row in our dataset). Before we can do much modeling on it, we need to look at the datatypes and which unique values are present in each column"
   ]
  },
  {
   "cell_type": "code",
   "execution_count": 9,
   "metadata": {
    "collapsed": true
   },
   "outputs": [],
   "source": [
    "ap_data = school_data.iloc[: , 492:657]\n",
    "sat_data = school_data.iloc[: , 679:698]\n",
    "math_data = school_data.iloc[: , 194:409]"
   ]
  },
  {
   "cell_type": "markdown",
   "metadata": {},
   "source": [
    "Print out the datatypes of the dataframes"
   ]
  },
  {
   "cell_type": "code",
   "execution_count": 10,
   "metadata": {
    "collapsed": false
   },
   "outputs": [
    {
     "name": "stdout",
     "output_type": "stream",
     "text": [
      "SCH_ALGENR_G07               int64 \n",
      "SCH_ALGENR_G08_IND           object\n",
      "SCH_ALGENR_G08_HI_M          int64 \n",
      "SCH_ALGENR_G08_HI_F          int64 \n",
      "SCH_ALGENR_G08_AM_M          int64 \n",
      "SCH_ALGENR_G08_AM_F          int64 \n",
      "SCH_ALGENR_G08_AS_M          int64 \n",
      "SCH_ALGENR_G08_AS_F          int64 \n",
      "SCH_ALGENR_G08_HP_M          int64 \n",
      "SCH_ALGENR_G08_HP_F          int64 \n",
      "SCH_ALGENR_G08_BL_M          int64 \n",
      "SCH_ALGENR_G08_BL_F          int64 \n",
      "SCH_ALGENR_G08_WH_M          int64 \n",
      "SCH_ALGENR_G08_WH_F          int64 \n",
      "SCH_ALGENR_G08_TR_M          int64 \n",
      "SCH_ALGENR_G08_TR_F          int64 \n",
      "TOT_ALGENR_G08_M             int64 \n",
      "TOT_ALGENR_G08_F             int64 \n",
      "SCH_ALGENR_G08_LEP_M         int64 \n",
      "SCH_ALGENR_G08_LEP_F         int64 \n",
      "SCH_ALGENR_G08_IDEA_M        int64 \n",
      "SCH_ALGENR_G08_IDEA_F        int64 \n",
      "SCH_MATHCLASSES_ALG          int64 \n",
      "SCH_MATHCERT_ALG             int64 \n",
      "SCH_ALGENR_GS0910_HI_M       int64 \n",
      "SCH_ALGENR_GS0910_HI_F       int64 \n",
      "SCH_ALGENR_GS0910_AM_M       int64 \n",
      "SCH_ALGENR_GS0910_AM_F       int64 \n",
      "SCH_ALGENR_GS0910_AS_M       int64 \n",
      "SCH_ALGENR_GS0910_AS_F       int64 \n",
      "SCH_ALGENR_GS0910_HP_M       int64 \n",
      "SCH_ALGENR_GS0910_HP_F       int64 \n",
      "SCH_ALGENR_GS0910_BL_M       int64 \n",
      "SCH_ALGENR_GS0910_BL_F       int64 \n",
      "SCH_ALGENR_GS0910_WH_M       int64 \n",
      "SCH_ALGENR_GS0910_WH_F       int64 \n",
      "SCH_ALGENR_GS0910_TR_M       int64 \n",
      "SCH_ALGENR_GS0910_TR_F       int64 \n",
      "TOT_ALGENR_GS0910_M          int64 \n",
      "TOT_ALGENR_GS0910_F          int64 \n",
      "SCH_ALGENR_GS0910_LEP_M      int64 \n",
      "SCH_ALGENR_GS0910_LEP_F      int64 \n",
      "SCH_ALGENR_GS0910_IDEA_M     int64 \n",
      "SCH_ALGENR_GS0910_IDEA_F     int64 \n",
      "SCH_ALGENR_GS1112_HI_M       int64 \n",
      "SCH_ALGENR_GS1112_HI_F       int64 \n",
      "SCH_ALGENR_GS1112_AM_M       int64 \n",
      "SCH_ALGENR_GS1112_AM_F       int64 \n",
      "SCH_ALGENR_GS1112_AS_M       int64 \n",
      "SCH_ALGENR_GS1112_AS_F       int64 \n",
      "SCH_ALGENR_GS1112_HP_M       int64 \n",
      "SCH_ALGENR_GS1112_HP_F       int64 \n",
      "SCH_ALGENR_GS1112_BL_M       int64 \n",
      "SCH_ALGENR_GS1112_BL_F       int64 \n",
      "SCH_ALGENR_GS1112_WH_M       int64 \n",
      "SCH_ALGENR_GS1112_WH_F       int64 \n",
      "SCH_ALGENR_GS1112_TR_M       int64 \n",
      "SCH_ALGENR_GS1112_TR_F       int64 \n",
      "TOT_ALGENR_GS1112_M          int64 \n",
      "TOT_ALGENR_GS1112_F          int64 \n",
      "SCH_ALGENR_GS1112_LEP_M      int64 \n",
      "SCH_ALGENR_GS1112_LEP_F      int64 \n",
      "SCH_ALGENR_GS1112_IDEA_M     int64 \n",
      "SCH_ALGENR_GS1112_IDEA_F     int64 \n",
      "SCH_ALGPASS_G07              int64 \n",
      "SCH_ALGPASS_G08_HI_M         int64 \n",
      "SCH_ALGPASS_G08_HI_F         int64 \n",
      "SCH_ALGPASS_G08_AM_M         int64 \n",
      "SCH_ALGPASS_G08_AM_F         int64 \n",
      "SCH_ALGPASS_G08_AS_M         int64 \n",
      "SCH_ALGPASS_G08_AS_F         int64 \n",
      "SCH_ALGPASS_G08_HP_M         int64 \n",
      "SCH_ALGPASS_G08_HP_F         int64 \n",
      "SCH_ALGPASS_G08_BL_M         int64 \n",
      "SCH_ALGPASS_G08_BL_F         int64 \n",
      "SCH_ALGPASS_G08_WH_M         int64 \n",
      "SCH_ALGPASS_G08_WH_F         int64 \n",
      "SCH_ALGPASS_G08_TR_M         int64 \n",
      "SCH_ALGPASS_G08_TR_F         int64 \n",
      "TOT_ALGPASS_G08_M            int64 \n",
      "TOT_ALGPASS_G08_F            int64 \n",
      "SCH_ALGPASS_G08_LEP_M        int64 \n",
      "SCH_ALGPASS_G08_LEP_F        int64 \n",
      "SCH_ALGPASS_G08_IDEA_M       int64 \n",
      "SCH_ALGPASS_G08_IDEA_F       int64 \n",
      "SCH_ALGPASS_GS0910_HI_M      int64 \n",
      "SCH_ALGPASS_GS0910_HI_F      int64 \n",
      "SCH_ALGPASS_GS0910_AM_M      int64 \n",
      "SCH_ALGPASS_GS0910_AM_F      int64 \n",
      "SCH_ALGPASS_GS0910_AS_M      int64 \n",
      "SCH_ALGPASS_GS0910_AS_F      int64 \n",
      "SCH_ALGPASS_GS0910_HP_M      int64 \n",
      "SCH_ALGPASS_GS0910_HP_F      int64 \n",
      "SCH_ALGPASS_GS0910_BL_M      int64 \n",
      "SCH_ALGPASS_GS0910_BL_F      int64 \n",
      "SCH_ALGPASS_GS0910_WH_M      int64 \n",
      "SCH_ALGPASS_GS0910_WH_F      int64 \n",
      "SCH_ALGPASS_GS0910_TR_M      int64 \n",
      "SCH_ALGPASS_GS0910_TR_F      int64 \n",
      "TOT_ALGPASS_GS0910_M         int64 \n",
      "TOT_ALGPASS_GS0910_F         int64 \n",
      "SCH_ALGPASS_GS0910_LEP_M     int64 \n",
      "SCH_ALGPASS_GS0910_LEP_F     int64 \n",
      "SCH_ALGPASS_GS0910_IDEA_M    int64 \n",
      "SCH_ALGPASS_GS0910_IDEA_F    int64 \n",
      "SCH_ALGPASS_GS1112_HI_M      int64 \n",
      "SCH_ALGPASS_GS1112_HI_F      int64 \n",
      "SCH_ALGPASS_GS1112_AM_M      int64 \n",
      "SCH_ALGPASS_GS1112_AM_F      int64 \n",
      "SCH_ALGPASS_GS1112_AS_M      int64 \n",
      "SCH_ALGPASS_GS1112_AS_F      int64 \n",
      "SCH_ALGPASS_GS1112_HP_M      int64 \n",
      "SCH_ALGPASS_GS1112_HP_F      int64 \n",
      "SCH_ALGPASS_GS1112_BL_M      int64 \n",
      "SCH_ALGPASS_GS1112_BL_F      int64 \n",
      "SCH_ALGPASS_GS1112_WH_M      int64 \n",
      "SCH_ALGPASS_GS1112_WH_F      int64 \n",
      "SCH_ALGPASS_GS1112_TR_M      int64 \n",
      "SCH_ALGPASS_GS1112_TR_F      int64 \n",
      "TOT_ALGPASS_GS1112_M         int64 \n",
      "TOT_ALGPASS_GS1112_F         int64 \n",
      "SCH_ALGPASS_GS1112_LEP_M     int64 \n",
      "SCH_ALGPASS_GS1112_LEP_F     int64 \n",
      "SCH_ALGPASS_GS1112_IDEA_M    int64 \n",
      "SCH_ALGPASS_GS1112_IDEA_F    int64 \n",
      "SCH_GEOMENR_G08_IND          object\n",
      "SCH_GEOMENR_G08              int64 \n",
      "SCH_MATHCERT_GEOM            int64 \n",
      "SCH_MATHCLASSES_GEOM         int64 \n",
      "SCH_MATHENR_GEOM_HI_M        int64 \n",
      "SCH_MATHENR_GEOM_HI_F        int64 \n",
      "SCH_MATHENR_GEOM_AM_M        int64 \n",
      "SCH_MATHENR_GEOM_AM_F        int64 \n",
      "SCH_MATHENR_GEOM_AS_M        int64 \n",
      "SCH_MATHENR_GEOM_AS_F        int64 \n",
      "SCH_MATHENR_GEOM_HP_M        int64 \n",
      "SCH_MATHENR_GEOM_HP_F        int64 \n",
      "SCH_MATHENR_GEOM_BL_M        int64 \n",
      "SCH_MATHENR_GEOM_BL_F        int64 \n",
      "SCH_MATHENR_GEOM_WH_M        int64 \n",
      "SCH_MATHENR_GEOM_WH_F        int64 \n",
      "SCH_MATHENR_GEOM_TR_M        int64 \n",
      "SCH_MATHENR_GEOM_TR_F        int64 \n",
      "TOT_GEOM_M                   int64 \n",
      "TOT_GEOM_F                   int64 \n",
      "SCH_MATHENR_GEOM_LEP_M       int64 \n",
      "SCH_MATHENR_GEOM_LEP_F       int64 \n",
      "SCH_MATHENR_GEOM_IDEA_M      int64 \n",
      "SCH_MATHENR_GEOM_IDEA_F      int64 \n",
      "SCH_MATHCLASSES_ALG2         int64 \n",
      "SCH_MATHCERT_ALG2            int64 \n",
      "SCH_MATHENR_ALG2_HI_M        int64 \n",
      "SCH_MATHENR_ALG2_HI_F        int64 \n",
      "SCH_MATHENR_ALG2_AM_M        int64 \n",
      "SCH_MATHENR_ALG2_AM_F        int64 \n",
      "SCH_MATHENR_ALG2_AS_M        int64 \n",
      "SCH_MATHENR_ALG2_AS_F        int64 \n",
      "SCH_MATHENR_ALG2_HP_M        int64 \n",
      "SCH_MATHENR_ALG2_HP_F        int64 \n",
      "SCH_MATHENR_ALG2_BL_M        int64 \n",
      "SCH_MATHENR_ALG2_BL_F        int64 \n",
      "SCH_MATHENR_ALG2_WH_M        int64 \n",
      "SCH_MATHENR_ALG2_WH_F        int64 \n",
      "SCH_MATHENR_ALG2_TR_M        int64 \n",
      "SCH_MATHENR_ALG2_TR_F        int64 \n",
      "TOT_MATHENR_ALG2_M           int64 \n",
      "TOT_MATHENR_ALG2_F           int64 \n",
      "SCH_MATHENR_ALG2_LEP_M       int64 \n",
      "SCH_MATHENR_ALG2_LEP_F       int64 \n",
      "SCH_MATHENR_ALG2_IDEA_M      int64 \n",
      "SCH_MATHENR_ALG2_IDEA_F      int64 \n",
      "SCH_MATHCLASSES_CALC         int64 \n",
      "SCH_MATHCERT_CALC            int64 \n",
      "SCH_MATHENR_CALC_HI_M        int64 \n",
      "SCH_MATHENR_CALC_HI_F        int64 \n",
      "SCH_MATHENR_CALC_AM_M        int64 \n",
      "SCH_MATHENR_CALC_AM_F        int64 \n",
      "SCH_MATHENR_CALC_AS_M        int64 \n",
      "SCH_MATHENR_CALC_AS_F        int64 \n",
      "SCH_MATHENR_CALC_HP_M        int64 \n",
      "SCH_MATHENR_CALC_HP_F        int64 \n",
      "SCH_MATHENR_CALC_BL_M        int64 \n",
      "SCH_MATHENR_CALC_BL_F        int64 \n",
      "SCH_MATHENR_CALC_WH_M        int64 \n",
      "SCH_MATHENR_CALC_WH_F        int64 \n",
      "SCH_MATHENR_CALC_TR_M        int64 \n",
      "SCH_MATHENR_CALC_TR_F        int64 \n",
      "TOT_MATHENR_CALC_M           int64 \n",
      "TOT_MATHENR_CALC_F           int64 \n",
      "SCH_MATHENR_CALC_LEP_M       int64 \n",
      "SCH_MATHENR_CALC_LEP_F       int64 \n",
      "SCH_MATHENR_CALC_IDEA_M      int64 \n",
      "SCH_MATHENR_CALC_IDEA_F      int64 \n",
      "SCH_MATHCLASSES_ADVM         int64 \n",
      "SCH_MATHCERT_ADVM            int64 \n",
      "SCH_MATHENR_ADVM_HI_M        int64 \n",
      "SCH_MATHENR_ADVM_HI_F        int64 \n",
      "SCH_MATHENR_ADVM_AM_M        int64 \n",
      "SCH_MATHENR_ADVM_AM_F        int64 \n",
      "SCH_MATHENR_ADVM_AS_M        int64 \n",
      "SCH_MATHENR_ADVM_AS_F        int64 \n",
      "SCH_MATHENR_ADVM_HP_M        int64 \n",
      "SCH_MATHENR_ADVM_HP_F        int64 \n",
      "SCH_MATHENR_ADVM_BL_M        int64 \n",
      "SCH_MATHENR_ADVM_BL_F        int64 \n",
      "SCH_MATHENR_ADVM_WH_M        int64 \n",
      "SCH_MATHENR_ADVM_WH_F        int64 \n",
      "SCH_MATHENR_ADVM_TR_M        int64 \n",
      "SCH_MATHENR_ADVM_TR_F        int64 \n",
      "TOT_MATHENR_ADVM_M           int64 \n",
      "TOT_MATHENR_ADVM_F           int64 \n",
      "SCH_MATHENR_ADVM_LEP_M       int64 \n",
      "SCH_MATHENR_ADVM_LEP_F       int64 \n",
      "SCH_MATHENR_ADVM_IDEA_M      int64 \n",
      "SCH_MATHENR_ADVM_IDEA_F      int64 \n",
      "dtype: object\n"
     ]
    }
   ],
   "source": [
    "with pd.option_context('display.max_rows', None, 'display.max_columns', None):  # more options can be specified also\n",
    "#     print(ap_data.dtypes)\n",
    "#     print(sat_data.dtypes)\n",
    "    print(math_data.dtypes)"
   ]
  },
  {
   "cell_type": "markdown",
   "metadata": {},
   "source": [
    "Skipping back a bit, lets sort the columns by presence, to see which columns predominantly have non-null values."
   ]
  },
  {
   "cell_type": "code",
   "execution_count": 11,
   "metadata": {
    "collapsed": true
   },
   "outputs": [],
   "source": [
    "# sorted(rates_full, key = lambda x: x[0])"
   ]
  },
  {
   "cell_type": "code",
   "execution_count": 12,
   "metadata": {
    "collapsed": false
   },
   "outputs": [
    {
     "data": {
      "text/plain": [
       "'328    Student Enrollment in Geometry: Asian Female'"
      ]
     },
     "execution_count": 12,
     "metadata": {},
     "output_type": "execute_result"
    }
   ],
   "source": [
    "describe_column(\"SCH_MATHENR_GEOM_AS_F\")"
   ]
  },
  {
   "cell_type": "code",
   "execution_count": 13,
   "metadata": {
    "collapsed": false
   },
   "outputs": [
    {
     "name": "stdout",
     "output_type": "stream",
     "text": [
      "283    Students who passed Algebra I (Grades 9-10): Asian Male\n",
      "[ -2  10   4  -9  22   7  13  16  28  19  73  25 130 208 172  49  46  31\n",
      "  37 139  97  43  85  52  64  70 157  88 121  40  34  82  61  58 103 118\n",
      " 112  79  55 178 106  67 136 169 127 115  76 145  -5  -6  94 151 274 109\n",
      "  91]\n",
      "6        10\n",
      "7        4 \n",
      "8        4 \n",
      "9        4 \n",
      "43       4 \n",
      "45       4 \n",
      "51       4 \n",
      "145      4 \n",
      "155      4 \n",
      "189      4 \n",
      "198      4 \n",
      "199      4 \n",
      "216      4 \n",
      "275      10\n",
      "278      10\n",
      "280      10\n",
      "284      22\n",
      "295      4 \n",
      "299      4 \n",
      "334      4 \n",
      "338      4 \n",
      "368      4 \n",
      "369      4 \n",
      "455      7 \n",
      "467      13\n",
      "470      16\n",
      "472      10\n",
      "473      28\n",
      "478      16\n",
      "482      10\n",
      "         ..\n",
      "22145    13\n",
      "22147    10\n",
      "22148    22\n",
      "22149    16\n",
      "22150    16\n",
      "22153    13\n",
      "22157    10\n",
      "22158    4 \n",
      "22166    22\n",
      "22169    7 \n",
      "22176    4 \n",
      "22187    4 \n",
      "22189    4 \n",
      "22193    4 \n",
      "22201    4 \n",
      "22206    7 \n",
      "22213    10\n",
      "22218    7 \n",
      "22219    10\n",
      "22249    4 \n",
      "22282    40\n",
      "22283    34\n",
      "22324    7 \n",
      "22345    19\n",
      "22346    34\n",
      "22351    4 \n",
      "22352    10\n",
      "22357    4 \n",
      "22358    7 \n",
      "22371    7 \n",
      "Name: SCH_ALGPASS_GS0910_AS_M, dtype: int64\n",
      "0.857 SCH_ALGPASS_GS0910_AS_M\n"
     ]
    }
   ],
   "source": [
    "column = \"SCH_ALGPASS_GS0910_AS_M\"\n",
    "print(describe_column(column)) # description of the data\n",
    "print(school_data[column].unique()) # types of values present in the dataset\n",
    "print(school_data[column][~school_data[column].isin(nul_vals)]) # non null data preview\n",
    "# print(len(school_data[school_data[\"LEA_STATE_NAME\"] == \"CALIFORNIA\"]))\n",
    "nul_vals = [-2,-5,-6,-7,-8,-9, '-2', '-5', '-6','-7','-8','-9']\n",
    "rates = []\n",
    "rates_full = []\n",
    "columnName = column\n",
    "columnData = school_data[column]\n",
    "error_rate = round(len(school_data[columnName][school_data[columnName].isin(nul_vals)])/school_data.shape[0], 3)\n",
    "column_name = columnName\n",
    "rates.append(error_rate)\n",
    "rates_full.append([error_rate, column_name])\n",
    "print(error_rate, column_name)"
   ]
  },
  {
   "cell_type": "code",
   "execution_count": 14,
   "metadata": {
    "collapsed": true
   },
   "outputs": [],
   "source": [
    "from sklearn.linear_model import LinearRegression\n",
    "from sklearn.model_selection import train_test_split"
   ]
  },
  {
   "cell_type": "code",
   "execution_count": 15,
   "metadata": {
    "collapsed": true
   },
   "outputs": [],
   "source": [
    "def linear_regression(X, y):\n",
    "    w, _, _, _ = np.linalg.lstsq(X, y, rcond=-1)\n",
    "    return w"
   ]
  },
  {
   "cell_type": "code",
   "execution_count": 16,
   "metadata": {
    "collapsed": true
   },
   "outputs": [],
   "source": [
    "def fit_model(dfx, dfy, cols):\n",
    "    # Note: this is might not really be a fair way to do a training / testing split\n",
    "    # since it will result in instances that were very close in time falling in\n",
    "    # both the training and testing set\n",
    "    X_train, X_test, y_train, y_test = \\\n",
    "        train_test_split(dfx, dfy)\n",
    "\n",
    "    model = LinearRegression()\n",
    "    model.fit(X_train, y_train)\n",
    "    for i, c in enumerate(cols):\n",
    "      print('w_%d (the weight for %s) = %f' % (i+1, c, model.coef_[i]))\n",
    "    \n",
    "    print('w_%d (the weight for the bias term) = %f' % (len(cols) + 1, model.intercept_))\n",
    "\n",
    "    print(\"\\ny actual is within 5 of y predicted:\")\n",
    "    print('Accuracy on training set', (abs(model.predict(X_train) - y_train)<5).mean())\n",
    "    print('Accuracy on testing set', (abs(model.predict(X_test) - y_test)<5).mean())\n",
    "    print(\"\\ny actual is within 10 of y predicted:\")\n",
    "    print('Accuracy on training set', (abs(model.predict(X_train) - y_train)<10).mean())\n",
    "    print('Accuracy on testing set', (abs(model.predict(X_test) - y_test)<10).mean())\n",
    "    return model"
   ]
  },
  {
   "cell_type": "code",
   "execution_count": null,
   "metadata": {
    "collapsed": true
   },
   "outputs": [],
   "source": []
  }
 ],
 "metadata": {
  "kernelspec": {
   "display_name": "Python 3",
   "language": "python",
   "name": "python3"
  },
  "language_info": {
   "codemirror_mode": {
    "name": "ipython",
    "version": 3
   },
   "file_extension": ".py",
   "mimetype": "text/x-python",
   "name": "python",
   "nbconvert_exporter": "python",
   "pygments_lexer": "ipython3",
   "version": "3.5.2"
  }
 },
 "nbformat": 4,
 "nbformat_minor": 4
}
