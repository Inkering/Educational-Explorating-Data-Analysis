{
 "cells": [
  {
   "cell_type": "markdown",
   "metadata": {},
   "source": [
    "# Preliminary Exploration Notebook"
   ]
  },
  {
   "cell_type": "code",
   "execution_count": 2,
   "metadata": {},
   "outputs": [],
   "source": [
    "import pandas as pd\n",
    "import numpy as np\n",
    "import matplotlib.mlab as mlab\n",
    "import matplotlib.pyplot as plt"
   ]
  },
  {
   "cell_type": "markdown",
   "metadata": {},
   "source": [
    "First, we load the data, which is split between two files. The first one is the actual data samples, and the second is a frame specificying additional details and descriptions about the data"
   ]
  },
  {
   "cell_type": "code",
   "execution_count": 3,
   "metadata": {},
   "outputs": [
    {
     "name": "stderr",
     "output_type": "stream",
     "text": [
      "/Users/dieterbrehm/opt/anaconda3/lib/python3.7/site-packages/IPython/core/interactiveshell.py:3058: DtypeWarning: Columns (2,6,23,24,25,30,31,1828) have mixed types. Specify dtype option on import or set low_memory=False.\n",
      "  interactivity=interactivity, compiler=compiler, result=result)\n"
     ]
    }
   ],
   "source": [
    "school_data = pd.read_csv(\"data/CRDC 2015-16 School Data.csv\", encoding = \"ISO-8859-1\")\n",
    "school_layout = pd.read_csv(\"data/CRDC 2015-16 School Data Record Layout.csv\", encoding = \"ISO-8859-1\")"
   ]
  },
  {
   "cell_type": "markdown",
   "metadata": {},
   "source": [
    "The need for the second frame becomes more obvious when we look at both the naming style of the main data columns and the sheer number of the columns."
   ]
  },
  {
   "cell_type": "code",
   "execution_count": 4,
   "metadata": {},
   "outputs": [
    {
     "data": {
      "text/html": [
       "<div>\n",
       "<style scoped>\n",
       "    .dataframe tbody tr th:only-of-type {\n",
       "        vertical-align: middle;\n",
       "    }\n",
       "\n",
       "    .dataframe tbody tr th {\n",
       "        vertical-align: top;\n",
       "    }\n",
       "\n",
       "    .dataframe thead th {\n",
       "        text-align: right;\n",
       "    }\n",
       "</style>\n",
       "<table border=\"1\" class=\"dataframe\">\n",
       "  <thead>\n",
       "    <tr style=\"text-align: right;\">\n",
       "      <th></th>\n",
       "      <th>LEA_STATE</th>\n",
       "      <th>LEA_STATE_NAME</th>\n",
       "      <th>LEAID</th>\n",
       "      <th>LEA_NAME</th>\n",
       "      <th>SCHID</th>\n",
       "      <th>SCH_NAME</th>\n",
       "      <th>COMBOKEY</th>\n",
       "      <th>JJ</th>\n",
       "      <th>SCH_GRADE_PS</th>\n",
       "      <th>SCH_GRADE_KG</th>\n",
       "      <th>...</th>\n",
       "      <th>SCH_FTESERVICES_PSY</th>\n",
       "      <th>SCH_FTESERVICES_SOC</th>\n",
       "      <th>SCH_JJTYPE</th>\n",
       "      <th>SCH_JJSYDAYS</th>\n",
       "      <th>SCH_JJHOURS</th>\n",
       "      <th>SCH_JJPART_LT15</th>\n",
       "      <th>SCH_JJPART_15T30</th>\n",
       "      <th>SCH_JJPART_31T90</th>\n",
       "      <th>SCH_JJPART_91T180</th>\n",
       "      <th>SCH_JJPART_OV180</th>\n",
       "    </tr>\n",
       "  </thead>\n",
       "  <tbody>\n",
       "    <tr>\n",
       "      <td>0</td>\n",
       "      <td>AL</td>\n",
       "      <td>ALABAMA</td>\n",
       "      <td>100002</td>\n",
       "      <td>Alabama Youth Services</td>\n",
       "      <td>1705</td>\n",
       "      <td>Wallace Sch - Mt Meigs Campus</td>\n",
       "      <td>10000201705</td>\n",
       "      <td>Yes</td>\n",
       "      <td>No</td>\n",
       "      <td>No</td>\n",
       "      <td>...</td>\n",
       "      <td>2.0</td>\n",
       "      <td>0.0</td>\n",
       "      <td>-7</td>\n",
       "      <td>-7</td>\n",
       "      <td>-7</td>\n",
       "      <td>-7</td>\n",
       "      <td>-7</td>\n",
       "      <td>-7</td>\n",
       "      <td>-7</td>\n",
       "      <td>-7</td>\n",
       "    </tr>\n",
       "    <tr>\n",
       "      <td>1</td>\n",
       "      <td>AL</td>\n",
       "      <td>ALABAMA</td>\n",
       "      <td>100002</td>\n",
       "      <td>Alabama Youth Services</td>\n",
       "      <td>1706</td>\n",
       "      <td>McNeel Sch - Vacca Campus</td>\n",
       "      <td>10000201706</td>\n",
       "      <td>Yes</td>\n",
       "      <td>No</td>\n",
       "      <td>No</td>\n",
       "      <td>...</td>\n",
       "      <td>1.0</td>\n",
       "      <td>0.0</td>\n",
       "      <td>-7</td>\n",
       "      <td>-7</td>\n",
       "      <td>-7</td>\n",
       "      <td>-7</td>\n",
       "      <td>-7</td>\n",
       "      <td>-7</td>\n",
       "      <td>-7</td>\n",
       "      <td>-7</td>\n",
       "    </tr>\n",
       "    <tr>\n",
       "      <td>2</td>\n",
       "      <td>AL</td>\n",
       "      <td>ALABAMA</td>\n",
       "      <td>100002</td>\n",
       "      <td>Alabama Youth Services</td>\n",
       "      <td>1876</td>\n",
       "      <td>Alabama Youth Services</td>\n",
       "      <td>10000201876</td>\n",
       "      <td>No</td>\n",
       "      <td>No</td>\n",
       "      <td>No</td>\n",
       "      <td>...</td>\n",
       "      <td>0.0</td>\n",
       "      <td>0.0</td>\n",
       "      <td>-9</td>\n",
       "      <td>-9</td>\n",
       "      <td>-9</td>\n",
       "      <td>-9</td>\n",
       "      <td>-9</td>\n",
       "      <td>-9</td>\n",
       "      <td>-9</td>\n",
       "      <td>-9</td>\n",
       "    </tr>\n",
       "    <tr>\n",
       "      <td>3</td>\n",
       "      <td>AL</td>\n",
       "      <td>ALABAMA</td>\n",
       "      <td>100002</td>\n",
       "      <td>Alabama Youth Services</td>\n",
       "      <td>99995</td>\n",
       "      <td>AUTAUGA CAMPUS</td>\n",
       "      <td>10000299995</td>\n",
       "      <td>Yes</td>\n",
       "      <td>No</td>\n",
       "      <td>No</td>\n",
       "      <td>...</td>\n",
       "      <td>0.0</td>\n",
       "      <td>0.0</td>\n",
       "      <td>-7</td>\n",
       "      <td>-7</td>\n",
       "      <td>-7</td>\n",
       "      <td>-7</td>\n",
       "      <td>-7</td>\n",
       "      <td>-7</td>\n",
       "      <td>-7</td>\n",
       "      <td>-7</td>\n",
       "    </tr>\n",
       "    <tr>\n",
       "      <td>4</td>\n",
       "      <td>AL</td>\n",
       "      <td>ALABAMA</td>\n",
       "      <td>100005</td>\n",
       "      <td>Albertville City</td>\n",
       "      <td>870</td>\n",
       "      <td>Albertville Middle School</td>\n",
       "      <td>10000500870</td>\n",
       "      <td>No</td>\n",
       "      <td>No</td>\n",
       "      <td>No</td>\n",
       "      <td>...</td>\n",
       "      <td>0.0</td>\n",
       "      <td>0.0</td>\n",
       "      <td>-9</td>\n",
       "      <td>-9</td>\n",
       "      <td>-9</td>\n",
       "      <td>-9</td>\n",
       "      <td>-9</td>\n",
       "      <td>-9</td>\n",
       "      <td>-9</td>\n",
       "      <td>-9</td>\n",
       "    </tr>\n",
       "  </tbody>\n",
       "</table>\n",
       "<p>5 rows × 1836 columns</p>\n",
       "</div>"
      ],
      "text/plain": [
       "  LEA_STATE LEA_STATE_NAME   LEAID                LEA_NAME  SCHID  \\\n",
       "0        AL        ALABAMA  100002  Alabama Youth Services   1705   \n",
       "1        AL        ALABAMA  100002  Alabama Youth Services   1706   \n",
       "2        AL        ALABAMA  100002  Alabama Youth Services   1876   \n",
       "3        AL        ALABAMA  100002  Alabama Youth Services  99995   \n",
       "4        AL        ALABAMA  100005        Albertville City    870   \n",
       "\n",
       "                        SCH_NAME     COMBOKEY   JJ SCH_GRADE_PS SCH_GRADE_KG  \\\n",
       "0  Wallace Sch - Mt Meigs Campus  10000201705  Yes           No           No   \n",
       "1      McNeel Sch - Vacca Campus  10000201706  Yes           No           No   \n",
       "2         Alabama Youth Services  10000201876   No           No           No   \n",
       "3                 AUTAUGA CAMPUS  10000299995  Yes           No           No   \n",
       "4      Albertville Middle School  10000500870   No           No           No   \n",
       "\n",
       "   ... SCH_FTESERVICES_PSY SCH_FTESERVICES_SOC SCH_JJTYPE SCH_JJSYDAYS  \\\n",
       "0  ...                 2.0                 0.0         -7           -7   \n",
       "1  ...                 1.0                 0.0         -7           -7   \n",
       "2  ...                 0.0                 0.0         -9           -9   \n",
       "3  ...                 0.0                 0.0         -7           -7   \n",
       "4  ...                 0.0                 0.0         -9           -9   \n",
       "\n",
       "  SCH_JJHOURS SCH_JJPART_LT15 SCH_JJPART_15T30 SCH_JJPART_31T90  \\\n",
       "0          -7              -7               -7               -7   \n",
       "1          -7              -7               -7               -7   \n",
       "2          -9              -9               -9               -9   \n",
       "3          -7              -7               -7               -7   \n",
       "4          -9              -9               -9               -9   \n",
       "\n",
       "  SCH_JJPART_91T180 SCH_JJPART_OV180  \n",
       "0                -7               -7  \n",
       "1                -7               -7  \n",
       "2                -9               -9  \n",
       "3                -7               -7  \n",
       "4                -9               -9  \n",
       "\n",
       "[5 rows x 1836 columns]"
      ]
     },
     "execution_count": 4,
     "metadata": {},
     "output_type": "execute_result"
    }
   ],
   "source": [
    "school_data.head()"
   ]
  },
  {
   "cell_type": "markdown",
   "metadata": {},
   "source": [
    "In fact, we have 1836 columns of data to deal with! Some of it is very rich with information and dense, while other parts of it are incomplete or sparse."
   ]
  },
  {
   "cell_type": "code",
   "execution_count": 5,
   "metadata": {},
   "outputs": [
    {
     "data": {
      "text/plain": [
       "(96360, 1836)"
      ]
     },
     "execution_count": 5,
     "metadata": {},
     "output_type": "execute_result"
    }
   ],
   "source": [
    "school_data.shape"
   ]
  },
  {
   "cell_type": "markdown",
   "metadata": {},
   "source": [
    "This is a function for linking a column code (in the main frame) and a additional description in the layout frame "
   ]
  },
  {
   "cell_type": "code",
   "execution_count": 6,
   "metadata": {},
   "outputs": [
    {
     "data": {
      "text/plain": [
       "'1830    Justice Facility Educational Program Hours per Week'"
      ]
     },
     "execution_count": 6,
     "metadata": {},
     "output_type": "execute_result"
    }
   ],
   "source": [
    "def describe_column(column_code):\n",
    "    pd.set_option('display.max_colwidth', -1)\n",
    "    desc = school_layout[school_layout[\"Field_Name\"] == column_code][\"Field_Description\"].to_string()\n",
    "    return desc\n",
    "\n",
    "describe_column(\"SCH_JJHOURS\")"
   ]
  },
  {
   "cell_type": "markdown",
   "metadata": {},
   "source": [
    "A few interesting data features we need to consider:"
   ]
  },
  {
   "cell_type": "markdown",
   "metadata": {},
   "source": [
    "**Note:**  For cell values in the school data frame, negative numbers have special meanings as follows:  \n",
    "-2 means small cell values,  \n",
    "-5 means there is an action plan (next survey),  \n",
    "-6 Force Certified (missing data),  \n",
    "-7 System error,  \n",
    "-8 EDFacts Missing Data,  \n",
    "-9 means not applicable / skipped"
   ]
  },
  {
   "cell_type": "markdown",
   "metadata": {},
   "source": [
    "Then, let's look at the percent of each column which doesn't contain quantitative data."
   ]
  },
  {
   "cell_type": "code",
   "execution_count": 7,
   "metadata": {},
   "outputs": [],
   "source": [
    "# print(len(school_data[school_data[\"LEA_STATE_NAME\"] == \"CALIFORNIA\"]))\n",
    "nul_vals = [-2,-5,-6,-7,-8,-9, '-2', '-5', '-6','-7','-8','-9']\n",
    "rates = []\n",
    "rates_full = []\n",
    "for (columnName, columnData) in school_data.iteritems():\n",
    "    error_rate = round(len(school_data[columnName][school_data[columnName].isin(nul_vals)])/school_data.shape[0], 3)\n",
    "    column_name = columnName\n",
    "    rates.append(error_rate)\n",
    "    rates_full.append([error_rate, column_name])\n",
    "#     print(error_rate, column_name)"
   ]
  },
  {
   "cell_type": "markdown",
   "metadata": {},
   "source": [
    "Heres a visualization of the usable portions of the data in terms of the percent present in the frame versus the length of the frame. Documentation in the dataset provided codes for what values are to be considered not present (missing data, have future plan for data)"
   ]
  },
  {
   "cell_type": "code",
   "execution_count": 8,
   "metadata": {},
   "outputs": [
    {
     "data": {
      "image/png": "[encoded data removed]",
      "text/plain": [
       "<Figure size 864x288 with 2 Axes>"
      ]
     },
     "metadata": {
      "needs_background": "light"
     },
     "output_type": "display_data"
    }
   ],
   "source": [
    "fig, (ax0, ax1) = plt.subplots(ncols=2, figsize=(12, 4))\n",
    "ax0.hist(rates, len(rates), facecolor='blue', alpha=0.5)\n",
    "ax0.set_xlabel(\"percent not present\")\n",
    "ax0.set_ylabel(\"frequency\")\n",
    "ax0.set_title(\"school data sparseness quality (full bins)\")\n",
    "\n",
    "ax1.hist(rates, 50, facecolor='blue', alpha=0.5)\n",
    "ax1.set_xlabel(\"percent not present\")\n",
    "ax1.set_ylabel(\"frequency\")\n",
    "ax1.set_title(\"school data sparseness quality (scaled bins)\")\n",
    "\n",
    "fig.tight_layout()\n",
    "plt.show()"
   ]
  },
  {
   "cell_type": "markdown",
   "metadata": {},
   "source": [
    "For a particular column, let's look at all of the unique values present (types of data). This is an example in the data set of a column whose data would need to be replaced with dummy variables before any modeling could occur.\n"
   ]
  },
  {
   "cell_type": "code",
   "execution_count": 26,
   "metadata": {},
   "outputs": [
    {
     "name": "stdout",
     "output_type": "stream",
     "text": [
      "238    Student Enrollment in Algebra I (Grades 11-12): Hispanic Male\n",
      "[  0  -9   5   2   8  14  11  17  20  35  23  38  41  80  47  26  59  53\n",
      "  29  68 128 143 161 158 167  83 101 110  32  74  77  44  56 125  50 116\n",
      "  65 107  71  89 134 206 182 239 212  62  92 209 278 215  86 122 173  95\n",
      " 137 140 269 227 104 146  -5 302]\n",
      "0        0\n",
      "1        0\n",
      "2        0\n",
      "3        0\n",
      "5        5\n",
      "        ..\n",
      "96355    0\n",
      "96356    0\n",
      "96357    2\n",
      "96358    0\n",
      "96359    0\n",
      "Name: SCH_ALGENR_GS1112_HI_M, Length: 21961, dtype: int64\n"
     ]
    }
   ],
   "source": [
    "column = \"SCH_ALGENR_GS1112_HI_M\"\n",
    "print(describe_column(\"SCH_ALGENR_GS1112_HI_M\")) # description of the data\n",
    "print(school_data[column].unique()) # types of values present in the dataset\n",
    "print(school_data[column][~school_data[column].isin(nul_vals)]) # non null data preview"
   ]
  },
  {
   "cell_type": "markdown",
   "metadata": {},
   "source": [
    "We have a few ranges of columns which we are interested in, specifically ones which in a rough way estimate the \"success\" of a school (which is a single row in our dataset). Before we can do much modeling on it, we need to look at the datatypes and which unique values are present in each column"
   ]
  },
  {
   "cell_type": "code",
   "execution_count": 29,
   "metadata": {},
   "outputs": [],
   "source": [
    "ap_data = school_data.iloc[: , 492:657]\n",
    "sat_data = school_data.iloc[: , 679:698]\n",
    "math_data = school_data.iloc[: , 194:319]"
   ]
  },
  {
   "cell_type": "markdown",
   "metadata": {},
   "source": [
    "Print out the datatypes of the dataframes"
   ]
  },
  {
   "cell_type": "code",
   "execution_count": 30,
   "metadata": {},
   "outputs": [
    {
     "name": "stdout",
     "output_type": "stream",
     "text": [
      "SCH_ALGENR_G07               int64 \n",
      "SCH_ALGENR_G08_IND           object\n",
      "SCH_ALGENR_G08_HI_M          int64 \n",
      "SCH_ALGENR_G08_HI_F          int64 \n",
      "SCH_ALGENR_G08_AM_M          int64 \n",
      "SCH_ALGENR_G08_AM_F          int64 \n",
      "SCH_ALGENR_G08_AS_M          int64 \n",
      "SCH_ALGENR_G08_AS_F          int64 \n",
      "SCH_ALGENR_G08_HP_M          int64 \n",
      "SCH_ALGENR_G08_HP_F          int64 \n",
      "SCH_ALGENR_G08_BL_M          int64 \n",
      "SCH_ALGENR_G08_BL_F          int64 \n",
      "SCH_ALGENR_G08_WH_M          int64 \n",
      "SCH_ALGENR_G08_WH_F          int64 \n",
      "SCH_ALGENR_G08_TR_M          int64 \n",
      "SCH_ALGENR_G08_TR_F          int64 \n",
      "TOT_ALGENR_G08_M             int64 \n",
      "TOT_ALGENR_G08_F             int64 \n",
      "SCH_ALGENR_G08_LEP_M         int64 \n",
      "SCH_ALGENR_G08_LEP_F         int64 \n",
      "SCH_ALGENR_G08_IDEA_M        int64 \n",
      "SCH_ALGENR_G08_IDEA_F        int64 \n",
      "SCH_MATHCLASSES_ALG          int64 \n",
      "SCH_MATHCERT_ALG             int64 \n",
      "SCH_ALGENR_GS0910_HI_M       int64 \n",
      "SCH_ALGENR_GS0910_HI_F       int64 \n",
      "SCH_ALGENR_GS0910_AM_M       int64 \n",
      "SCH_ALGENR_GS0910_AM_F       int64 \n",
      "SCH_ALGENR_GS0910_AS_M       int64 \n",
      "SCH_ALGENR_GS0910_AS_F       int64 \n",
      "SCH_ALGENR_GS0910_HP_M       int64 \n",
      "SCH_ALGENR_GS0910_HP_F       int64 \n",
      "SCH_ALGENR_GS0910_BL_M       int64 \n",
      "SCH_ALGENR_GS0910_BL_F       int64 \n",
      "SCH_ALGENR_GS0910_WH_M       int64 \n",
      "SCH_ALGENR_GS0910_WH_F       int64 \n",
      "SCH_ALGENR_GS0910_TR_M       int64 \n",
      "SCH_ALGENR_GS0910_TR_F       int64 \n",
      "TOT_ALGENR_GS0910_M          int64 \n",
      "TOT_ALGENR_GS0910_F          int64 \n",
      "SCH_ALGENR_GS0910_LEP_M      int64 \n",
      "SCH_ALGENR_GS0910_LEP_F      int64 \n",
      "SCH_ALGENR_GS0910_IDEA_M     int64 \n",
      "SCH_ALGENR_GS0910_IDEA_F     int64 \n",
      "SCH_ALGENR_GS1112_HI_M       int64 \n",
      "SCH_ALGENR_GS1112_HI_F       int64 \n",
      "SCH_ALGENR_GS1112_AM_M       int64 \n",
      "SCH_ALGENR_GS1112_AM_F       int64 \n",
      "SCH_ALGENR_GS1112_AS_M       int64 \n",
      "SCH_ALGENR_GS1112_AS_F       int64 \n",
      "SCH_ALGENR_GS1112_HP_M       int64 \n",
      "SCH_ALGENR_GS1112_HP_F       int64 \n",
      "SCH_ALGENR_GS1112_BL_M       int64 \n",
      "SCH_ALGENR_GS1112_BL_F       int64 \n",
      "SCH_ALGENR_GS1112_WH_M       int64 \n",
      "SCH_ALGENR_GS1112_WH_F       int64 \n",
      "SCH_ALGENR_GS1112_TR_M       int64 \n",
      "SCH_ALGENR_GS1112_TR_F       int64 \n",
      "TOT_ALGENR_GS1112_M          int64 \n",
      "TOT_ALGENR_GS1112_F          int64 \n",
      "SCH_ALGENR_GS1112_LEP_M      int64 \n",
      "SCH_ALGENR_GS1112_LEP_F      int64 \n",
      "SCH_ALGENR_GS1112_IDEA_M     int64 \n",
      "SCH_ALGENR_GS1112_IDEA_F     int64 \n",
      "SCH_ALGPASS_G07              int64 \n",
      "SCH_ALGPASS_G08_HI_M         int64 \n",
      "SCH_ALGPASS_G08_HI_F         int64 \n",
      "SCH_ALGPASS_G08_AM_M         int64 \n",
      "SCH_ALGPASS_G08_AM_F         int64 \n",
      "SCH_ALGPASS_G08_AS_M         int64 \n",
      "SCH_ALGPASS_G08_AS_F         int64 \n",
      "SCH_ALGPASS_G08_HP_M         int64 \n",
      "SCH_ALGPASS_G08_HP_F         int64 \n",
      "SCH_ALGPASS_G08_BL_M         int64 \n",
      "SCH_ALGPASS_G08_BL_F         int64 \n",
      "SCH_ALGPASS_G08_WH_M         int64 \n",
      "SCH_ALGPASS_G08_WH_F         int64 \n",
      "SCH_ALGPASS_G08_TR_M         int64 \n",
      "SCH_ALGPASS_G08_TR_F         int64 \n",
      "TOT_ALGPASS_G08_M            int64 \n",
      "TOT_ALGPASS_G08_F            int64 \n",
      "SCH_ALGPASS_G08_LEP_M        int64 \n",
      "SCH_ALGPASS_G08_LEP_F        int64 \n",
      "SCH_ALGPASS_G08_IDEA_M       int64 \n",
      "SCH_ALGPASS_G08_IDEA_F       int64 \n",
      "SCH_ALGPASS_GS0910_HI_M      int64 \n",
      "SCH_ALGPASS_GS0910_HI_F      int64 \n",
      "SCH_ALGPASS_GS0910_AM_M      int64 \n",
      "SCH_ALGPASS_GS0910_AM_F      int64 \n",
      "SCH_ALGPASS_GS0910_AS_M      int64 \n",
      "SCH_ALGPASS_GS0910_AS_F      int64 \n",
      "SCH_ALGPASS_GS0910_HP_M      int64 \n",
      "SCH_ALGPASS_GS0910_HP_F      int64 \n",
      "SCH_ALGPASS_GS0910_BL_M      int64 \n",
      "SCH_ALGPASS_GS0910_BL_F      int64 \n",
      "SCH_ALGPASS_GS0910_WH_M      int64 \n",
      "SCH_ALGPASS_GS0910_WH_F      int64 \n",
      "SCH_ALGPASS_GS0910_TR_M      int64 \n",
      "SCH_ALGPASS_GS0910_TR_F      int64 \n",
      "TOT_ALGPASS_GS0910_M         int64 \n",
      "TOT_ALGPASS_GS0910_F         int64 \n",
      "SCH_ALGPASS_GS0910_LEP_M     int64 \n",
      "SCH_ALGPASS_GS0910_LEP_F     int64 \n",
      "SCH_ALGPASS_GS0910_IDEA_M    int64 \n",
      "SCH_ALGPASS_GS0910_IDEA_F    int64 \n",
      "SCH_ALGPASS_GS1112_HI_M      int64 \n",
      "SCH_ALGPASS_GS1112_HI_F      int64 \n",
      "SCH_ALGPASS_GS1112_AM_M      int64 \n",
      "SCH_ALGPASS_GS1112_AM_F      int64 \n",
      "SCH_ALGPASS_GS1112_AS_M      int64 \n",
      "SCH_ALGPASS_GS1112_AS_F      int64 \n",
      "SCH_ALGPASS_GS1112_HP_M      int64 \n",
      "SCH_ALGPASS_GS1112_HP_F      int64 \n",
      "SCH_ALGPASS_GS1112_BL_M      int64 \n",
      "SCH_ALGPASS_GS1112_BL_F      int64 \n",
      "SCH_ALGPASS_GS1112_WH_M      int64 \n",
      "SCH_ALGPASS_GS1112_WH_F      int64 \n",
      "SCH_ALGPASS_GS1112_TR_M      int64 \n",
      "SCH_ALGPASS_GS1112_TR_F      int64 \n",
      "TOT_ALGPASS_GS1112_M         int64 \n",
      "TOT_ALGPASS_GS1112_F         int64 \n",
      "SCH_ALGPASS_GS1112_LEP_M     int64 \n",
      "SCH_ALGPASS_GS1112_LEP_F     int64 \n",
      "SCH_ALGPASS_GS1112_IDEA_M    int64 \n",
      "SCH_ALGPASS_GS1112_IDEA_F    int64 \n",
      "dtype: object\n"
     ]
    }
   ],
   "source": [
    "with pd.option_context('display.max_rows', None, 'display.max_columns', None):  # more options can be specified also\n",
    "#     print(ap_data.dtypes)\n",
    "#     print(sat_data.dtypes)\n",
    "    print(math_data.dtypes)"
   ]
  },
  {
   "cell_type": "markdown",
   "metadata": {},
   "source": [
    "Skipping back a bit, lets sort the columns by presence, to see which columns predominantly have non-null values."
   ]
  },
  {
   "cell_type": "code",
   "execution_count": 12,
   "metadata": {},
   "outputs": [],
   "source": [
    "# sorted(rates_full, key = lambda x: x[0])"
   ]
  },
  {
   "cell_type": "code",
   "execution_count": 33,
   "metadata": {},
   "outputs": [
    {
     "data": {
      "text/plain": [
       "'313    Students who passed Algebra I (Grades 11-12 or UG High School Age): Calculated Male Total'"
      ]
     },
     "execution_count": 33,
     "metadata": {},
     "output_type": "execute_result"
    }
   ],
   "source": [
    "describe_column(\"TOT_ALGPASS_GS1112_M\")"
   ]
  },
  {
   "cell_type": "code",
   "execution_count": 36,
   "metadata": {},
   "outputs": [
    {
     "name": "stdout",
     "output_type": "stream",
     "text": [
      "328    Student Enrollment in Geometry: Asian Female\n",
      "[  0  -9   2  26  14   5   8  35  11  32  20  68  23  17  41  50  53  29\n",
      " 137 206 149  38 170  59  56  47 182  77  62  86  71 101  74  65 119 146\n",
      " 155 128  95  92 140  80 179  44  89 110 131 104  98 209 164 122  83 230\n",
      " 152 116  -5 134 167 113 200 188 203 347 158 224 260 107]\n",
      "0        0\n",
      "1        0\n",
      "2        0\n",
      "5        0\n",
      "11       0\n",
      "        ..\n",
      "96349    0\n",
      "96356    0\n",
      "96357    0\n",
      "96358    0\n",
      "96359    0\n",
      "Name: SCH_MATHENR_GEOM_AS_F, Length: 22210, dtype: int64\n",
      "0.77 SCH_MATHENR_GEOM_AS_F\n"
     ]
    }
   ],
   "source": [
    "column = \"SCH_MATHENR_GEOM_AS_F\"\n",
    "print(describe_column(\"SCH_MATHENR_GEOM_AS_F\")) # description of the data\n",
    "print(school_data[column].unique()) # types of values present in the dataset\n",
    "print(school_data[column][~school_data[column].isin(nul_vals)]) # non null data preview\n",
    "# print(len(school_data[school_data[\"LEA_STATE_NAME\"] == \"CALIFORNIA\"]))\n",
    "nul_vals = [-2,-5,-6,-7,-8,-9, '-2', '-5', '-6','-7','-8','-9']\n",
    "rates = []\n",
    "rates_full = []\n",
    "columnName = \"SCH_MATHENR_GEOM_AS_F\"\n",
    "columnData = school_data[\"SCH_MATHENR_GEOM_AS_F\"]\n",
    "error_rate = round(len(school_data[columnName][school_data[columnName].isin(nul_vals)])/school_data.shape[0], 3)\n",
    "column_name = columnName\n",
    "rates.append(error_rate)\n",
    "rates_full.append([error_rate, column_name])\n",
    "print(error_rate, column_name)"
   ]
  },
  {
   "cell_type": "code",
   "execution_count": null,
   "metadata": {},
   "outputs": [],
   "source": []
  }
 ],
 "metadata": {
  "kernelspec": {
   "display_name": "Python 3",
   "language": "python",
   "name": "python3"
  },
  "language_info": {
   "codemirror_mode": {
    "name": "ipython",
    "version": 3
   },
   "file_extension": ".py",
   "mimetype": "text/x-python",
   "name": "python",
   "nbconvert_exporter": "python",
   "pygments_lexer": "ipython3",
   "version": "3.7.4"
  }
 },
 "nbformat": 4,
 "nbformat_minor": 4
}
